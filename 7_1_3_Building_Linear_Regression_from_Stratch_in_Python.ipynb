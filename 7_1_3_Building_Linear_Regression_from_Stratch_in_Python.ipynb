{
  "nbformat": 4,
  "nbformat_minor": 0,
  "metadata": {
    "colab": {
      "provenance": [],
      "authorship_tag": "ABX9TyMdfjnhRLF6R/rFaU+l/PTC",
      "include_colab_link": true
    },
    "kernelspec": {
      "name": "python3",
      "display_name": "Python 3"
    },
    "language_info": {
      "name": "python"
    }
  },
  "cells": [
    {
      "cell_type": "markdown",
      "metadata": {
        "id": "view-in-github",
        "colab_type": "text"
      },
      "source": [
        "<a href=\"https://colab.research.google.com/github/Nikita1013/Machine-Learning-with-Python/blob/master/7_1_3_Building_Linear_Regression_from_Stratch_in_Python.ipynb\" target=\"_parent\"><img src=\"https://colab.research.google.com/assets/colab-badge.svg\" alt=\"Open In Colab\"/></a>"
      ]
    },
    {
      "cell_type": "markdown",
      "source": [
        "Linear Regression:\n",
        "\n",
        "**Y = wX+b**\n",
        "\n",
        "Y --> dependent Variable\n",
        "\n",
        "X --> Indepennt Variable\n",
        "\n",
        "w --> weight\n",
        "\n",
        "b --> bias"
      ],
      "metadata": {
        "id": "mH_fs61YX8a9"
      }
    },
    {
      "cell_type": "markdown",
      "source": [
        "**Gradient Descent:**\n",
        "\n",
        "Gradient Descent is an optimized algorithm used for minimizing the loss function in various machine learning algorithms. It is used for updating the parameters of the learning model.\n",
        "\n",
        "w = w -a*dw\n",
        "\n",
        "b = b - a*db"
      ],
      "metadata": {
        "id": "6Gz3-Is4YCmq"
      }
    },
    {
      "cell_type": "markdown",
      "source": [
        "**Learning Rate :**\n",
        "\n",
        "Learning rate is a tuning parameter in an optimization algorithm that determines the step size at each iteration while moving toward a minimum of a loss function."
      ],
      "metadata": {
        "id": "u2EM9gO4YuQV"
      }
    },
    {
      "cell_type": "markdown",
      "source": [
        "![image.png](data:image/png;base64,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)"
      ],
      "metadata": {
        "id": "dESPKthgZbcJ"
      }
    },
    {
      "cell_type": "markdown",
      "source": [
        "![image.png](data:image/png;base64,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)"
      ],
      "metadata": {
        "id": "Ahkxyt7gZwh7"
      }
    },
    {
      "cell_type": "markdown",
      "source": [
        "Work Flow of the Linear Regression Model:\n",
        "\n",
        "Step-1 : Set Learning Rate & Number of Iterations; Initiate Random weight and bias value.\n",
        "\n",
        "Step-2 : Build Linear Regression Equation. (y = wx + b)\n",
        "\n",
        "Step-3 : Find the \"y pred\" value for given x value for the corresponding weight & bias.\n",
        "\n",
        "Step-4 : Check the loss function for these parameter values. (difference between \"y pred\" & \"true y\")\n",
        "\n",
        "Step-5 : Update the parameter values using Gradient Descent. (new weight & bias value)\n",
        "\n",
        "Step-6 : Step 3, 4, 5 are repeated till we get minimum loss function.\n",
        "\n",
        "Finally we will get the best model (best weight and bias value) as it has minimum loss fuction."
      ],
      "metadata": {
        "id": "OquYJ017HpVI"
      }
    },
    {
      "cell_type": "code",
      "execution_count": 1,
      "metadata": {
        "id": "EBhN3zEmW8rw"
      },
      "outputs": [],
      "source": [
        "# importing numpy library\n",
        "import numpy as np"
      ]
    },
    {
      "cell_type": "markdown",
      "source": [
        "**Linear Regression**"
      ],
      "metadata": {
        "id": "RVF4v1FnZ6i9"
      }
    },
    {
      "cell_type": "code",
      "source": [
        "class Linear_Regression():\n",
        "\n",
        "# initiating the parameters (learning _rate & no_of_iterations)\n",
        "  def __init__(self, learning_rate, no_of_iterations):\n",
        "    self.learning_rate = learning_rate\n",
        "    self.no_of_iterations = no_of_iterations\n",
        "\n",
        "\n",
        "  def fit(self, X, Y):\n",
        "\n",
        "    # number of training examples & number of testing examples\n",
        "\n",
        "    self.m, self.n = X.shape           # number of Rows(m) & Columns(n)\n",
        "\n",
        "    # initiating the weight and bias\n",
        "    self.w = np.zeros(self.n)\n",
        "    self.b = 0\n",
        "    self.X = X\n",
        "    self.Y = Y\n",
        "\n",
        "    # implementing Gradient Descent\n",
        "\n",
        "    for i in range(self.no_of_iterations):\n",
        "      self.update_weights()\n",
        "\n",
        "\n",
        "  def update_weights(self ):\n",
        "\n",
        "\n",
        "    Y_prediction = self.predict(self.X)\n",
        "\n",
        "    # calculate  gradients\n",
        "\n",
        "    dw = - (2 *(self.X.T).dot(self.Y - Y_prediction)) / self.m\n",
        "\n",
        "    db = - 2 * np.sum(self.Y - Y_prediction) / self.m\n",
        "\n",
        "    # updating the weights\n",
        "\n",
        "    self.w = self.w - self.learning_rate * dw\n",
        "\n",
        "    self.b = self.b - self.learning_rate * db\n",
        "\n",
        "\n",
        "# line function for prediction\n",
        "  def predict(self, X):\n",
        "\n",
        "    return X.dot(self.w) + self.b\n"
      ],
      "metadata": {
        "id": "ioZuBhsXX6h9"
      },
      "execution_count": 2,
      "outputs": []
    },
    {
      "cell_type": "markdown",
      "source": [
        "Using Linear Regression Model for Prediction"
      ],
      "metadata": {
        "id": "XLvAlPy4Hi3g"
      }
    },
    {
      "cell_type": "code",
      "source": [
        "# importing the dependencies\n",
        "import pandas as pd\n",
        "from sklearn.model_selection import train_test_split\n",
        "import matplotlib.pyplot as plt"
      ],
      "metadata": {
        "id": "1_eSkmOGG9z2"
      },
      "execution_count": 3,
      "outputs": []
    },
    {
      "cell_type": "markdown",
      "source": [
        "Data Pre-Processing"
      ],
      "metadata": {
        "id": "UXtKHRGVLB34"
      }
    },
    {
      "cell_type": "code",
      "source": [
        "# loading the data from csv file to pandas dataframe\n",
        "salary_data = pd.read_csv('/content/salary_data.csv')"
      ],
      "metadata": {
        "id": "WWmVJDLtK8ac"
      },
      "execution_count": 4,
      "outputs": []
    },
    {
      "cell_type": "code",
      "source": [
        "# printing the first 5 rows of the dataframe\n",
        "salary_data.head()"
      ],
      "metadata": {
        "colab": {
          "base_uri": "https://localhost:8080/",
          "height": 206
        },
        "id": "VtmlEcziLVgd",
        "outputId": "606e15a6-653a-42c9-ba2a-da0cba6e4da5"
      },
      "execution_count": 5,
      "outputs": [
        {
          "output_type": "execute_result",
          "data": {
            "text/plain": [
              "   YearsExperience  Salary\n",
              "0              1.1   39343\n",
              "1              1.3   46205\n",
              "2              1.5   37731\n",
              "3              2.0   43525\n",
              "4              2.2   39891"
            ],
            "text/html": [
              "\n",
              "  <div id=\"df-e6b7294b-abd9-4452-ae60-c064e1948932\" class=\"colab-df-container\">\n",
              "    <div>\n",
              "<style scoped>\n",
              "    .dataframe tbody tr th:only-of-type {\n",
              "        vertical-align: middle;\n",
              "    }\n",
              "\n",
              "    .dataframe tbody tr th {\n",
              "        vertical-align: top;\n",
              "    }\n",
              "\n",
              "    .dataframe thead th {\n",
              "        text-align: right;\n",
              "    }\n",
              "</style>\n",
              "<table border=\"1\" class=\"dataframe\">\n",
              "  <thead>\n",
              "    <tr style=\"text-align: right;\">\n",
              "      <th></th>\n",
              "      <th>YearsExperience</th>\n",
              "      <th>Salary</th>\n",
              "    </tr>\n",
              "  </thead>\n",
              "  <tbody>\n",
              "    <tr>\n",
              "      <th>0</th>\n",
              "      <td>1.1</td>\n",
              "      <td>39343</td>\n",
              "    </tr>\n",
              "    <tr>\n",
              "      <th>1</th>\n",
              "      <td>1.3</td>\n",
              "      <td>46205</td>\n",
              "    </tr>\n",
              "    <tr>\n",
              "      <th>2</th>\n",
              "      <td>1.5</td>\n",
              "      <td>37731</td>\n",
              "    </tr>\n",
              "    <tr>\n",
              "      <th>3</th>\n",
              "      <td>2.0</td>\n",
              "      <td>43525</td>\n",
              "    </tr>\n",
              "    <tr>\n",
              "      <th>4</th>\n",
              "      <td>2.2</td>\n",
              "      <td>39891</td>\n",
              "    </tr>\n",
              "  </tbody>\n",
              "</table>\n",
              "</div>\n",
              "    <div class=\"colab-df-buttons\">\n",
              "\n",
              "  <div class=\"colab-df-container\">\n",
              "    <button class=\"colab-df-convert\" onclick=\"convertToInteractive('df-e6b7294b-abd9-4452-ae60-c064e1948932')\"\n",
              "            title=\"Convert this dataframe to an interactive table.\"\n",
              "            style=\"display:none;\">\n",
              "\n",
              "  <svg xmlns=\"http://www.w3.org/2000/svg\" height=\"24px\" viewBox=\"0 -960 960 960\">\n",
              "    <path d=\"M120-120v-720h720v720H120Zm60-500h600v-160H180v160Zm220 220h160v-160H400v160Zm0 220h160v-160H400v160ZM180-400h160v-160H180v160Zm440 0h160v-160H620v160ZM180-180h160v-160H180v160Zm440 0h160v-160H620v160Z\"/>\n",
              "  </svg>\n",
              "    </button>\n",
              "\n",
              "  <style>\n",
              "    .colab-df-container {\n",
              "      display:flex;\n",
              "      gap: 12px;\n",
              "    }\n",
              "\n",
              "    .colab-df-convert {\n",
              "      background-color: #E8F0FE;\n",
              "      border: none;\n",
              "      border-radius: 50%;\n",
              "      cursor: pointer;\n",
              "      display: none;\n",
              "      fill: #1967D2;\n",
              "      height: 32px;\n",
              "      padding: 0 0 0 0;\n",
              "      width: 32px;\n",
              "    }\n",
              "\n",
              "    .colab-df-convert:hover {\n",
              "      background-color: #E2EBFA;\n",
              "      box-shadow: 0px 1px 2px rgba(60, 64, 67, 0.3), 0px 1px 3px 1px rgba(60, 64, 67, 0.15);\n",
              "      fill: #174EA6;\n",
              "    }\n",
              "\n",
              "    .colab-df-buttons div {\n",
              "      margin-bottom: 4px;\n",
              "    }\n",
              "\n",
              "    [theme=dark] .colab-df-convert {\n",
              "      background-color: #3B4455;\n",
              "      fill: #D2E3FC;\n",
              "    }\n",
              "\n",
              "    [theme=dark] .colab-df-convert:hover {\n",
              "      background-color: #434B5C;\n",
              "      box-shadow: 0px 1px 3px 1px rgba(0, 0, 0, 0.15);\n",
              "      filter: drop-shadow(0px 1px 2px rgba(0, 0, 0, 0.3));\n",
              "      fill: #FFFFFF;\n",
              "    }\n",
              "  </style>\n",
              "\n",
              "    <script>\n",
              "      const buttonEl =\n",
              "        document.querySelector('#df-e6b7294b-abd9-4452-ae60-c064e1948932 button.colab-df-convert');\n",
              "      buttonEl.style.display =\n",
              "        google.colab.kernel.accessAllowed ? 'block' : 'none';\n",
              "\n",
              "      async function convertToInteractive(key) {\n",
              "        const element = document.querySelector('#df-e6b7294b-abd9-4452-ae60-c064e1948932');\n",
              "        const dataTable =\n",
              "          await google.colab.kernel.invokeFunction('convertToInteractive',\n",
              "                                                    [key], {});\n",
              "        if (!dataTable) return;\n",
              "\n",
              "        const docLinkHtml = 'Like what you see? Visit the ' +\n",
              "          '<a target=\"_blank\" href=https://colab.research.google.com/notebooks/data_table.ipynb>data table notebook</a>'\n",
              "          + ' to learn more about interactive tables.';\n",
              "        element.innerHTML = '';\n",
              "        dataTable['output_type'] = 'display_data';\n",
              "        await google.colab.output.renderOutput(dataTable, element);\n",
              "        const docLink = document.createElement('div');\n",
              "        docLink.innerHTML = docLinkHtml;\n",
              "        element.appendChild(docLink);\n",
              "      }\n",
              "    </script>\n",
              "  </div>\n",
              "\n",
              "\n",
              "    <div id=\"df-0ff57df8-502a-454a-aba0-a3b1a178c85c\">\n",
              "      <button class=\"colab-df-quickchart\" onclick=\"quickchart('df-0ff57df8-502a-454a-aba0-a3b1a178c85c')\"\n",
              "                title=\"Suggest charts\"\n",
              "                style=\"display:none;\">\n",
              "\n",
              "<svg xmlns=\"http://www.w3.org/2000/svg\" height=\"24px\"viewBox=\"0 0 24 24\"\n",
              "     width=\"24px\">\n",
              "    <g>\n",
              "        <path d=\"M19 3H5c-1.1 0-2 .9-2 2v14c0 1.1.9 2 2 2h14c1.1 0 2-.9 2-2V5c0-1.1-.9-2-2-2zM9 17H7v-7h2v7zm4 0h-2V7h2v10zm4 0h-2v-4h2v4z\"/>\n",
              "    </g>\n",
              "</svg>\n",
              "      </button>\n",
              "\n",
              "<style>\n",
              "  .colab-df-quickchart {\n",
              "      --bg-color: #E8F0FE;\n",
              "      --fill-color: #1967D2;\n",
              "      --hover-bg-color: #E2EBFA;\n",
              "      --hover-fill-color: #174EA6;\n",
              "      --disabled-fill-color: #AAA;\n",
              "      --disabled-bg-color: #DDD;\n",
              "  }\n",
              "\n",
              "  [theme=dark] .colab-df-quickchart {\n",
              "      --bg-color: #3B4455;\n",
              "      --fill-color: #D2E3FC;\n",
              "      --hover-bg-color: #434B5C;\n",
              "      --hover-fill-color: #FFFFFF;\n",
              "      --disabled-bg-color: #3B4455;\n",
              "      --disabled-fill-color: #666;\n",
              "  }\n",
              "\n",
              "  .colab-df-quickchart {\n",
              "    background-color: var(--bg-color);\n",
              "    border: none;\n",
              "    border-radius: 50%;\n",
              "    cursor: pointer;\n",
              "    display: none;\n",
              "    fill: var(--fill-color);\n",
              "    height: 32px;\n",
              "    padding: 0;\n",
              "    width: 32px;\n",
              "  }\n",
              "\n",
              "  .colab-df-quickchart:hover {\n",
              "    background-color: var(--hover-bg-color);\n",
              "    box-shadow: 0 1px 2px rgba(60, 64, 67, 0.3), 0 1px 3px 1px rgba(60, 64, 67, 0.15);\n",
              "    fill: var(--button-hover-fill-color);\n",
              "  }\n",
              "\n",
              "  .colab-df-quickchart-complete:disabled,\n",
              "  .colab-df-quickchart-complete:disabled:hover {\n",
              "    background-color: var(--disabled-bg-color);\n",
              "    fill: var(--disabled-fill-color);\n",
              "    box-shadow: none;\n",
              "  }\n",
              "\n",
              "  .colab-df-spinner {\n",
              "    border: 2px solid var(--fill-color);\n",
              "    border-color: transparent;\n",
              "    border-bottom-color: var(--fill-color);\n",
              "    animation:\n",
              "      spin 1s steps(1) infinite;\n",
              "  }\n",
              "\n",
              "  @keyframes spin {\n",
              "    0% {\n",
              "      border-color: transparent;\n",
              "      border-bottom-color: var(--fill-color);\n",
              "      border-left-color: var(--fill-color);\n",
              "    }\n",
              "    20% {\n",
              "      border-color: transparent;\n",
              "      border-left-color: var(--fill-color);\n",
              "      border-top-color: var(--fill-color);\n",
              "    }\n",
              "    30% {\n",
              "      border-color: transparent;\n",
              "      border-left-color: var(--fill-color);\n",
              "      border-top-color: var(--fill-color);\n",
              "      border-right-color: var(--fill-color);\n",
              "    }\n",
              "    40% {\n",
              "      border-color: transparent;\n",
              "      border-right-color: var(--fill-color);\n",
              "      border-top-color: var(--fill-color);\n",
              "    }\n",
              "    60% {\n",
              "      border-color: transparent;\n",
              "      border-right-color: var(--fill-color);\n",
              "    }\n",
              "    80% {\n",
              "      border-color: transparent;\n",
              "      border-right-color: var(--fill-color);\n",
              "      border-bottom-color: var(--fill-color);\n",
              "    }\n",
              "    90% {\n",
              "      border-color: transparent;\n",
              "      border-bottom-color: var(--fill-color);\n",
              "    }\n",
              "  }\n",
              "</style>\n",
              "\n",
              "      <script>\n",
              "        async function quickchart(key) {\n",
              "          const quickchartButtonEl =\n",
              "            document.querySelector('#' + key + ' button');\n",
              "          quickchartButtonEl.disabled = true;  // To prevent multiple clicks.\n",
              "          quickchartButtonEl.classList.add('colab-df-spinner');\n",
              "          try {\n",
              "            const charts = await google.colab.kernel.invokeFunction(\n",
              "                'suggestCharts', [key], {});\n",
              "          } catch (error) {\n",
              "            console.error('Error during call to suggestCharts:', error);\n",
              "          }\n",
              "          quickchartButtonEl.classList.remove('colab-df-spinner');\n",
              "          quickchartButtonEl.classList.add('colab-df-quickchart-complete');\n",
              "        }\n",
              "        (() => {\n",
              "          let quickchartButtonEl =\n",
              "            document.querySelector('#df-0ff57df8-502a-454a-aba0-a3b1a178c85c button');\n",
              "          quickchartButtonEl.style.display =\n",
              "            google.colab.kernel.accessAllowed ? 'block' : 'none';\n",
              "        })();\n",
              "      </script>\n",
              "    </div>\n",
              "\n",
              "    </div>\n",
              "  </div>\n"
            ],
            "application/vnd.google.colaboratory.intrinsic+json": {
              "type": "dataframe",
              "variable_name": "salary_data",
              "summary": "{\n  \"name\": \"salary_data\",\n  \"rows\": 30,\n  \"fields\": [\n    {\n      \"column\": \"YearsExperience\",\n      \"properties\": {\n        \"dtype\": \"number\",\n        \"std\": 2.8378881576627184,\n        \"min\": 1.1,\n        \"max\": 10.5,\n        \"num_unique_values\": 28,\n        \"samples\": [\n          3.9,\n          9.6,\n          3.7\n        ],\n        \"semantic_type\": \"\",\n        \"description\": \"\"\n      }\n    },\n    {\n      \"column\": \"Salary\",\n      \"properties\": {\n        \"dtype\": \"number\",\n        \"std\": 27414,\n        \"min\": 37731,\n        \"max\": 122391,\n        \"num_unique_values\": 30,\n        \"samples\": [\n          112635,\n          67938,\n          113812\n        ],\n        \"semantic_type\": \"\",\n        \"description\": \"\"\n      }\n    }\n  ]\n}"
            }
          },
          "metadata": {},
          "execution_count": 5
        }
      ]
    },
    {
      "cell_type": "code",
      "source": [
        "# printing the last 5 rows of the dataframe\n",
        "salary_data.tail()"
      ],
      "metadata": {
        "colab": {
          "base_uri": "https://localhost:8080/",
          "height": 206
        },
        "id": "APEJcMfFLZCx",
        "outputId": "a630806a-acd6-42b2-e9be-3b18a9d21a9d"
      },
      "execution_count": 6,
      "outputs": [
        {
          "output_type": "execute_result",
          "data": {
            "text/plain": [
              "    YearsExperience  Salary\n",
              "25              9.0  105582\n",
              "26              9.5  116969\n",
              "27              9.6  112635\n",
              "28             10.3  122391\n",
              "29             10.5  121872"
            ],
            "text/html": [
              "\n",
              "  <div id=\"df-fddb0338-14b1-471b-8aba-f1883e0c2360\" class=\"colab-df-container\">\n",
              "    <div>\n",
              "<style scoped>\n",
              "    .dataframe tbody tr th:only-of-type {\n",
              "        vertical-align: middle;\n",
              "    }\n",
              "\n",
              "    .dataframe tbody tr th {\n",
              "        vertical-align: top;\n",
              "    }\n",
              "\n",
              "    .dataframe thead th {\n",
              "        text-align: right;\n",
              "    }\n",
              "</style>\n",
              "<table border=\"1\" class=\"dataframe\">\n",
              "  <thead>\n",
              "    <tr style=\"text-align: right;\">\n",
              "      <th></th>\n",
              "      <th>YearsExperience</th>\n",
              "      <th>Salary</th>\n",
              "    </tr>\n",
              "  </thead>\n",
              "  <tbody>\n",
              "    <tr>\n",
              "      <th>25</th>\n",
              "      <td>9.0</td>\n",
              "      <td>105582</td>\n",
              "    </tr>\n",
              "    <tr>\n",
              "      <th>26</th>\n",
              "      <td>9.5</td>\n",
              "      <td>116969</td>\n",
              "    </tr>\n",
              "    <tr>\n",
              "      <th>27</th>\n",
              "      <td>9.6</td>\n",
              "      <td>112635</td>\n",
              "    </tr>\n",
              "    <tr>\n",
              "      <th>28</th>\n",
              "      <td>10.3</td>\n",
              "      <td>122391</td>\n",
              "    </tr>\n",
              "    <tr>\n",
              "      <th>29</th>\n",
              "      <td>10.5</td>\n",
              "      <td>121872</td>\n",
              "    </tr>\n",
              "  </tbody>\n",
              "</table>\n",
              "</div>\n",
              "    <div class=\"colab-df-buttons\">\n",
              "\n",
              "  <div class=\"colab-df-container\">\n",
              "    <button class=\"colab-df-convert\" onclick=\"convertToInteractive('df-fddb0338-14b1-471b-8aba-f1883e0c2360')\"\n",
              "            title=\"Convert this dataframe to an interactive table.\"\n",
              "            style=\"display:none;\">\n",
              "\n",
              "  <svg xmlns=\"http://www.w3.org/2000/svg\" height=\"24px\" viewBox=\"0 -960 960 960\">\n",
              "    <path d=\"M120-120v-720h720v720H120Zm60-500h600v-160H180v160Zm220 220h160v-160H400v160Zm0 220h160v-160H400v160ZM180-400h160v-160H180v160Zm440 0h160v-160H620v160ZM180-180h160v-160H180v160Zm440 0h160v-160H620v160Z\"/>\n",
              "  </svg>\n",
              "    </button>\n",
              "\n",
              "  <style>\n",
              "    .colab-df-container {\n",
              "      display:flex;\n",
              "      gap: 12px;\n",
              "    }\n",
              "\n",
              "    .colab-df-convert {\n",
              "      background-color: #E8F0FE;\n",
              "      border: none;\n",
              "      border-radius: 50%;\n",
              "      cursor: pointer;\n",
              "      display: none;\n",
              "      fill: #1967D2;\n",
              "      height: 32px;\n",
              "      padding: 0 0 0 0;\n",
              "      width: 32px;\n",
              "    }\n",
              "\n",
              "    .colab-df-convert:hover {\n",
              "      background-color: #E2EBFA;\n",
              "      box-shadow: 0px 1px 2px rgba(60, 64, 67, 0.3), 0px 1px 3px 1px rgba(60, 64, 67, 0.15);\n",
              "      fill: #174EA6;\n",
              "    }\n",
              "\n",
              "    .colab-df-buttons div {\n",
              "      margin-bottom: 4px;\n",
              "    }\n",
              "\n",
              "    [theme=dark] .colab-df-convert {\n",
              "      background-color: #3B4455;\n",
              "      fill: #D2E3FC;\n",
              "    }\n",
              "\n",
              "    [theme=dark] .colab-df-convert:hover {\n",
              "      background-color: #434B5C;\n",
              "      box-shadow: 0px 1px 3px 1px rgba(0, 0, 0, 0.15);\n",
              "      filter: drop-shadow(0px 1px 2px rgba(0, 0, 0, 0.3));\n",
              "      fill: #FFFFFF;\n",
              "    }\n",
              "  </style>\n",
              "\n",
              "    <script>\n",
              "      const buttonEl =\n",
              "        document.querySelector('#df-fddb0338-14b1-471b-8aba-f1883e0c2360 button.colab-df-convert');\n",
              "      buttonEl.style.display =\n",
              "        google.colab.kernel.accessAllowed ? 'block' : 'none';\n",
              "\n",
              "      async function convertToInteractive(key) {\n",
              "        const element = document.querySelector('#df-fddb0338-14b1-471b-8aba-f1883e0c2360');\n",
              "        const dataTable =\n",
              "          await google.colab.kernel.invokeFunction('convertToInteractive',\n",
              "                                                    [key], {});\n",
              "        if (!dataTable) return;\n",
              "\n",
              "        const docLinkHtml = 'Like what you see? Visit the ' +\n",
              "          '<a target=\"_blank\" href=https://colab.research.google.com/notebooks/data_table.ipynb>data table notebook</a>'\n",
              "          + ' to learn more about interactive tables.';\n",
              "        element.innerHTML = '';\n",
              "        dataTable['output_type'] = 'display_data';\n",
              "        await google.colab.output.renderOutput(dataTable, element);\n",
              "        const docLink = document.createElement('div');\n",
              "        docLink.innerHTML = docLinkHtml;\n",
              "        element.appendChild(docLink);\n",
              "      }\n",
              "    </script>\n",
              "  </div>\n",
              "\n",
              "\n",
              "    <div id=\"df-2a3c7c18-d14f-4ecd-ab1d-a6536c99c307\">\n",
              "      <button class=\"colab-df-quickchart\" onclick=\"quickchart('df-2a3c7c18-d14f-4ecd-ab1d-a6536c99c307')\"\n",
              "                title=\"Suggest charts\"\n",
              "                style=\"display:none;\">\n",
              "\n",
              "<svg xmlns=\"http://www.w3.org/2000/svg\" height=\"24px\"viewBox=\"0 0 24 24\"\n",
              "     width=\"24px\">\n",
              "    <g>\n",
              "        <path d=\"M19 3H5c-1.1 0-2 .9-2 2v14c0 1.1.9 2 2 2h14c1.1 0 2-.9 2-2V5c0-1.1-.9-2-2-2zM9 17H7v-7h2v7zm4 0h-2V7h2v10zm4 0h-2v-4h2v4z\"/>\n",
              "    </g>\n",
              "</svg>\n",
              "      </button>\n",
              "\n",
              "<style>\n",
              "  .colab-df-quickchart {\n",
              "      --bg-color: #E8F0FE;\n",
              "      --fill-color: #1967D2;\n",
              "      --hover-bg-color: #E2EBFA;\n",
              "      --hover-fill-color: #174EA6;\n",
              "      --disabled-fill-color: #AAA;\n",
              "      --disabled-bg-color: #DDD;\n",
              "  }\n",
              "\n",
              "  [theme=dark] .colab-df-quickchart {\n",
              "      --bg-color: #3B4455;\n",
              "      --fill-color: #D2E3FC;\n",
              "      --hover-bg-color: #434B5C;\n",
              "      --hover-fill-color: #FFFFFF;\n",
              "      --disabled-bg-color: #3B4455;\n",
              "      --disabled-fill-color: #666;\n",
              "  }\n",
              "\n",
              "  .colab-df-quickchart {\n",
              "    background-color: var(--bg-color);\n",
              "    border: none;\n",
              "    border-radius: 50%;\n",
              "    cursor: pointer;\n",
              "    display: none;\n",
              "    fill: var(--fill-color);\n",
              "    height: 32px;\n",
              "    padding: 0;\n",
              "    width: 32px;\n",
              "  }\n",
              "\n",
              "  .colab-df-quickchart:hover {\n",
              "    background-color: var(--hover-bg-color);\n",
              "    box-shadow: 0 1px 2px rgba(60, 64, 67, 0.3), 0 1px 3px 1px rgba(60, 64, 67, 0.15);\n",
              "    fill: var(--button-hover-fill-color);\n",
              "  }\n",
              "\n",
              "  .colab-df-quickchart-complete:disabled,\n",
              "  .colab-df-quickchart-complete:disabled:hover {\n",
              "    background-color: var(--disabled-bg-color);\n",
              "    fill: var(--disabled-fill-color);\n",
              "    box-shadow: none;\n",
              "  }\n",
              "\n",
              "  .colab-df-spinner {\n",
              "    border: 2px solid var(--fill-color);\n",
              "    border-color: transparent;\n",
              "    border-bottom-color: var(--fill-color);\n",
              "    animation:\n",
              "      spin 1s steps(1) infinite;\n",
              "  }\n",
              "\n",
              "  @keyframes spin {\n",
              "    0% {\n",
              "      border-color: transparent;\n",
              "      border-bottom-color: var(--fill-color);\n",
              "      border-left-color: var(--fill-color);\n",
              "    }\n",
              "    20% {\n",
              "      border-color: transparent;\n",
              "      border-left-color: var(--fill-color);\n",
              "      border-top-color: var(--fill-color);\n",
              "    }\n",
              "    30% {\n",
              "      border-color: transparent;\n",
              "      border-left-color: var(--fill-color);\n",
              "      border-top-color: var(--fill-color);\n",
              "      border-right-color: var(--fill-color);\n",
              "    }\n",
              "    40% {\n",
              "      border-color: transparent;\n",
              "      border-right-color: var(--fill-color);\n",
              "      border-top-color: var(--fill-color);\n",
              "    }\n",
              "    60% {\n",
              "      border-color: transparent;\n",
              "      border-right-color: var(--fill-color);\n",
              "    }\n",
              "    80% {\n",
              "      border-color: transparent;\n",
              "      border-right-color: var(--fill-color);\n",
              "      border-bottom-color: var(--fill-color);\n",
              "    }\n",
              "    90% {\n",
              "      border-color: transparent;\n",
              "      border-bottom-color: var(--fill-color);\n",
              "    }\n",
              "  }\n",
              "</style>\n",
              "\n",
              "      <script>\n",
              "        async function quickchart(key) {\n",
              "          const quickchartButtonEl =\n",
              "            document.querySelector('#' + key + ' button');\n",
              "          quickchartButtonEl.disabled = true;  // To prevent multiple clicks.\n",
              "          quickchartButtonEl.classList.add('colab-df-spinner');\n",
              "          try {\n",
              "            const charts = await google.colab.kernel.invokeFunction(\n",
              "                'suggestCharts', [key], {});\n",
              "          } catch (error) {\n",
              "            console.error('Error during call to suggestCharts:', error);\n",
              "          }\n",
              "          quickchartButtonEl.classList.remove('colab-df-spinner');\n",
              "          quickchartButtonEl.classList.add('colab-df-quickchart-complete');\n",
              "        }\n",
              "        (() => {\n",
              "          let quickchartButtonEl =\n",
              "            document.querySelector('#df-2a3c7c18-d14f-4ecd-ab1d-a6536c99c307 button');\n",
              "          quickchartButtonEl.style.display =\n",
              "            google.colab.kernel.accessAllowed ? 'block' : 'none';\n",
              "        })();\n",
              "      </script>\n",
              "    </div>\n",
              "\n",
              "    </div>\n",
              "  </div>\n"
            ],
            "application/vnd.google.colaboratory.intrinsic+json": {
              "type": "dataframe",
              "summary": "{\n  \"name\": \"salary_data\",\n  \"rows\": 5,\n  \"fields\": [\n    {\n      \"column\": \"YearsExperience\",\n      \"properties\": {\n        \"dtype\": \"number\",\n        \"std\": 0.6140032573203502,\n        \"min\": 9.0,\n        \"max\": 10.5,\n        \"num_unique_values\": 5,\n        \"samples\": [\n          9.5,\n          10.5,\n          9.6\n        ],\n        \"semantic_type\": \"\",\n        \"description\": \"\"\n      }\n    },\n    {\n      \"column\": \"Salary\",\n      \"properties\": {\n        \"dtype\": \"number\",\n        \"std\": 7001,\n        \"min\": 105582,\n        \"max\": 122391,\n        \"num_unique_values\": 5,\n        \"samples\": [\n          116969,\n          121872,\n          112635\n        ],\n        \"semantic_type\": \"\",\n        \"description\": \"\"\n      }\n    }\n  ]\n}"
            }
          },
          "metadata": {},
          "execution_count": 6
        }
      ]
    },
    {
      "cell_type": "code",
      "source": [
        "# number of rows and columns in a dataset\n",
        "salary_data.shape"
      ],
      "metadata": {
        "colab": {
          "base_uri": "https://localhost:8080/"
        },
        "id": "ALIeQlNpMJLv",
        "outputId": "e6210276-93c7-4288-bf52-4a4da8697fe8"
      },
      "execution_count": 7,
      "outputs": [
        {
          "output_type": "execute_result",
          "data": {
            "text/plain": [
              "(30, 2)"
            ]
          },
          "metadata": {},
          "execution_count": 7
        }
      ]
    },
    {
      "cell_type": "code",
      "source": [
        "#getting some info about the dataset\n",
        "salary_data.info()"
      ],
      "metadata": {
        "colab": {
          "base_uri": "https://localhost:8080/"
        },
        "id": "gmGBsdcDMPJ1",
        "outputId": "30b6003a-dc9c-4351-fc34-495f4dee9a09"
      },
      "execution_count": 8,
      "outputs": [
        {
          "output_type": "stream",
          "name": "stdout",
          "text": [
            "<class 'pandas.core.frame.DataFrame'>\n",
            "RangeIndex: 30 entries, 0 to 29\n",
            "Data columns (total 2 columns):\n",
            " #   Column           Non-Null Count  Dtype  \n",
            "---  ------           --------------  -----  \n",
            " 0   YearsExperience  30 non-null     float64\n",
            " 1   Salary           30 non-null     int64  \n",
            "dtypes: float64(1), int64(1)\n",
            "memory usage: 612.0 bytes\n"
          ]
        }
      ]
    },
    {
      "cell_type": "code",
      "source": [
        "# Statistical Measures of the dataset\n",
        "salary_data.describe()"
      ],
      "metadata": {
        "colab": {
          "base_uri": "https://localhost:8080/",
          "height": 300
        },
        "id": "lfXZhpDeMmzR",
        "outputId": "61f636b2-3283-418e-8b55-0b5a64bb99bf"
      },
      "execution_count": 9,
      "outputs": [
        {
          "output_type": "execute_result",
          "data": {
            "text/plain": [
              "       YearsExperience         Salary\n",
              "count        30.000000      30.000000\n",
              "mean          5.313333   76003.000000\n",
              "std           2.837888   27414.429785\n",
              "min           1.100000   37731.000000\n",
              "25%           3.200000   56720.750000\n",
              "50%           4.700000   65237.000000\n",
              "75%           7.700000  100544.750000\n",
              "max          10.500000  122391.000000"
            ],
            "text/html": [
              "\n",
              "  <div id=\"df-cccec5cb-6e2a-46e4-9b8f-2337a0625209\" class=\"colab-df-container\">\n",
              "    <div>\n",
              "<style scoped>\n",
              "    .dataframe tbody tr th:only-of-type {\n",
              "        vertical-align: middle;\n",
              "    }\n",
              "\n",
              "    .dataframe tbody tr th {\n",
              "        vertical-align: top;\n",
              "    }\n",
              "\n",
              "    .dataframe thead th {\n",
              "        text-align: right;\n",
              "    }\n",
              "</style>\n",
              "<table border=\"1\" class=\"dataframe\">\n",
              "  <thead>\n",
              "    <tr style=\"text-align: right;\">\n",
              "      <th></th>\n",
              "      <th>YearsExperience</th>\n",
              "      <th>Salary</th>\n",
              "    </tr>\n",
              "  </thead>\n",
              "  <tbody>\n",
              "    <tr>\n",
              "      <th>count</th>\n",
              "      <td>30.000000</td>\n",
              "      <td>30.000000</td>\n",
              "    </tr>\n",
              "    <tr>\n",
              "      <th>mean</th>\n",
              "      <td>5.313333</td>\n",
              "      <td>76003.000000</td>\n",
              "    </tr>\n",
              "    <tr>\n",
              "      <th>std</th>\n",
              "      <td>2.837888</td>\n",
              "      <td>27414.429785</td>\n",
              "    </tr>\n",
              "    <tr>\n",
              "      <th>min</th>\n",
              "      <td>1.100000</td>\n",
              "      <td>37731.000000</td>\n",
              "    </tr>\n",
              "    <tr>\n",
              "      <th>25%</th>\n",
              "      <td>3.200000</td>\n",
              "      <td>56720.750000</td>\n",
              "    </tr>\n",
              "    <tr>\n",
              "      <th>50%</th>\n",
              "      <td>4.700000</td>\n",
              "      <td>65237.000000</td>\n",
              "    </tr>\n",
              "    <tr>\n",
              "      <th>75%</th>\n",
              "      <td>7.700000</td>\n",
              "      <td>100544.750000</td>\n",
              "    </tr>\n",
              "    <tr>\n",
              "      <th>max</th>\n",
              "      <td>10.500000</td>\n",
              "      <td>122391.000000</td>\n",
              "    </tr>\n",
              "  </tbody>\n",
              "</table>\n",
              "</div>\n",
              "    <div class=\"colab-df-buttons\">\n",
              "\n",
              "  <div class=\"colab-df-container\">\n",
              "    <button class=\"colab-df-convert\" onclick=\"convertToInteractive('df-cccec5cb-6e2a-46e4-9b8f-2337a0625209')\"\n",
              "            title=\"Convert this dataframe to an interactive table.\"\n",
              "            style=\"display:none;\">\n",
              "\n",
              "  <svg xmlns=\"http://www.w3.org/2000/svg\" height=\"24px\" viewBox=\"0 -960 960 960\">\n",
              "    <path d=\"M120-120v-720h720v720H120Zm60-500h600v-160H180v160Zm220 220h160v-160H400v160Zm0 220h160v-160H400v160ZM180-400h160v-160H180v160Zm440 0h160v-160H620v160ZM180-180h160v-160H180v160Zm440 0h160v-160H620v160Z\"/>\n",
              "  </svg>\n",
              "    </button>\n",
              "\n",
              "  <style>\n",
              "    .colab-df-container {\n",
              "      display:flex;\n",
              "      gap: 12px;\n",
              "    }\n",
              "\n",
              "    .colab-df-convert {\n",
              "      background-color: #E8F0FE;\n",
              "      border: none;\n",
              "      border-radius: 50%;\n",
              "      cursor: pointer;\n",
              "      display: none;\n",
              "      fill: #1967D2;\n",
              "      height: 32px;\n",
              "      padding: 0 0 0 0;\n",
              "      width: 32px;\n",
              "    }\n",
              "\n",
              "    .colab-df-convert:hover {\n",
              "      background-color: #E2EBFA;\n",
              "      box-shadow: 0px 1px 2px rgba(60, 64, 67, 0.3), 0px 1px 3px 1px rgba(60, 64, 67, 0.15);\n",
              "      fill: #174EA6;\n",
              "    }\n",
              "\n",
              "    .colab-df-buttons div {\n",
              "      margin-bottom: 4px;\n",
              "    }\n",
              "\n",
              "    [theme=dark] .colab-df-convert {\n",
              "      background-color: #3B4455;\n",
              "      fill: #D2E3FC;\n",
              "    }\n",
              "\n",
              "    [theme=dark] .colab-df-convert:hover {\n",
              "      background-color: #434B5C;\n",
              "      box-shadow: 0px 1px 3px 1px rgba(0, 0, 0, 0.15);\n",
              "      filter: drop-shadow(0px 1px 2px rgba(0, 0, 0, 0.3));\n",
              "      fill: #FFFFFF;\n",
              "    }\n",
              "  </style>\n",
              "\n",
              "    <script>\n",
              "      const buttonEl =\n",
              "        document.querySelector('#df-cccec5cb-6e2a-46e4-9b8f-2337a0625209 button.colab-df-convert');\n",
              "      buttonEl.style.display =\n",
              "        google.colab.kernel.accessAllowed ? 'block' : 'none';\n",
              "\n",
              "      async function convertToInteractive(key) {\n",
              "        const element = document.querySelector('#df-cccec5cb-6e2a-46e4-9b8f-2337a0625209');\n",
              "        const dataTable =\n",
              "          await google.colab.kernel.invokeFunction('convertToInteractive',\n",
              "                                                    [key], {});\n",
              "        if (!dataTable) return;\n",
              "\n",
              "        const docLinkHtml = 'Like what you see? Visit the ' +\n",
              "          '<a target=\"_blank\" href=https://colab.research.google.com/notebooks/data_table.ipynb>data table notebook</a>'\n",
              "          + ' to learn more about interactive tables.';\n",
              "        element.innerHTML = '';\n",
              "        dataTable['output_type'] = 'display_data';\n",
              "        await google.colab.output.renderOutput(dataTable, element);\n",
              "        const docLink = document.createElement('div');\n",
              "        docLink.innerHTML = docLinkHtml;\n",
              "        element.appendChild(docLink);\n",
              "      }\n",
              "    </script>\n",
              "  </div>\n",
              "\n",
              "\n",
              "    <div id=\"df-780793ee-de42-4184-a78a-f30fc914cb25\">\n",
              "      <button class=\"colab-df-quickchart\" onclick=\"quickchart('df-780793ee-de42-4184-a78a-f30fc914cb25')\"\n",
              "                title=\"Suggest charts\"\n",
              "                style=\"display:none;\">\n",
              "\n",
              "<svg xmlns=\"http://www.w3.org/2000/svg\" height=\"24px\"viewBox=\"0 0 24 24\"\n",
              "     width=\"24px\">\n",
              "    <g>\n",
              "        <path d=\"M19 3H5c-1.1 0-2 .9-2 2v14c0 1.1.9 2 2 2h14c1.1 0 2-.9 2-2V5c0-1.1-.9-2-2-2zM9 17H7v-7h2v7zm4 0h-2V7h2v10zm4 0h-2v-4h2v4z\"/>\n",
              "    </g>\n",
              "</svg>\n",
              "      </button>\n",
              "\n",
              "<style>\n",
              "  .colab-df-quickchart {\n",
              "      --bg-color: #E8F0FE;\n",
              "      --fill-color: #1967D2;\n",
              "      --hover-bg-color: #E2EBFA;\n",
              "      --hover-fill-color: #174EA6;\n",
              "      --disabled-fill-color: #AAA;\n",
              "      --disabled-bg-color: #DDD;\n",
              "  }\n",
              "\n",
              "  [theme=dark] .colab-df-quickchart {\n",
              "      --bg-color: #3B4455;\n",
              "      --fill-color: #D2E3FC;\n",
              "      --hover-bg-color: #434B5C;\n",
              "      --hover-fill-color: #FFFFFF;\n",
              "      --disabled-bg-color: #3B4455;\n",
              "      --disabled-fill-color: #666;\n",
              "  }\n",
              "\n",
              "  .colab-df-quickchart {\n",
              "    background-color: var(--bg-color);\n",
              "    border: none;\n",
              "    border-radius: 50%;\n",
              "    cursor: pointer;\n",
              "    display: none;\n",
              "    fill: var(--fill-color);\n",
              "    height: 32px;\n",
              "    padding: 0;\n",
              "    width: 32px;\n",
              "  }\n",
              "\n",
              "  .colab-df-quickchart:hover {\n",
              "    background-color: var(--hover-bg-color);\n",
              "    box-shadow: 0 1px 2px rgba(60, 64, 67, 0.3), 0 1px 3px 1px rgba(60, 64, 67, 0.15);\n",
              "    fill: var(--button-hover-fill-color);\n",
              "  }\n",
              "\n",
              "  .colab-df-quickchart-complete:disabled,\n",
              "  .colab-df-quickchart-complete:disabled:hover {\n",
              "    background-color: var(--disabled-bg-color);\n",
              "    fill: var(--disabled-fill-color);\n",
              "    box-shadow: none;\n",
              "  }\n",
              "\n",
              "  .colab-df-spinner {\n",
              "    border: 2px solid var(--fill-color);\n",
              "    border-color: transparent;\n",
              "    border-bottom-color: var(--fill-color);\n",
              "    animation:\n",
              "      spin 1s steps(1) infinite;\n",
              "  }\n",
              "\n",
              "  @keyframes spin {\n",
              "    0% {\n",
              "      border-color: transparent;\n",
              "      border-bottom-color: var(--fill-color);\n",
              "      border-left-color: var(--fill-color);\n",
              "    }\n",
              "    20% {\n",
              "      border-color: transparent;\n",
              "      border-left-color: var(--fill-color);\n",
              "      border-top-color: var(--fill-color);\n",
              "    }\n",
              "    30% {\n",
              "      border-color: transparent;\n",
              "      border-left-color: var(--fill-color);\n",
              "      border-top-color: var(--fill-color);\n",
              "      border-right-color: var(--fill-color);\n",
              "    }\n",
              "    40% {\n",
              "      border-color: transparent;\n",
              "      border-right-color: var(--fill-color);\n",
              "      border-top-color: var(--fill-color);\n",
              "    }\n",
              "    60% {\n",
              "      border-color: transparent;\n",
              "      border-right-color: var(--fill-color);\n",
              "    }\n",
              "    80% {\n",
              "      border-color: transparent;\n",
              "      border-right-color: var(--fill-color);\n",
              "      border-bottom-color: var(--fill-color);\n",
              "    }\n",
              "    90% {\n",
              "      border-color: transparent;\n",
              "      border-bottom-color: var(--fill-color);\n",
              "    }\n",
              "  }\n",
              "</style>\n",
              "\n",
              "      <script>\n",
              "        async function quickchart(key) {\n",
              "          const quickchartButtonEl =\n",
              "            document.querySelector('#' + key + ' button');\n",
              "          quickchartButtonEl.disabled = true;  // To prevent multiple clicks.\n",
              "          quickchartButtonEl.classList.add('colab-df-spinner');\n",
              "          try {\n",
              "            const charts = await google.colab.kernel.invokeFunction(\n",
              "                'suggestCharts', [key], {});\n",
              "          } catch (error) {\n",
              "            console.error('Error during call to suggestCharts:', error);\n",
              "          }\n",
              "          quickchartButtonEl.classList.remove('colab-df-spinner');\n",
              "          quickchartButtonEl.classList.add('colab-df-quickchart-complete');\n",
              "        }\n",
              "        (() => {\n",
              "          let quickchartButtonEl =\n",
              "            document.querySelector('#df-780793ee-de42-4184-a78a-f30fc914cb25 button');\n",
              "          quickchartButtonEl.style.display =\n",
              "            google.colab.kernel.accessAllowed ? 'block' : 'none';\n",
              "        })();\n",
              "      </script>\n",
              "    </div>\n",
              "\n",
              "    </div>\n",
              "  </div>\n"
            ],
            "application/vnd.google.colaboratory.intrinsic+json": {
              "type": "dataframe",
              "summary": "{\n  \"name\": \"salary_data\",\n  \"rows\": 8,\n  \"fields\": [\n    {\n      \"column\": \"YearsExperience\",\n      \"properties\": {\n        \"dtype\": \"number\",\n        \"std\": 9.30067087834344,\n        \"min\": 1.1,\n        \"max\": 30.0,\n        \"num_unique_values\": 8,\n        \"samples\": [\n          5.3133333333333335,\n          4.7,\n          30.0\n        ],\n        \"semantic_type\": \"\",\n        \"description\": \"\"\n      }\n    },\n    {\n      \"column\": \"Salary\",\n      \"properties\": {\n        \"dtype\": \"number\",\n        \"std\": 39605.7524645371,\n        \"min\": 30.0,\n        \"max\": 122391.0,\n        \"num_unique_values\": 8,\n        \"samples\": [\n          76003.0,\n          65237.0,\n          30.0\n        ],\n        \"semantic_type\": \"\",\n        \"description\": \"\"\n      }\n    }\n  ]\n}"
            }
          },
          "metadata": {},
          "execution_count": 9
        }
      ]
    },
    {
      "cell_type": "code",
      "source": [
        "#checking the missing values\n",
        "salary_data.isnull().sum()"
      ],
      "metadata": {
        "colab": {
          "base_uri": "https://localhost:8080/",
          "height": 146
        },
        "id": "L_IzW4cnMuXC",
        "outputId": "872a5eac-9cb7-484c-9c92-8be7430de56a"
      },
      "execution_count": 10,
      "outputs": [
        {
          "output_type": "execute_result",
          "data": {
            "text/plain": [
              "YearsExperience    0\n",
              "Salary             0\n",
              "dtype: int64"
            ],
            "text/html": [
              "<div>\n",
              "<style scoped>\n",
              "    .dataframe tbody tr th:only-of-type {\n",
              "        vertical-align: middle;\n",
              "    }\n",
              "\n",
              "    .dataframe tbody tr th {\n",
              "        vertical-align: top;\n",
              "    }\n",
              "\n",
              "    .dataframe thead th {\n",
              "        text-align: right;\n",
              "    }\n",
              "</style>\n",
              "<table border=\"1\" class=\"dataframe\">\n",
              "  <thead>\n",
              "    <tr style=\"text-align: right;\">\n",
              "      <th></th>\n",
              "      <th>0</th>\n",
              "    </tr>\n",
              "  </thead>\n",
              "  <tbody>\n",
              "    <tr>\n",
              "      <th>YearsExperience</th>\n",
              "      <td>0</td>\n",
              "    </tr>\n",
              "    <tr>\n",
              "      <th>Salary</th>\n",
              "      <td>0</td>\n",
              "    </tr>\n",
              "  </tbody>\n",
              "</table>\n",
              "</div><br><label><b>dtype:</b> int64</label>"
            ]
          },
          "metadata": {},
          "execution_count": 10
        }
      ]
    },
    {
      "cell_type": "markdown",
      "source": [
        "Splitting the feature and target"
      ],
      "metadata": {
        "id": "1NnQA_TqNHlU"
      }
    },
    {
      "cell_type": "code",
      "source": [
        "X = salary_data.iloc[:,:-1].values\n",
        "Y = salary_data.iloc[:,1].values"
      ],
      "metadata": {
        "id": "KBgQ4qdqM1AF"
      },
      "execution_count": 11,
      "outputs": []
    },
    {
      "cell_type": "code",
      "source": [
        "print(X)"
      ],
      "metadata": {
        "colab": {
          "base_uri": "https://localhost:8080/"
        },
        "id": "hVhdDgphOKAF",
        "outputId": "5f4203d9-cf46-409d-a116-7500d12ecbb2"
      },
      "execution_count": 12,
      "outputs": [
        {
          "output_type": "stream",
          "name": "stdout",
          "text": [
            "[[ 1.1]\n",
            " [ 1.3]\n",
            " [ 1.5]\n",
            " [ 2. ]\n",
            " [ 2.2]\n",
            " [ 2.9]\n",
            " [ 3. ]\n",
            " [ 3.2]\n",
            " [ 3.2]\n",
            " [ 3.7]\n",
            " [ 3.9]\n",
            " [ 4. ]\n",
            " [ 4. ]\n",
            " [ 4.1]\n",
            " [ 4.5]\n",
            " [ 4.9]\n",
            " [ 5.1]\n",
            " [ 5.3]\n",
            " [ 5.9]\n",
            " [ 6. ]\n",
            " [ 6.8]\n",
            " [ 7.1]\n",
            " [ 7.9]\n",
            " [ 8.2]\n",
            " [ 8.7]\n",
            " [ 9. ]\n",
            " [ 9.5]\n",
            " [ 9.6]\n",
            " [10.3]\n",
            " [10.5]]\n"
          ]
        }
      ]
    },
    {
      "cell_type": "code",
      "source": [
        "print(Y)"
      ],
      "metadata": {
        "colab": {
          "base_uri": "https://localhost:8080/"
        },
        "id": "wEXgTg6EOLRy",
        "outputId": "0ab11187-1baf-47a5-92ae-c853e8f192db"
      },
      "execution_count": 13,
      "outputs": [
        {
          "output_type": "stream",
          "name": "stdout",
          "text": [
            "[ 39343  46205  37731  43525  39891  56642  60150  54445  64445  57189\n",
            "  63218  55794  56957  57081  61111  67938  66029  83088  81363  93940\n",
            "  91738  98273 101302 113812 109431 105582 116969 112635 122391 121872]\n"
          ]
        }
      ]
    },
    {
      "cell_type": "markdown",
      "source": [
        "Splitting the dataset into training & test data"
      ],
      "metadata": {
        "id": "lc1YqDL2ObGw"
      }
    },
    {
      "cell_type": "code",
      "source": [
        "X_train, X_test, Y_train, Y_test = train_test_split(X,Y, test_size=0.33, random_state = 2)"
      ],
      "metadata": {
        "id": "Q4bakQCFOMDN"
      },
      "execution_count": 14,
      "outputs": []
    },
    {
      "cell_type": "markdown",
      "source": [
        "Training the Regresssion MODEL"
      ],
      "metadata": {
        "id": "rtkt0rKvPbNF"
      }
    },
    {
      "cell_type": "code",
      "source": [
        "model = Linear_Regression(learning_rate = 0.02,no_of_iterations=1000)"
      ],
      "metadata": {
        "id": "dbqON5c9QQWi"
      },
      "execution_count": 18,
      "outputs": []
    },
    {
      "cell_type": "code",
      "source": [
        "model.fit(X_train, Y_train)"
      ],
      "metadata": {
        "id": "hMqShEOIC543"
      },
      "execution_count": 19,
      "outputs": []
    },
    {
      "cell_type": "code",
      "source": [
        "# printing the parameter values (weights & bias)\n",
        "\n",
        "print('weight = ', model.w[0])\n",
        "print('bias = ', model.b)"
      ],
      "metadata": {
        "colab": {
          "base_uri": "https://localhost:8080/"
        },
        "id": "PZlqLIP2C89H",
        "outputId": "f41209c6-8971-48e5-8783-39baf936921f"
      },
      "execution_count": 20,
      "outputs": [
        {
          "output_type": "stream",
          "name": "stdout",
          "text": [
            "weight =  9514.400999035135\n",
            "bias =  23697.406507136307\n"
          ]
        }
      ]
    },
    {
      "cell_type": "markdown",
      "source": [
        "y = 9541(x)+ 23697\n",
        "\n",
        "salary = 9514(experience) + 23697"
      ],
      "metadata": {
        "id": "9bEnmWycDQG-"
      }
    },
    {
      "cell_type": "code",
      "source": [
        "test_data_prediction = model.predict(X_test)"
      ],
      "metadata": {
        "id": "blW4u0wXDOmA"
      },
      "execution_count": 21,
      "outputs": []
    },
    {
      "cell_type": "code",
      "source": [
        "print(test_data_prediction)"
      ],
      "metadata": {
        "colab": {
          "base_uri": "https://localhost:8080/"
        },
        "id": "Cnt3JWLFD8n4",
        "outputId": "e3ce4702-1b3c-4bab-896e-1c95b0b7977f"
      },
      "execution_count": 22,
      "outputs": [
        {
          "output_type": "stream",
          "name": "stdout",
          "text": [
            "[ 36066.12780588  34163.24760607  66512.21100279  58900.69020357\n",
            "  91249.65360029  80783.81250135 101715.49469922  52240.60950424\n",
            "  42726.20850521  88395.33330058]\n"
          ]
        }
      ]
    },
    {
      "cell_type": "markdown",
      "source": [
        "Visualizing the Predicted values & Actual Values"
      ],
      "metadata": {
        "id": "rkFYnSIQD_9m"
      }
    },
    {
      "cell_type": "code",
      "source": [
        "plt.scatter(X_test, Y_test, color='red')\n",
        "plt.plot(X_test, test_data_prediction, color='blue')\n",
        "plt.xlabel('Work Experience')\n",
        "plt.ylabel('Salary')\n",
        "plt.title('Salary vs Experience')\n",
        "plt.show()"
      ],
      "metadata": {
        "colab": {
          "base_uri": "https://localhost:8080/",
          "height": 472
        },
        "id": "icwrcKTTD-nr",
        "outputId": "cf62de2f-8cab-4892-af9e-8330d4f860ba"
      },
      "execution_count": 25,
      "outputs": [
        {
          "output_type": "display_data",
          "data": {
            "text/plain": [
              "<Figure size 640x480 with 1 Axes>"
            ],
            "image/png": "[encoded data removed]"
          },
          "metadata": {}
        }
      ]
    },
    {
      "cell_type": "code",
      "source": [],
      "metadata": {
        "id": "iDkhJhiIEbb-"
      },
      "execution_count": null,
      "outputs": []
    }
  ]
}