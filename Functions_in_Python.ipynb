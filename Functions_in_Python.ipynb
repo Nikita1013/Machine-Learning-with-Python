{
  "nbformat": 4,
  "nbformat_minor": 0,
  "metadata": {
    "colab": {
      "provenance": [],
      "authorship_tag": "ABX9TyPLESVWTyccVSy5PnaTRlSR",
      "include_colab_link": true
    },
    "kernelspec": {
      "name": "python3",
      "display_name": "Python 3"
    },
    "language_info": {
      "name": "python"
    }
  },
  "cells": [
    {
      "cell_type": "markdown",
      "metadata": {
        "id": "view-in-github",
        "colab_type": "text"
      },
      "source": [
        "<a href=\"https://colab.research.google.com/github/Nikita1013/Machine-Learning-with-Python/blob/master/Functions_in_Python.ipynb\" target=\"_parent\"><img src=\"https://colab.research.google.com/assets/colab-badge.svg\" alt=\"Open In Colab\"/></a>"
      ]
    },
    {
      "cell_type": "markdown",
      "source": [
        "Functions:\n",
        "\n",
        "Function is a block of code that can be reused in a program"
      ],
      "metadata": {
        "id": "wsxdWFwhNGL_"
      }
    },
    {
      "cell_type": "markdown",
      "source": [
        "Factorial of a number\n",
        "\n",
        "It is the product of all the positive integers less than or equal to the given number"
      ],
      "metadata": {
        "id": "ksRV36QINfzC"
      }
    },
    {
      "cell_type": "markdown",
      "source": [
        "Factorial of 5 = 5 x 4 x 3 x 2 x 1 = 120"
      ],
      "metadata": {
        "id": "h6tfaTjaN4t6"
      }
    },
    {
      "cell_type": "code",
      "execution_count": 5,
      "metadata": {
        "colab": {
          "base_uri": "https://localhost:8080/"
        },
        "id": "uChNq0MkNAvB",
        "outputId": "f39518aa-e28c-4554-ce73-3c1aa318d275"
      },
      "outputs": [
        {
          "output_type": "stream",
          "name": "stdout",
          "text": [
            "Enter a number to find its factorial : 10\n",
            "The factorial of  10  is  3628800\n"
          ]
        }
      ],
      "source": [
        "# Factorial of 0 is 1 as well as factorial of 1 is 1\n",
        "\n",
        "number = int(input('Enter a number to find its factorial : '))\n",
        "\n",
        "factorial = 1\n",
        "\n",
        "if number == 0:\n",
        "  print(' The Factorial of 0 is 1 : ')\n",
        "\n",
        "else:\n",
        "  for i in range(1, number+1):  # range(1, 6)  ---> 1,2,3,4,5\n",
        "    factorial = factorial * i    # 1*2*3*4*5\n",
        "  print('The factorial of ', number, ' is ', factorial)"
      ]
    },
    {
      "cell_type": "markdown",
      "source": [
        "Factorial Function"
      ],
      "metadata": {
        "id": "q1THdArJTdot"
      }
    },
    {
      "cell_type": "code",
      "source": [
        "def factorial_value(num):\n",
        "  factorial = 1\n",
        "\n",
        "  if num == 0:\n",
        "    return factorial\n",
        "\n",
        "  else:\n",
        "    for i in range(1, num+1):\n",
        "      factorial =  factorial * i\n",
        "    return factorial\n"
      ],
      "metadata": {
        "id": "qUCrDYUVNdwJ"
      },
      "execution_count": 10,
      "outputs": []
    },
    {
      "cell_type": "code",
      "source": [
        "print(factorial_value(5))"
      ],
      "metadata": {
        "colab": {
          "base_uri": "https://localhost:8080/"
        },
        "id": "qvhPTRvHTqol",
        "outputId": "d58ad4ca-dcbd-4642-ccfd-111270e0cdf5"
      },
      "execution_count": 11,
      "outputs": [
        {
          "output_type": "stream",
          "name": "stdout",
          "text": [
            "120\n"
          ]
        }
      ]
    },
    {
      "cell_type": "code",
      "source": [
        "print(factorial_value(10))"
      ],
      "metadata": {
        "colab": {
          "base_uri": "https://localhost:8080/"
        },
        "id": "Fy4xNy_1UTXl",
        "outputId": "8ab958fb-fff1-4d21-9664-cb8305e8fd45"
      },
      "execution_count": 12,
      "outputs": [
        {
          "output_type": "stream",
          "name": "stdout",
          "text": [
            "3628800\n"
          ]
        }
      ]
    },
    {
      "cell_type": "code",
      "source": [
        "print(factorial_value(6))"
      ],
      "metadata": {
        "colab": {
          "base_uri": "https://localhost:8080/"
        },
        "id": "oW_ZxRNvUf9e",
        "outputId": "336867e6-3b48-4dc9-d5b6-0c0900a4ebfc"
      },
      "execution_count": 13,
      "outputs": [
        {
          "output_type": "stream",
          "name": "stdout",
          "text": [
            "720\n"
          ]
        }
      ]
    },
    {
      "cell_type": "code",
      "source": [],
      "metadata": {
        "id": "vIjmxui7UpO8"
      },
      "execution_count": null,
      "outputs": []
    }
  ]
}