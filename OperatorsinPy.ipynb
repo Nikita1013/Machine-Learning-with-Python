{
  "nbformat": 4,
  "nbformat_minor": 0,
  "metadata": {
    "colab": {
      "provenance": [],
      "authorship_tag": "ABX9TyOfCvzl6KZ99UtKKY3NPWqB",
      "include_colab_link": true
    },
    "kernelspec": {
      "name": "python3",
      "display_name": "Python 3"
    },
    "language_info": {
      "name": "python"
    }
  },
  "cells": [
    {
      "cell_type": "markdown",
      "metadata": {
        "id": "view-in-github",
        "colab_type": "text"
      },
      "source": [
        "<a href=\"https://colab.research.google.com/github/Nikita1013/Machine-Learning-with-Python/blob/master/OperatorsinPy.ipynb\" target=\"_parent\"><img src=\"https://colab.research.google.com/assets/colab-badge.svg\" alt=\"Open In Colab\"/></a>"
      ]
    },
    {
      "cell_type": "markdown",
      "source": [
        "Operators in Python\n",
        "  1. Arithmetic Operators\n",
        "  2. Assignment Operators\n",
        "  3. Comparison Operators\n",
        "  4. Logical Operators\n",
        "  5. Identify Operators\n",
        "  6. Membership Operators\n",
        "  "
      ],
      "metadata": {
        "id": "50sy5WSO8Aro"
      }
    },
    {
      "cell_type": "markdown",
      "source": [
        "1. Arithmetic Operators\n"
      ],
      "metadata": {
        "id": "tvqrAN9I8Ykg"
      }
    },
    {
      "cell_type": "code",
      "source": [
        "num1 = 20\n",
        "num2 = 10\n",
        "\n",
        "# Addition +\n",
        "sum =  num1 + num2\n",
        "print(\"Sum = \", sum)\n",
        "\n",
        "\n",
        "#Subtraction -\n",
        "diff = num1 - num2\n",
        "print(\"Difference = \", diff)\n",
        "\n",
        "# Multiplication *\n",
        "mul =  num1 * num2\n",
        "print(\"Multiplication = \", mul)\n",
        "\n",
        "# division /\n",
        "div = num1 / num2\n",
        "print(\"Division = \", div)\n",
        "\n",
        "# exponent **\n",
        "expo = num1 ** num2\n",
        "print(\"Exponent = \", expo)\n",
        "\n",
        "# modulus %\n",
        "mod = num1 % num2\n",
        "print(\"Remainder = \", mod)"
      ],
      "metadata": {
        "colab": {
          "base_uri": "https://localhost:8080/"
        },
        "id": "AHjn12PD8CrZ",
        "outputId": "46de4033-6bac-4332-b9dd-099dbba56d28"
      },
      "execution_count": 2,
      "outputs": [
        {
          "output_type": "stream",
          "name": "stdout",
          "text": [
            "Sum =  30\n",
            "Difference =  10\n",
            "Multiplication =  200\n",
            "Division =  2.0\n",
            "Exponent =  10240000000000\n",
            "0\n"
          ]
        }
      ]
    },
    {
      "cell_type": "markdown",
      "source": [
        "2. Assignment Operators\n",
        "\n",
        "  1. +=\n",
        "  2. -=\n",
        "  3. *=\n",
        "  4. /=\n",
        "  5. **=\n",
        "  6. %="
      ],
      "metadata": {
        "id": "MC0ld4bY-DFj"
      }
    },
    {
      "cell_type": "code",
      "source": [
        "a = 5\n",
        "print(a)"
      ],
      "metadata": {
        "colab": {
          "base_uri": "https://localhost:8080/"
        },
        "id": "Rq8CbGIi8w7o",
        "outputId": "277dc38e-ab02-4699-eaee-2e3dfab29a77"
      },
      "execution_count": 3,
      "outputs": [
        {
          "output_type": "stream",
          "name": "stdout",
          "text": [
            "5\n"
          ]
        }
      ]
    },
    {
      "cell_type": "code",
      "execution_count": 7,
      "metadata": {
        "colab": {
          "base_uri": "https://localhost:8080/"
        },
        "id": "T08FpvFO72a9",
        "outputId": "363a2626-92c7-4511-e1b5-9b67d69e5ca1"
      },
      "outputs": [
        {
          "output_type": "stream",
          "name": "stdout",
          "text": [
            "11\n"
          ]
        }
      ],
      "source": [
        "a = 6\n",
        "a += 5 # a = a + 5\n",
        "print(a)\n"
      ]
    },
    {
      "cell_type": "code",
      "source": [
        "b = 5\n",
        "b -= 2\n",
        "print(b)"
      ],
      "metadata": {
        "colab": {
          "base_uri": "https://localhost:8080/"
        },
        "id": "CfFWzuR1-TlR",
        "outputId": "e2efeeae-5d99-4d9c-e5da-0627292678d0"
      },
      "execution_count": 8,
      "outputs": [
        {
          "output_type": "stream",
          "name": "stdout",
          "text": [
            "3\n"
          ]
        }
      ]
    },
    {
      "cell_type": "markdown",
      "source": [
        "3. Comparison Operators"
      ],
      "metadata": {
        "id": "Vhdt_EW1-76M"
      }
    },
    {
      "cell_type": "code",
      "source": [
        "a = 5\n",
        "b = 10\n",
        "\n",
        "print(a == b)   #equal to\n",
        "print(a !=b)   #not equal to\n",
        "print(a > b)  #greater than\n",
        "print(a < b)  #less than\n",
        "print(a <= b)  # greater than or equal to\n",
        "print(a >= b)  #less than or equal to"
      ],
      "metadata": {
        "colab": {
          "base_uri": "https://localhost:8080/"
        },
        "id": "kbmsBXH6-j9z",
        "outputId": "2096483f-d9b1-47cb-907d-ff124d696ce6"
      },
      "execution_count": 13,
      "outputs": [
        {
          "output_type": "stream",
          "name": "stdout",
          "text": [
            "False\n",
            "True\n",
            "False\n",
            "True\n",
            "True\n",
            "False\n"
          ]
        }
      ]
    },
    {
      "cell_type": "markdown",
      "source": [
        "4. Logical Operators\n",
        "\n",
        "  1. and\n",
        "  2. or\n",
        "  3. not"
      ],
      "metadata": {
        "id": "xWNU8jtR_wjN"
      }
    },
    {
      "cell_type": "code",
      "source": [
        "a = 10\n",
        "\n",
        "print(a>20 and a>5)\n",
        "print(a>20 or a>5)\n",
        "print(not(a>8 and a>5))"
      ],
      "metadata": {
        "colab": {
          "base_uri": "https://localhost:8080/"
        },
        "id": "6dabKXB1_BzS",
        "outputId": "8110f54e-be59-4205-f9bc-e1db46b2a38b"
      },
      "execution_count": 14,
      "outputs": [
        {
          "output_type": "stream",
          "name": "stdout",
          "text": [
            "False\n",
            "True\n",
            "False\n"
          ]
        }
      ]
    },
    {
      "cell_type": "markdown",
      "source": [
        "5. Identity Operators\n",
        "  1. is\n",
        "  2. is not"
      ],
      "metadata": {
        "id": "sobRtkp9AUuA"
      }
    },
    {
      "cell_type": "code",
      "source": [
        "x = 5\n",
        "y = 10\n",
        "\n",
        "print(x is y)"
      ],
      "metadata": {
        "colab": {
          "base_uri": "https://localhost:8080/"
        },
        "id": "4dR8JK3-ATa5",
        "outputId": "467d0a5a-604e-4a38-a417-aa2a7248cecf"
      },
      "execution_count": 15,
      "outputs": [
        {
          "output_type": "stream",
          "name": "stdout",
          "text": [
            "False\n"
          ]
        }
      ]
    },
    {
      "cell_type": "code",
      "source": [
        "x = 5\n",
        "y = 10\n",
        "\n",
        "print(x is not y)"
      ],
      "metadata": {
        "colab": {
          "base_uri": "https://localhost:8080/"
        },
        "id": "JGt-Ik-pAkme",
        "outputId": "fe7c0028-f0c5-4483-a819-54725e46cf07"
      },
      "execution_count": 16,
      "outputs": [
        {
          "output_type": "stream",
          "name": "stdout",
          "text": [
            "True\n"
          ]
        }
      ]
    },
    {
      "cell_type": "markdown",
      "source": [
        "6. Membersip Operator\n",
        "  1. in\n",
        "  2. not in"
      ],
      "metadata": {
        "id": "C6BKw-BAAt_c"
      }
    },
    {
      "cell_type": "code",
      "source": [
        "a = 5\n",
        "b = 10\n",
        "\n",
        "c = [1,2,3,4,5]\n",
        "print(a in c)\n",
        "print(b in c)"
      ],
      "metadata": {
        "colab": {
          "base_uri": "https://localhost:8080/"
        },
        "id": "Wd3ks28NAoTR",
        "outputId": "68433afd-80c3-4161-b318-a1fc85a40ef8"
      },
      "execution_count": 17,
      "outputs": [
        {
          "output_type": "stream",
          "name": "stdout",
          "text": [
            "True\n",
            "False\n"
          ]
        }
      ]
    },
    {
      "cell_type": "code",
      "source": [
        "a = 5\n",
        "b = 10\n",
        "\n",
        "c = [1,2,3,4,5]\n",
        "print(a not in c)\n",
        "print(b not in c)"
      ],
      "metadata": {
        "colab": {
          "base_uri": "https://localhost:8080/"
        },
        "id": "-Drn_fF9A9aa",
        "outputId": "50d539e8-45ea-4c53-a18a-dc23253f55d7"
      },
      "execution_count": 18,
      "outputs": [
        {
          "output_type": "stream",
          "name": "stdout",
          "text": [
            "False\n",
            "True\n"
          ]
        }
      ]
    },
    {
      "cell_type": "code",
      "source": [],
      "metadata": {
        "id": "tURmZ37ZBJ3e"
      },
      "execution_count": null,
      "outputs": []
    }
  ]
}