{
  "nbformat": 4,
  "nbformat_minor": 0,
  "metadata": {
    "colab": {
      "provenance": [],
      "authorship_tag": "ABX9TyMIlqnkxGKpPPemoVgqXwCh",
      "include_colab_link": true
    },
    "kernelspec": {
      "name": "python3",
      "display_name": "Python 3"
    },
    "language_info": {
      "name": "python"
    }
  },
  "cells": [
    {
      "cell_type": "markdown",
      "metadata": {
        "id": "view-in-github",
        "colab_type": "text"
      },
      "source": [
        "<a href=\"https://colab.research.google.com/github/Nikita1013/Machine-Learning-with-Python/blob/master/5_1_7_Working_with_Matrix_in_Python.ipynb\" target=\"_parent\"><img src=\"https://colab.research.google.com/assets/colab-badge.svg\" alt=\"Open In Colab\"/></a>"
      ]
    },
    {
      "cell_type": "code",
      "execution_count": 1,
      "metadata": {
        "id": "Wd5Zrt06H2in"
      },
      "outputs": [],
      "source": [
        "import numpy as np"
      ]
    },
    {
      "cell_type": "markdown",
      "source": [
        "Creating a Matrix using Numpy"
      ],
      "metadata": {
        "id": "5zNTxJfZIHLu"
      }
    },
    {
      "cell_type": "code",
      "source": [
        "matrix_1 = np.array([[2,3],[6,7]])"
      ],
      "metadata": {
        "id": "TbzGlBYpIEeX"
      },
      "execution_count": 2,
      "outputs": []
    },
    {
      "cell_type": "code",
      "source": [
        "print(matrix_1)"
      ],
      "metadata": {
        "colab": {
          "base_uri": "https://localhost:8080/"
        },
        "id": "ph1lxcYQIY0d",
        "outputId": "09780279-a934-4353-af46-87a9cec579dd"
      },
      "execution_count": 3,
      "outputs": [
        {
          "output_type": "stream",
          "name": "stdout",
          "text": [
            "[[2 3]\n",
            " [6 7]]\n"
          ]
        }
      ]
    },
    {
      "cell_type": "markdown",
      "source": [
        "Shape of a Matrix"
      ],
      "metadata": {
        "id": "gCCDm9JxIleW"
      }
    },
    {
      "cell_type": "code",
      "source": [
        "matrix_1.shape"
      ],
      "metadata": {
        "colab": {
          "base_uri": "https://localhost:8080/"
        },
        "id": "iiskXi-pIae_",
        "outputId": "4a7edb0f-ef54-4d98-a48c-e779509df51a"
      },
      "execution_count": 4,
      "outputs": [
        {
          "output_type": "execute_result",
          "data": {
            "text/plain": [
              "(2, 2)"
            ]
          },
          "metadata": {},
          "execution_count": 4
        }
      ]
    },
    {
      "cell_type": "code",
      "source": [
        "matrix_2 = np.array([[1,2,3],[4,5,6],[7,8,9]])"
      ],
      "metadata": {
        "id": "mj2eSmPLIpvb"
      },
      "execution_count": 5,
      "outputs": []
    },
    {
      "cell_type": "code",
      "source": [
        "print(matrix_2)"
      ],
      "metadata": {
        "colab": {
          "base_uri": "https://localhost:8080/"
        },
        "id": "9OOoMHquIxlA",
        "outputId": "cfb4c713-1280-4ec4-bce7-c12ec6f5a89d"
      },
      "execution_count": 6,
      "outputs": [
        {
          "output_type": "stream",
          "name": "stdout",
          "text": [
            "[[1 2 3]\n",
            " [4 5 6]\n",
            " [7 8 9]]\n"
          ]
        }
      ]
    },
    {
      "cell_type": "code",
      "source": [
        "matrix_2.shape"
      ],
      "metadata": {
        "colab": {
          "base_uri": "https://localhost:8080/"
        },
        "id": "fF1iifRkIzLG",
        "outputId": "32e25ecc-afe0-486b-bb9f-9a3630873464"
      },
      "execution_count": 7,
      "outputs": [
        {
          "output_type": "execute_result",
          "data": {
            "text/plain": [
              "(3, 3)"
            ]
          },
          "metadata": {},
          "execution_count": 7
        }
      ]
    },
    {
      "cell_type": "markdown",
      "source": [
        "Creating Matrices with Random Values"
      ],
      "metadata": {
        "id": "feHVZwhWI-sR"
      }
    },
    {
      "cell_type": "code",
      "source": [
        "random_matrix = np.random.rand(3,3)"
      ],
      "metadata": {
        "id": "sL9Zt5K-I1Qd"
      },
      "execution_count": 9,
      "outputs": []
    },
    {
      "cell_type": "markdown",
      "source": [
        "We get all the values betweeen 0 to 1 in float"
      ],
      "metadata": {
        "id": "8p-W1bYKJTfI"
      }
    },
    {
      "cell_type": "code",
      "source": [
        "print(random_matrix)"
      ],
      "metadata": {
        "colab": {
          "base_uri": "https://localhost:8080/"
        },
        "id": "QycNbjYBJJx0",
        "outputId": "fa7add6c-0865-4ab5-aa7c-09bf67fa04ad"
      },
      "execution_count": 10,
      "outputs": [
        {
          "output_type": "stream",
          "name": "stdout",
          "text": [
            "[[0.96891439 0.75515326 0.82322064]\n",
            " [0.23784286 0.20052646 0.1307448 ]\n",
            " [0.39568236 0.47477905 0.1108931 ]]\n"
          ]
        }
      ]
    },
    {
      "cell_type": "markdown",
      "source": [
        "Creating Matrix with Random integers"
      ],
      "metadata": {
        "id": "quYyUtevJYO2"
      }
    },
    {
      "cell_type": "code",
      "source": [
        "# Creating matrix with random integers\n",
        "random_interger_matrix = np.random.randint(100, size=(4,5))\n",
        "# 100 -> it will consider from number 0 to 100\n",
        "print(random_interger_matrix)"
      ],
      "metadata": {
        "colab": {
          "base_uri": "https://localhost:8080/"
        },
        "id": "guxqcJ4iJQ4r",
        "outputId": "b950493e-a924-4441-8193-d8ee0aeb27e8"
      },
      "execution_count": 11,
      "outputs": [
        {
          "output_type": "stream",
          "name": "stdout",
          "text": [
            "[[58 21 83 52 10]\n",
            " [48 56 77 31 28]\n",
            " [34 20 15 25 80]\n",
            " [82 73  3 36 74]]\n"
          ]
        }
      ]
    },
    {
      "cell_type": "markdown",
      "source": [
        "Matrix with all the values as 1"
      ],
      "metadata": {
        "id": "wOOc3kpJJ76w"
      }
    },
    {
      "cell_type": "code",
      "source": [
        "# Prints all the 1's in Matrix\n",
        "matrix_3 = np.ones((2,3))\n",
        "print(matrix_3)\n",
        "# It gives float type"
      ],
      "metadata": {
        "colab": {
          "base_uri": "https://localhost:8080/"
        },
        "id": "_tQwD5kAJ3GZ",
        "outputId": "732c2900-de83-4c36-9d1a-3f4ee4d81dc8"
      },
      "execution_count": 16,
      "outputs": [
        {
          "output_type": "stream",
          "name": "stdout",
          "text": [
            "[[1. 1. 1.]\n",
            " [1. 1. 1.]]\n"
          ]
        }
      ]
    },
    {
      "cell_type": "code",
      "source": [
        "# Use dtype=int for getting interger type numbers in the matrix\n",
        "matrix_3 = np.ones((2,3), dtype=int)\n",
        "print(matrix_3)"
      ],
      "metadata": {
        "colab": {
          "base_uri": "https://localhost:8080/"
        },
        "id": "lmt3Yy5hKJZk",
        "outputId": "86ac5b86-caac-45f4-9522-9b1c0c117174"
      },
      "execution_count": 17,
      "outputs": [
        {
          "output_type": "stream",
          "name": "stdout",
          "text": [
            "[[1 1 1]\n",
            " [1 1 1]]\n"
          ]
        }
      ]
    },
    {
      "cell_type": "markdown",
      "source": [
        "NULL  Matrix or Zero Matrix ==> All the values are 0's"
      ],
      "metadata": {
        "id": "_wdy_tgCKyEx"
      }
    },
    {
      "cell_type": "code",
      "source": [
        "null_matrix = np.zeros((4,4))\n",
        "print(null_matrix)"
      ],
      "metadata": {
        "colab": {
          "base_uri": "https://localhost:8080/"
        },
        "id": "URKWbs8mKhJK",
        "outputId": "72418c24-6129-4b9e-83f8-6bd99ab8eb4d"
      },
      "execution_count": 18,
      "outputs": [
        {
          "output_type": "stream",
          "name": "stdout",
          "text": [
            "[[0. 0. 0. 0.]\n",
            " [0. 0. 0. 0.]\n",
            " [0. 0. 0. 0.]\n",
            " [0. 0. 0. 0.]]\n"
          ]
        }
      ]
    },
    {
      "cell_type": "markdown",
      "source": [
        "Identity Matrix\n",
        "\n",
        "- All the diagonal values ar 1 and other values as 0"
      ],
      "metadata": {
        "id": "Yoa0C1ieLBzO"
      }
    },
    {
      "cell_type": "code",
      "source": [
        "# creating Identity Matrix\n",
        "identity_matrix =np.eye(3,3)\n",
        "print(identity_matrix)"
      ],
      "metadata": {
        "colab": {
          "base_uri": "https://localhost:8080/"
        },
        "id": "ZgF80r0wK9te",
        "outputId": "a569b37f-3dce-4c52-d208-0dbadaf5867f"
      },
      "execution_count": 19,
      "outputs": [
        {
          "output_type": "stream",
          "name": "stdout",
          "text": [
            "[[1. 0. 0.]\n",
            " [0. 1. 0.]\n",
            " [0. 0. 1.]]\n"
          ]
        }
      ]
    },
    {
      "cell_type": "markdown",
      "source": [
        "**Transpose of a Matrix**"
      ],
      "metadata": {
        "id": "2dLzTvGnLhU3"
      }
    },
    {
      "cell_type": "code",
      "source": [
        "# matrix with random integer values\n",
        "a = np.random.randint(100, size=(4,5))\n",
        "print(a)"
      ],
      "metadata": {
        "colab": {
          "base_uri": "https://localhost:8080/"
        },
        "id": "Y41h8mq9LWha",
        "outputId": "99768ec0-d560-4706-e8a4-edbb57194aef"
      },
      "execution_count": 20,
      "outputs": [
        {
          "output_type": "stream",
          "name": "stdout",
          "text": [
            "[[92 88 40 37 50]\n",
            " [52 30 45 12 55]\n",
            " [74 64 69 38 43]\n",
            " [54 41  7 60 35]]\n"
          ]
        }
      ]
    },
    {
      "cell_type": "code",
      "source": [
        "transpose_of_a = np.transpose(a)\n",
        "print(transpose_of_a)"
      ],
      "metadata": {
        "colab": {
          "base_uri": "https://localhost:8080/"
        },
        "id": "ed_85o5ZLzsD",
        "outputId": "ef47087c-7baa-42d0-ab90-62a177d17ddb"
      },
      "execution_count": 21,
      "outputs": [
        {
          "output_type": "stream",
          "name": "stdout",
          "text": [
            "[[92 52 74 54]\n",
            " [88 30 64 41]\n",
            " [40 45 69  7]\n",
            " [37 12 38 60]\n",
            " [50 55 43 35]]\n"
          ]
        }
      ]
    },
    {
      "cell_type": "code",
      "source": [
        "transpose_of_a.shape"
      ],
      "metadata": {
        "colab": {
          "base_uri": "https://localhost:8080/"
        },
        "id": "6dJkZfzhMEua",
        "outputId": "14397894-8b95-445b-e3e7-d7bf1a53618a"
      },
      "execution_count": 22,
      "outputs": [
        {
          "output_type": "execute_result",
          "data": {
            "text/plain": [
              "(5, 4)"
            ]
          },
          "metadata": {},
          "execution_count": 22
        }
      ]
    },
    {
      "cell_type": "code",
      "source": [],
      "metadata": {
        "id": "0zI9kmSJMHFX"
      },
      "execution_count": null,
      "outputs": []
    }
  ]
}