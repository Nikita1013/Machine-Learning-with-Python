{
  "nbformat": 4,
  "nbformat_minor": 0,
  "metadata": {
    "colab": {
      "provenance": [],
      "authorship_tag": "ABX9TyNOrmmM+vI2xNUzvyQArfnz",
      "include_colab_link": true
    },
    "kernelspec": {
      "name": "python3",
      "display_name": "Python 3"
    },
    "language_info": {
      "name": "python"
    }
  },
  "cells": [
    {
      "cell_type": "markdown",
      "metadata": {
        "id": "view-in-github",
        "colab_type": "text"
      },
      "source": [
        "<a href=\"https://colab.research.google.com/github/Nikita1013/Machine-Learning-with-Python/blob/master/Loops_in_Python.ipynb\" target=\"_parent\"><img src=\"https://colab.research.google.com/assets/colab-badge.svg\" alt=\"Open In Colab\"/></a>"
      ]
    },
    {
      "cell_type": "markdown",
      "source": [
        "For loop"
      ],
      "metadata": {
        "id": "PRsH98bMJWWf"
      }
    },
    {
      "cell_type": "code",
      "execution_count": 2,
      "metadata": {
        "colab": {
          "base_uri": "https://localhost:8080/"
        },
        "id": "zRFb2FmyJTUh",
        "outputId": "6b65afb4-f321-4732-94c8-465a92f276f0"
      },
      "outputs": [
        {
          "name": "stdout",
          "output_type": "stream",
          "text": [
            "Enter the price of the laptop20000\n",
            "Enter the price of the laptop30000\n",
            "Enter the price of the laptop40000\n",
            "Enter the price of the laptop50000\n",
            "Enter the price of the laptop60000\n"
          ]
        }
      ],
      "source": [
        "laptop1 = int(input(\"Enter the price of the laptop\"))\n",
        "laptop2 = int(input(\"Enter the price of the laptop\"))\n",
        "laptop3 = int(input(\"Enter the price of the laptop\"))\n",
        "laptop4 = int(input(\"Enter the price of the laptop\"))\n",
        "laptop5 = int(input(\"Enter the price of the laptop\"))"
      ]
    },
    {
      "cell_type": "code",
      "source": [
        "for i in range(5):   # index : 0,1,2,3,4\n",
        "  laptop_price = int(input(\"Enter the price of the laptop : \"))"
      ],
      "metadata": {
        "colab": {
          "base_uri": "https://localhost:8080/"
        },
        "id": "fbemX8xtJvLx",
        "outputId": "5a2eb9b9-347a-43be-deca-a1df6545f4e9"
      },
      "execution_count": 3,
      "outputs": [
        {
          "name": "stdout",
          "output_type": "stream",
          "text": [
            "Enter the price of the laptop : 20000\n",
            "Enter the price of the laptop : 30000\n",
            "Enter the price of the laptop : 40000\n",
            "Enter the price of the laptop : 50000\n",
            "Enter the price of the laptop : 60000\n"
          ]
        }
      ]
    },
    {
      "cell_type": "code",
      "source": [
        "for i in range(5):\n",
        "  i += 1\n",
        "  print(i)\n"
      ],
      "metadata": {
        "colab": {
          "base_uri": "https://localhost:8080/"
        },
        "id": "qi08v3PYKPYi",
        "outputId": "0252ed9b-3824-4d57-ae14-77f49637dc96"
      },
      "execution_count": 6,
      "outputs": [
        {
          "output_type": "stream",
          "name": "stdout",
          "text": [
            "1\n",
            "2\n",
            "3\n",
            "4\n",
            "5\n"
          ]
        }
      ]
    },
    {
      "cell_type": "code",
      "source": [
        "numbers = [50,100,150,200]\n",
        "\n",
        "for i in numbers:\n",
        "  print(i)"
      ],
      "metadata": {
        "colab": {
          "base_uri": "https://localhost:8080/"
        },
        "id": "m6NXBp_5KgAC",
        "outputId": "48bd7775-07fa-49d0-bb3a-d7b0b1e42c8b"
      },
      "execution_count": 8,
      "outputs": [
        {
          "output_type": "stream",
          "name": "stdout",
          "text": [
            "50\n",
            "100\n",
            "150\n",
            "200\n"
          ]
        }
      ]
    },
    {
      "cell_type": "markdown",
      "source": [
        "While Loop"
      ],
      "metadata": {
        "id": "hSdQ50J3Lk_1"
      }
    },
    {
      "cell_type": "markdown",
      "source": [
        "  while condition:\n",
        "      \n",
        "      \n",
        "      statement"
      ],
      "metadata": {
        "id": "5fFWiTpnLxi5"
      }
    },
    {
      "cell_type": "code",
      "source": [
        "# if the condition is true then only the while loop is carried out\n",
        "i = 0\n",
        "\n",
        "while i<10:\n",
        "  print(i)\n",
        "  i += 1 # i = i + 1"
      ],
      "metadata": {
        "colab": {
          "base_uri": "https://localhost:8080/"
        },
        "id": "DZdupLfmK_h9",
        "outputId": "61cec469-a882-48ba-a19c-ab6e67a6b5d5"
      },
      "execution_count": 11,
      "outputs": [
        {
          "output_type": "stream",
          "name": "stdout",
          "text": [
            "0\n",
            "1\n",
            "2\n",
            "3\n",
            "4\n",
            "5\n",
            "6\n",
            "7\n",
            "8\n",
            "9\n"
          ]
        }
      ]
    },
    {
      "cell_type": "code",
      "source": [
        "# if the condition is false then it wont proceed further\n",
        "i = 5\n",
        "while i<3:\n",
        "  print(i)\n",
        "  i += 1"
      ],
      "metadata": {
        "id": "SMNbpE66LZLg"
      },
      "execution_count": 13,
      "outputs": []
    },
    {
      "cell_type": "code",
      "source": [],
      "metadata": {
        "id": "SMOPcjcTMpDI"
      },
      "execution_count": null,
      "outputs": []
    }
  ]
}