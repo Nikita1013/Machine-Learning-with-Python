{
  "nbformat": 4,
  "nbformat_minor": 0,
  "metadata": {
    "colab": {
      "provenance": [],
      "authorship_tag": "ABX9TyN1xy68ZwNxsQyXMNQ7CcGW",
      "include_colab_link": true
    },
    "kernelspec": {
      "name": "python3",
      "display_name": "Python 3"
    },
    "language_info": {
      "name": "python"
    }
  },
  "cells": [
    {
      "cell_type": "markdown",
      "metadata": {
        "id": "view-in-github",
        "colab_type": "text"
      },
      "source": [
        "<a href=\"https://colab.research.google.com/github/Nikita1013/Machine-Learning-with-Python/blob/master/K_Nearest_Neighbors_Classifier_from_scratch_.ipynb\" target=\"_parent\"><img src=\"https://colab.research.google.com/assets/colab-badge.svg\" alt=\"Open In Colab\"/></a>"
      ]
    },
    {
      "cell_type": "markdown",
      "source": [
        "**KNN Classifier is also called as Lazy Model**"
      ],
      "metadata": {
        "id": "dbmr3TEQSCWo"
      }
    },
    {
      "cell_type": "markdown",
      "source": [
        "Euclidean Distance"
      ],
      "metadata": {
        "id": "nVW-uG9sQEtA"
      }
    },
    {
      "cell_type": "markdown",
      "source": [
        "![image.png](data:image/png;base64,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)"
      ],
      "metadata": {
        "id": "BbreEeiSQNnu"
      }
    },
    {
      "cell_type": "markdown",
      "source": [
        "Manhattan Distance"
      ],
      "metadata": {
        "id": "cvQeic59QXJ-"
      }
    },
    {
      "cell_type": "markdown",
      "source": [
        "![image.png](data:image/png;base64,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)"
      ],
      "metadata": {
        "id": "cti6Y87QQZUW"
      }
    },
    {
      "cell_type": "markdown",
      "source": [
        "Importing the Dependencies"
      ],
      "metadata": {
        "id": "wwBWKmxHQf5W"
      }
    },
    {
      "cell_type": "code",
      "source": [
        "import numpy as np\n",
        "import statistics"
      ],
      "metadata": {
        "id": "DBKvZ1fcQFvQ"
      },
      "execution_count": null,
      "outputs": []
    },
    {
      "cell_type": "markdown",
      "source": [
        "K-Nearest Neighbors Classifier"
      ],
      "metadata": {
        "id": "Ti1SzjF3Qq3u"
      }
    },
    {
      "cell_type": "code",
      "execution_count": null,
      "metadata": {
        "id": "l2_IrXdkP6UR"
      },
      "outputs": [],
      "source": [
        "import numpy as np\n",
        "import statistics\n",
        "\n",
        "class KNN_Classifier():\n",
        "\n",
        "    # initiating the parameters\n",
        "    def __init__(self, distance_metric):\n",
        "        self.distance_metric = distance_metric\n",
        "\n",
        "    # getting the distance metric\n",
        "    def get_distance_metric(self, training_data_point, test_data_point):\n",
        "        if self.distance_metric == 'euclidean':\n",
        "            dist = 0\n",
        "            for i in range(len(training_data_point) - 1):\n",
        "                dist += (training_data_point[i] - test_data_point[i]) ** 2\n",
        "            euclidean_dist = np.sqrt(dist)\n",
        "            return euclidean_dist\n",
        "\n",
        "        elif self.distance_metric == 'manhattan':\n",
        "            dist = 0\n",
        "            for i in range(len(training_data_point) - 1):\n",
        "                dist += abs(training_data_point[i] - test_data_point[i])\n",
        "            manhattan_dist = dist\n",
        "            return manhattan_dist\n",
        "\n",
        "    # getting the nearest neighbors\n",
        "    def nearest_neighbors(self, X_train, test_data, k):\n",
        "        distance_list = []\n",
        "\n",
        "        for training_data in X_train:\n",
        "            distance = self.get_distance_metric(training_data, test_data)\n",
        "            distance_list.append((training_data, distance))\n",
        "\n",
        "        distance_list.sort(key=lambda x: x[1])\n",
        "\n",
        "        neighbors_list = []\n",
        "        for j in range(k):\n",
        "            neighbors_list.append(distance_list[j][0])\n",
        "\n",
        "        return neighbors_list\n",
        "\n",
        "    # predict the class of the new data point\n",
        "    def predict(self, X_train, test_data, k):\n",
        "        neighbors = self.nearest_neighbors(X_train, test_data, k)\n",
        "        label = []\n",
        "        for data in neighbors:\n",
        "            label.append(data[-1])\n",
        "        predicted_class = statistics.mode(label)\n",
        "        return predicted_class\n"
      ]
    },
    {
      "cell_type": "markdown",
      "source": [
        "Diabetes Prediction"
      ],
      "metadata": {
        "id": "xfMglsHF-B0z"
      }
    },
    {
      "cell_type": "code",
      "source": [
        "import numpy as np\n",
        "import pandas as pd\n",
        "from sklearn.model_selection import train_test_split\n",
        "from sklearn.metrics import accuracy_score"
      ],
      "metadata": {
        "id": "FJC2PpTa9_aF"
      },
      "execution_count": null,
      "outputs": []
    },
    {
      "cell_type": "code",
      "source": [
        "# loading the diabetes dataset to the pandas dataframe\n",
        "diabetes_dataset = pd.read_csv('/content/diabetes.csv')"
      ],
      "metadata": {
        "id": "5k_VLFxb-SbW"
      },
      "execution_count": null,
      "outputs": []
    },
    {
      "cell_type": "code",
      "source": [
        "# printing the first 5 rows of the dataset\n",
        "diabetes_dataset.head()"
      ],
      "metadata": {
        "colab": {
          "base_uri": "https://localhost:8080/",
          "height": 226
        },
        "id": "erdz53If-aiw",
        "outputId": "85a454bd-86fe-485b-8e6a-9500a1e0f3ae"
      },
      "execution_count": null,
      "outputs": [
        {
          "output_type": "execute_result",
          "data": {
            "text/plain": [
              "   Pregnancies  Glucose  BloodPressure  SkinThickness  Insulin   BMI  \\\n",
              "0            6      148             72             35        0  33.6   \n",
              "1            1       85             66             29        0  26.6   \n",
              "2            8      183             64              0        0  23.3   \n",
              "3            1       89             66             23       94  28.1   \n",
              "4            0      137             40             35      168  43.1   \n",
              "\n",
              "   DiabetesPedigreeFunction  Age  Outcome  \n",
              "0                     0.627   50        1  \n",
              "1                     0.351   31        0  \n",
              "2                     0.672   32        1  \n",
              "3                     0.167   21        0  \n",
              "4                     2.288   33        1  "
            ],
            "text/html": [
              "\n",
              "  <div id=\"df-a7e628ae-1f42-43e1-8623-6813bfc18b8e\" class=\"colab-df-container\">\n",
              "    <div>\n",
              "<style scoped>\n",
              "    .dataframe tbody tr th:only-of-type {\n",
              "        vertical-align: middle;\n",
              "    }\n",
              "\n",
              "    .dataframe tbody tr th {\n",
              "        vertical-align: top;\n",
              "    }\n",
              "\n",
              "    .dataframe thead th {\n",
              "        text-align: right;\n",
              "    }\n",
              "</style>\n",
              "<table border=\"1\" class=\"dataframe\">\n",
              "  <thead>\n",
              "    <tr style=\"text-align: right;\">\n",
              "      <th></th>\n",
              "      <th>Pregnancies</th>\n",
              "      <th>Glucose</th>\n",
              "      <th>BloodPressure</th>\n",
              "      <th>SkinThickness</th>\n",
              "      <th>Insulin</th>\n",
              "      <th>BMI</th>\n",
              "      <th>DiabetesPedigreeFunction</th>\n",
              "      <th>Age</th>\n",
              "      <th>Outcome</th>\n",
              "    </tr>\n",
              "  </thead>\n",
              "  <tbody>\n",
              "    <tr>\n",
              "      <th>0</th>\n",
              "      <td>6</td>\n",
              "      <td>148</td>\n",
              "      <td>72</td>\n",
              "      <td>35</td>\n",
              "      <td>0</td>\n",
              "      <td>33.6</td>\n",
              "      <td>0.627</td>\n",
              "      <td>50</td>\n",
              "      <td>1</td>\n",
              "    </tr>\n",
              "    <tr>\n",
              "      <th>1</th>\n",
              "      <td>1</td>\n",
              "      <td>85</td>\n",
              "      <td>66</td>\n",
              "      <td>29</td>\n",
              "      <td>0</td>\n",
              "      <td>26.6</td>\n",
              "      <td>0.351</td>\n",
              "      <td>31</td>\n",
              "      <td>0</td>\n",
              "    </tr>\n",
              "    <tr>\n",
              "      <th>2</th>\n",
              "      <td>8</td>\n",
              "      <td>183</td>\n",
              "      <td>64</td>\n",
              "      <td>0</td>\n",
              "      <td>0</td>\n",
              "      <td>23.3</td>\n",
              "      <td>0.672</td>\n",
              "      <td>32</td>\n",
              "      <td>1</td>\n",
              "    </tr>\n",
              "    <tr>\n",
              "      <th>3</th>\n",
              "      <td>1</td>\n",
              "      <td>89</td>\n",
              "      <td>66</td>\n",
              "      <td>23</td>\n",
              "      <td>94</td>\n",
              "      <td>28.1</td>\n",
              "      <td>0.167</td>\n",
              "      <td>21</td>\n",
              "      <td>0</td>\n",
              "    </tr>\n",
              "    <tr>\n",
              "      <th>4</th>\n",
              "      <td>0</td>\n",
              "      <td>137</td>\n",
              "      <td>40</td>\n",
              "      <td>35</td>\n",
              "      <td>168</td>\n",
              "      <td>43.1</td>\n",
              "      <td>2.288</td>\n",
              "      <td>33</td>\n",
              "      <td>1</td>\n",
              "    </tr>\n",
              "  </tbody>\n",
              "</table>\n",
              "</div>\n",
              "    <div class=\"colab-df-buttons\">\n",
              "\n",
              "  <div class=\"colab-df-container\">\n",
              "    <button class=\"colab-df-convert\" onclick=\"convertToInteractive('df-a7e628ae-1f42-43e1-8623-6813bfc18b8e')\"\n",
              "            title=\"Convert this dataframe to an interactive table.\"\n",
              "            style=\"display:none;\">\n",
              "\n",
              "  <svg xmlns=\"http://www.w3.org/2000/svg\" height=\"24px\" viewBox=\"0 -960 960 960\">\n",
              "    <path d=\"M120-120v-720h720v720H120Zm60-500h600v-160H180v160Zm220 220h160v-160H400v160Zm0 220h160v-160H400v160ZM180-400h160v-160H180v160Zm440 0h160v-160H620v160ZM180-180h160v-160H180v160Zm440 0h160v-160H620v160Z\"/>\n",
              "  </svg>\n",
              "    </button>\n",
              "\n",
              "  <style>\n",
              "    .colab-df-container {\n",
              "      display:flex;\n",
              "      gap: 12px;\n",
              "    }\n",
              "\n",
              "    .colab-df-convert {\n",
              "      background-color: #E8F0FE;\n",
              "      border: none;\n",
              "      border-radius: 50%;\n",
              "      cursor: pointer;\n",
              "      display: none;\n",
              "      fill: #1967D2;\n",
              "      height: 32px;\n",
              "      padding: 0 0 0 0;\n",
              "      width: 32px;\n",
              "    }\n",
              "\n",
              "    .colab-df-convert:hover {\n",
              "      background-color: #E2EBFA;\n",
              "      box-shadow: 0px 1px 2px rgba(60, 64, 67, 0.3), 0px 1px 3px 1px rgba(60, 64, 67, 0.15);\n",
              "      fill: #174EA6;\n",
              "    }\n",
              "\n",
              "    .colab-df-buttons div {\n",
              "      margin-bottom: 4px;\n",
              "    }\n",
              "\n",
              "    [theme=dark] .colab-df-convert {\n",
              "      background-color: #3B4455;\n",
              "      fill: #D2E3FC;\n",
              "    }\n",
              "\n",
              "    [theme=dark] .colab-df-convert:hover {\n",
              "      background-color: #434B5C;\n",
              "      box-shadow: 0px 1px 3px 1px rgba(0, 0, 0, 0.15);\n",
              "      filter: drop-shadow(0px 1px 2px rgba(0, 0, 0, 0.3));\n",
              "      fill: #FFFFFF;\n",
              "    }\n",
              "  </style>\n",
              "\n",
              "    <script>\n",
              "      const buttonEl =\n",
              "        document.querySelector('#df-a7e628ae-1f42-43e1-8623-6813bfc18b8e button.colab-df-convert');\n",
              "      buttonEl.style.display =\n",
              "        google.colab.kernel.accessAllowed ? 'block' : 'none';\n",
              "\n",
              "      async function convertToInteractive(key) {\n",
              "        const element = document.querySelector('#df-a7e628ae-1f42-43e1-8623-6813bfc18b8e');\n",
              "        const dataTable =\n",
              "          await google.colab.kernel.invokeFunction('convertToInteractive',\n",
              "                                                    [key], {});\n",
              "        if (!dataTable) return;\n",
              "\n",
              "        const docLinkHtml = 'Like what you see? Visit the ' +\n",
              "          '<a target=\"_blank\" href=https://colab.research.google.com/notebooks/data_table.ipynb>data table notebook</a>'\n",
              "          + ' to learn more about interactive tables.';\n",
              "        element.innerHTML = '';\n",
              "        dataTable['output_type'] = 'display_data';\n",
              "        await google.colab.output.renderOutput(dataTable, element);\n",
              "        const docLink = document.createElement('div');\n",
              "        docLink.innerHTML = docLinkHtml;\n",
              "        element.appendChild(docLink);\n",
              "      }\n",
              "    </script>\n",
              "  </div>\n",
              "\n",
              "\n",
              "    <div id=\"df-63c2cfad-ddad-46e8-b331-d44154f2d9c8\">\n",
              "      <button class=\"colab-df-quickchart\" onclick=\"quickchart('df-63c2cfad-ddad-46e8-b331-d44154f2d9c8')\"\n",
              "                title=\"Suggest charts\"\n",
              "                style=\"display:none;\">\n",
              "\n",
              "<svg xmlns=\"http://www.w3.org/2000/svg\" height=\"24px\"viewBox=\"0 0 24 24\"\n",
              "     width=\"24px\">\n",
              "    <g>\n",
              "        <path d=\"M19 3H5c-1.1 0-2 .9-2 2v14c0 1.1.9 2 2 2h14c1.1 0 2-.9 2-2V5c0-1.1-.9-2-2-2zM9 17H7v-7h2v7zm4 0h-2V7h2v10zm4 0h-2v-4h2v4z\"/>\n",
              "    </g>\n",
              "</svg>\n",
              "      </button>\n",
              "\n",
              "<style>\n",
              "  .colab-df-quickchart {\n",
              "      --bg-color: #E8F0FE;\n",
              "      --fill-color: #1967D2;\n",
              "      --hover-bg-color: #E2EBFA;\n",
              "      --hover-fill-color: #174EA6;\n",
              "      --disabled-fill-color: #AAA;\n",
              "      --disabled-bg-color: #DDD;\n",
              "  }\n",
              "\n",
              "  [theme=dark] .colab-df-quickchart {\n",
              "      --bg-color: #3B4455;\n",
              "      --fill-color: #D2E3FC;\n",
              "      --hover-bg-color: #434B5C;\n",
              "      --hover-fill-color: #FFFFFF;\n",
              "      --disabled-bg-color: #3B4455;\n",
              "      --disabled-fill-color: #666;\n",
              "  }\n",
              "\n",
              "  .colab-df-quickchart {\n",
              "    background-color: var(--bg-color);\n",
              "    border: none;\n",
              "    border-radius: 50%;\n",
              "    cursor: pointer;\n",
              "    display: none;\n",
              "    fill: var(--fill-color);\n",
              "    height: 32px;\n",
              "    padding: 0;\n",
              "    width: 32px;\n",
              "  }\n",
              "\n",
              "  .colab-df-quickchart:hover {\n",
              "    background-color: var(--hover-bg-color);\n",
              "    box-shadow: 0 1px 2px rgba(60, 64, 67, 0.3), 0 1px 3px 1px rgba(60, 64, 67, 0.15);\n",
              "    fill: var(--button-hover-fill-color);\n",
              "  }\n",
              "\n",
              "  .colab-df-quickchart-complete:disabled,\n",
              "  .colab-df-quickchart-complete:disabled:hover {\n",
              "    background-color: var(--disabled-bg-color);\n",
              "    fill: var(--disabled-fill-color);\n",
              "    box-shadow: none;\n",
              "  }\n",
              "\n",
              "  .colab-df-spinner {\n",
              "    border: 2px solid var(--fill-color);\n",
              "    border-color: transparent;\n",
              "    border-bottom-color: var(--fill-color);\n",
              "    animation:\n",
              "      spin 1s steps(1) infinite;\n",
              "  }\n",
              "\n",
              "  @keyframes spin {\n",
              "    0% {\n",
              "      border-color: transparent;\n",
              "      border-bottom-color: var(--fill-color);\n",
              "      border-left-color: var(--fill-color);\n",
              "    }\n",
              "    20% {\n",
              "      border-color: transparent;\n",
              "      border-left-color: var(--fill-color);\n",
              "      border-top-color: var(--fill-color);\n",
              "    }\n",
              "    30% {\n",
              "      border-color: transparent;\n",
              "      border-left-color: var(--fill-color);\n",
              "      border-top-color: var(--fill-color);\n",
              "      border-right-color: var(--fill-color);\n",
              "    }\n",
              "    40% {\n",
              "      border-color: transparent;\n",
              "      border-right-color: var(--fill-color);\n",
              "      border-top-color: var(--fill-color);\n",
              "    }\n",
              "    60% {\n",
              "      border-color: transparent;\n",
              "      border-right-color: var(--fill-color);\n",
              "    }\n",
              "    80% {\n",
              "      border-color: transparent;\n",
              "      border-right-color: var(--fill-color);\n",
              "      border-bottom-color: var(--fill-color);\n",
              "    }\n",
              "    90% {\n",
              "      border-color: transparent;\n",
              "      border-bottom-color: var(--fill-color);\n",
              "    }\n",
              "  }\n",
              "</style>\n",
              "\n",
              "      <script>\n",
              "        async function quickchart(key) {\n",
              "          const quickchartButtonEl =\n",
              "            document.querySelector('#' + key + ' button');\n",
              "          quickchartButtonEl.disabled = true;  // To prevent multiple clicks.\n",
              "          quickchartButtonEl.classList.add('colab-df-spinner');\n",
              "          try {\n",
              "            const charts = await google.colab.kernel.invokeFunction(\n",
              "                'suggestCharts', [key], {});\n",
              "          } catch (error) {\n",
              "            console.error('Error during call to suggestCharts:', error);\n",
              "          }\n",
              "          quickchartButtonEl.classList.remove('colab-df-spinner');\n",
              "          quickchartButtonEl.classList.add('colab-df-quickchart-complete');\n",
              "        }\n",
              "        (() => {\n",
              "          let quickchartButtonEl =\n",
              "            document.querySelector('#df-63c2cfad-ddad-46e8-b331-d44154f2d9c8 button');\n",
              "          quickchartButtonEl.style.display =\n",
              "            google.colab.kernel.accessAllowed ? 'block' : 'none';\n",
              "        })();\n",
              "      </script>\n",
              "    </div>\n",
              "\n",
              "    </div>\n",
              "  </div>\n"
            ],
            "application/vnd.google.colaboratory.intrinsic+json": {
              "type": "dataframe",
              "variable_name": "diabetes_dataset",
              "summary": "{\n  \"name\": \"diabetes_dataset\",\n  \"rows\": 768,\n  \"fields\": [\n    {\n      \"column\": \"Pregnancies\",\n      \"properties\": {\n        \"dtype\": \"number\",\n        \"std\": 3,\n        \"min\": 0,\n        \"max\": 17,\n        \"num_unique_values\": 17,\n        \"samples\": [\n          6,\n          1,\n          3\n        ],\n        \"semantic_type\": \"\",\n        \"description\": \"\"\n      }\n    },\n    {\n      \"column\": \"Glucose\",\n      \"properties\": {\n        \"dtype\": \"number\",\n        \"std\": 31,\n        \"min\": 0,\n        \"max\": 199,\n        \"num_unique_values\": 136,\n        \"samples\": [\n          151,\n          101,\n          112\n        ],\n        \"semantic_type\": \"\",\n        \"description\": \"\"\n      }\n    },\n    {\n      \"column\": \"BloodPressure\",\n      \"properties\": {\n        \"dtype\": \"number\",\n        \"std\": 19,\n        \"min\": 0,\n        \"max\": 122,\n        \"num_unique_values\": 47,\n        \"samples\": [\n          86,\n          46,\n          85\n        ],\n        \"semantic_type\": \"\",\n        \"description\": \"\"\n      }\n    },\n    {\n      \"column\": \"SkinThickness\",\n      \"properties\": {\n        \"dtype\": \"number\",\n        \"std\": 15,\n        \"min\": 0,\n        \"max\": 99,\n        \"num_unique_values\": 51,\n        \"samples\": [\n          7,\n          12,\n          48\n        ],\n        \"semantic_type\": \"\",\n        \"description\": \"\"\n      }\n    },\n    {\n      \"column\": \"Insulin\",\n      \"properties\": {\n        \"dtype\": \"number\",\n        \"std\": 115,\n        \"min\": 0,\n        \"max\": 846,\n        \"num_unique_values\": 186,\n        \"samples\": [\n          52,\n          41,\n          183\n        ],\n        \"semantic_type\": \"\",\n        \"description\": \"\"\n      }\n    },\n    {\n      \"column\": \"BMI\",\n      \"properties\": {\n        \"dtype\": \"number\",\n        \"std\": 7.8841603203754405,\n        \"min\": 0.0,\n        \"max\": 67.1,\n        \"num_unique_values\": 248,\n        \"samples\": [\n          19.9,\n          31.0,\n          38.1\n        ],\n        \"semantic_type\": \"\",\n        \"description\": \"\"\n      }\n    },\n    {\n      \"column\": \"DiabetesPedigreeFunction\",\n      \"properties\": {\n        \"dtype\": \"number\",\n        \"std\": 0.33132859501277484,\n        \"min\": 0.078,\n        \"max\": 2.42,\n        \"num_unique_values\": 517,\n        \"samples\": [\n          1.731,\n          0.426,\n          0.138\n        ],\n        \"semantic_type\": \"\",\n        \"description\": \"\"\n      }\n    },\n    {\n      \"column\": \"Age\",\n      \"properties\": {\n        \"dtype\": \"number\",\n        \"std\": 11,\n        \"min\": 21,\n        \"max\": 81,\n        \"num_unique_values\": 52,\n        \"samples\": [\n          60,\n          47,\n          72\n        ],\n        \"semantic_type\": \"\",\n        \"description\": \"\"\n      }\n    },\n    {\n      \"column\": \"Outcome\",\n      \"properties\": {\n        \"dtype\": \"number\",\n        \"std\": 0,\n        \"min\": 0,\n        \"max\": 1,\n        \"num_unique_values\": 2,\n        \"samples\": [\n          0,\n          1\n        ],\n        \"semantic_type\": \"\",\n        \"description\": \"\"\n      }\n    }\n  ]\n}"
            }
          },
          "metadata": {},
          "execution_count": 34
        }
      ]
    },
    {
      "cell_type": "code",
      "source": [
        "# printing the last 5 rows of the dataset\n",
        "diabetes_dataset.tail()"
      ],
      "metadata": {
        "colab": {
          "base_uri": "https://localhost:8080/",
          "height": 226
        },
        "id": "xDrcGP_I-gMZ",
        "outputId": "73b2cbcd-4296-4be3-f605-c0f2c3359bfc"
      },
      "execution_count": null,
      "outputs": [
        {
          "output_type": "execute_result",
          "data": {
            "text/plain": [
              "     Pregnancies  Glucose  BloodPressure  SkinThickness  Insulin   BMI  \\\n",
              "763           10      101             76             48      180  32.9   \n",
              "764            2      122             70             27        0  36.8   \n",
              "765            5      121             72             23      112  26.2   \n",
              "766            1      126             60              0        0  30.1   \n",
              "767            1       93             70             31        0  30.4   \n",
              "\n",
              "     DiabetesPedigreeFunction  Age  Outcome  \n",
              "763                     0.171   63        0  \n",
              "764                     0.340   27        0  \n",
              "765                     0.245   30        0  \n",
              "766                     0.349   47        1  \n",
              "767                     0.315   23        0  "
            ],
            "text/html": [
              "\n",
              "  <div id=\"df-e47c9037-8ad6-415a-ac84-cb3e63608a7f\" class=\"colab-df-container\">\n",
              "    <div>\n",
              "<style scoped>\n",
              "    .dataframe tbody tr th:only-of-type {\n",
              "        vertical-align: middle;\n",
              "    }\n",
              "\n",
              "    .dataframe tbody tr th {\n",
              "        vertical-align: top;\n",
              "    }\n",
              "\n",
              "    .dataframe thead th {\n",
              "        text-align: right;\n",
              "    }\n",
              "</style>\n",
              "<table border=\"1\" class=\"dataframe\">\n",
              "  <thead>\n",
              "    <tr style=\"text-align: right;\">\n",
              "      <th></th>\n",
              "      <th>Pregnancies</th>\n",
              "      <th>Glucose</th>\n",
              "      <th>BloodPressure</th>\n",
              "      <th>SkinThickness</th>\n",
              "      <th>Insulin</th>\n",
              "      <th>BMI</th>\n",
              "      <th>DiabetesPedigreeFunction</th>\n",
              "      <th>Age</th>\n",
              "      <th>Outcome</th>\n",
              "    </tr>\n",
              "  </thead>\n",
              "  <tbody>\n",
              "    <tr>\n",
              "      <th>763</th>\n",
              "      <td>10</td>\n",
              "      <td>101</td>\n",
              "      <td>76</td>\n",
              "      <td>48</td>\n",
              "      <td>180</td>\n",
              "      <td>32.9</td>\n",
              "      <td>0.171</td>\n",
              "      <td>63</td>\n",
              "      <td>0</td>\n",
              "    </tr>\n",
              "    <tr>\n",
              "      <th>764</th>\n",
              "      <td>2</td>\n",
              "      <td>122</td>\n",
              "      <td>70</td>\n",
              "      <td>27</td>\n",
              "      <td>0</td>\n",
              "      <td>36.8</td>\n",
              "      <td>0.340</td>\n",
              "      <td>27</td>\n",
              "      <td>0</td>\n",
              "    </tr>\n",
              "    <tr>\n",
              "      <th>765</th>\n",
              "      <td>5</td>\n",
              "      <td>121</td>\n",
              "      <td>72</td>\n",
              "      <td>23</td>\n",
              "      <td>112</td>\n",
              "      <td>26.2</td>\n",
              "      <td>0.245</td>\n",
              "      <td>30</td>\n",
              "      <td>0</td>\n",
              "    </tr>\n",
              "    <tr>\n",
              "      <th>766</th>\n",
              "      <td>1</td>\n",
              "      <td>126</td>\n",
              "      <td>60</td>\n",
              "      <td>0</td>\n",
              "      <td>0</td>\n",
              "      <td>30.1</td>\n",
              "      <td>0.349</td>\n",
              "      <td>47</td>\n",
              "      <td>1</td>\n",
              "    </tr>\n",
              "    <tr>\n",
              "      <th>767</th>\n",
              "      <td>1</td>\n",
              "      <td>93</td>\n",
              "      <td>70</td>\n",
              "      <td>31</td>\n",
              "      <td>0</td>\n",
              "      <td>30.4</td>\n",
              "      <td>0.315</td>\n",
              "      <td>23</td>\n",
              "      <td>0</td>\n",
              "    </tr>\n",
              "  </tbody>\n",
              "</table>\n",
              "</div>\n",
              "    <div class=\"colab-df-buttons\">\n",
              "\n",
              "  <div class=\"colab-df-container\">\n",
              "    <button class=\"colab-df-convert\" onclick=\"convertToInteractive('df-e47c9037-8ad6-415a-ac84-cb3e63608a7f')\"\n",
              "            title=\"Convert this dataframe to an interactive table.\"\n",
              "            style=\"display:none;\">\n",
              "\n",
              "  <svg xmlns=\"http://www.w3.org/2000/svg\" height=\"24px\" viewBox=\"0 -960 960 960\">\n",
              "    <path d=\"M120-120v-720h720v720H120Zm60-500h600v-160H180v160Zm220 220h160v-160H400v160Zm0 220h160v-160H400v160ZM180-400h160v-160H180v160Zm440 0h160v-160H620v160ZM180-180h160v-160H180v160Zm440 0h160v-160H620v160Z\"/>\n",
              "  </svg>\n",
              "    </button>\n",
              "\n",
              "  <style>\n",
              "    .colab-df-container {\n",
              "      display:flex;\n",
              "      gap: 12px;\n",
              "    }\n",
              "\n",
              "    .colab-df-convert {\n",
              "      background-color: #E8F0FE;\n",
              "      border: none;\n",
              "      border-radius: 50%;\n",
              "      cursor: pointer;\n",
              "      display: none;\n",
              "      fill: #1967D2;\n",
              "      height: 32px;\n",
              "      padding: 0 0 0 0;\n",
              "      width: 32px;\n",
              "    }\n",
              "\n",
              "    .colab-df-convert:hover {\n",
              "      background-color: #E2EBFA;\n",
              "      box-shadow: 0px 1px 2px rgba(60, 64, 67, 0.3), 0px 1px 3px 1px rgba(60, 64, 67, 0.15);\n",
              "      fill: #174EA6;\n",
              "    }\n",
              "\n",
              "    .colab-df-buttons div {\n",
              "      margin-bottom: 4px;\n",
              "    }\n",
              "\n",
              "    [theme=dark] .colab-df-convert {\n",
              "      background-color: #3B4455;\n",
              "      fill: #D2E3FC;\n",
              "    }\n",
              "\n",
              "    [theme=dark] .colab-df-convert:hover {\n",
              "      background-color: #434B5C;\n",
              "      box-shadow: 0px 1px 3px 1px rgba(0, 0, 0, 0.15);\n",
              "      filter: drop-shadow(0px 1px 2px rgba(0, 0, 0, 0.3));\n",
              "      fill: #FFFFFF;\n",
              "    }\n",
              "  </style>\n",
              "\n",
              "    <script>\n",
              "      const buttonEl =\n",
              "        document.querySelector('#df-e47c9037-8ad6-415a-ac84-cb3e63608a7f button.colab-df-convert');\n",
              "      buttonEl.style.display =\n",
              "        google.colab.kernel.accessAllowed ? 'block' : 'none';\n",
              "\n",
              "      async function convertToInteractive(key) {\n",
              "        const element = document.querySelector('#df-e47c9037-8ad6-415a-ac84-cb3e63608a7f');\n",
              "        const dataTable =\n",
              "          await google.colab.kernel.invokeFunction('convertToInteractive',\n",
              "                                                    [key], {});\n",
              "        if (!dataTable) return;\n",
              "\n",
              "        const docLinkHtml = 'Like what you see? Visit the ' +\n",
              "          '<a target=\"_blank\" href=https://colab.research.google.com/notebooks/data_table.ipynb>data table notebook</a>'\n",
              "          + ' to learn more about interactive tables.';\n",
              "        element.innerHTML = '';\n",
              "        dataTable['output_type'] = 'display_data';\n",
              "        await google.colab.output.renderOutput(dataTable, element);\n",
              "        const docLink = document.createElement('div');\n",
              "        docLink.innerHTML = docLinkHtml;\n",
              "        element.appendChild(docLink);\n",
              "      }\n",
              "    </script>\n",
              "  </div>\n",
              "\n",
              "\n",
              "    <div id=\"df-9e938abe-5242-4151-bbc6-2c3378289623\">\n",
              "      <button class=\"colab-df-quickchart\" onclick=\"quickchart('df-9e938abe-5242-4151-bbc6-2c3378289623')\"\n",
              "                title=\"Suggest charts\"\n",
              "                style=\"display:none;\">\n",
              "\n",
              "<svg xmlns=\"http://www.w3.org/2000/svg\" height=\"24px\"viewBox=\"0 0 24 24\"\n",
              "     width=\"24px\">\n",
              "    <g>\n",
              "        <path d=\"M19 3H5c-1.1 0-2 .9-2 2v14c0 1.1.9 2 2 2h14c1.1 0 2-.9 2-2V5c0-1.1-.9-2-2-2zM9 17H7v-7h2v7zm4 0h-2V7h2v10zm4 0h-2v-4h2v4z\"/>\n",
              "    </g>\n",
              "</svg>\n",
              "      </button>\n",
              "\n",
              "<style>\n",
              "  .colab-df-quickchart {\n",
              "      --bg-color: #E8F0FE;\n",
              "      --fill-color: #1967D2;\n",
              "      --hover-bg-color: #E2EBFA;\n",
              "      --hover-fill-color: #174EA6;\n",
              "      --disabled-fill-color: #AAA;\n",
              "      --disabled-bg-color: #DDD;\n",
              "  }\n",
              "\n",
              "  [theme=dark] .colab-df-quickchart {\n",
              "      --bg-color: #3B4455;\n",
              "      --fill-color: #D2E3FC;\n",
              "      --hover-bg-color: #434B5C;\n",
              "      --hover-fill-color: #FFFFFF;\n",
              "      --disabled-bg-color: #3B4455;\n",
              "      --disabled-fill-color: #666;\n",
              "  }\n",
              "\n",
              "  .colab-df-quickchart {\n",
              "    background-color: var(--bg-color);\n",
              "    border: none;\n",
              "    border-radius: 50%;\n",
              "    cursor: pointer;\n",
              "    display: none;\n",
              "    fill: var(--fill-color);\n",
              "    height: 32px;\n",
              "    padding: 0;\n",
              "    width: 32px;\n",
              "  }\n",
              "\n",
              "  .colab-df-quickchart:hover {\n",
              "    background-color: var(--hover-bg-color);\n",
              "    box-shadow: 0 1px 2px rgba(60, 64, 67, 0.3), 0 1px 3px 1px rgba(60, 64, 67, 0.15);\n",
              "    fill: var(--button-hover-fill-color);\n",
              "  }\n",
              "\n",
              "  .colab-df-quickchart-complete:disabled,\n",
              "  .colab-df-quickchart-complete:disabled:hover {\n",
              "    background-color: var(--disabled-bg-color);\n",
              "    fill: var(--disabled-fill-color);\n",
              "    box-shadow: none;\n",
              "  }\n",
              "\n",
              "  .colab-df-spinner {\n",
              "    border: 2px solid var(--fill-color);\n",
              "    border-color: transparent;\n",
              "    border-bottom-color: var(--fill-color);\n",
              "    animation:\n",
              "      spin 1s steps(1) infinite;\n",
              "  }\n",
              "\n",
              "  @keyframes spin {\n",
              "    0% {\n",
              "      border-color: transparent;\n",
              "      border-bottom-color: var(--fill-color);\n",
              "      border-left-color: var(--fill-color);\n",
              "    }\n",
              "    20% {\n",
              "      border-color: transparent;\n",
              "      border-left-color: var(--fill-color);\n",
              "      border-top-color: var(--fill-color);\n",
              "    }\n",
              "    30% {\n",
              "      border-color: transparent;\n",
              "      border-left-color: var(--fill-color);\n",
              "      border-top-color: var(--fill-color);\n",
              "      border-right-color: var(--fill-color);\n",
              "    }\n",
              "    40% {\n",
              "      border-color: transparent;\n",
              "      border-right-color: var(--fill-color);\n",
              "      border-top-color: var(--fill-color);\n",
              "    }\n",
              "    60% {\n",
              "      border-color: transparent;\n",
              "      border-right-color: var(--fill-color);\n",
              "    }\n",
              "    80% {\n",
              "      border-color: transparent;\n",
              "      border-right-color: var(--fill-color);\n",
              "      border-bottom-color: var(--fill-color);\n",
              "    }\n",
              "    90% {\n",
              "      border-color: transparent;\n",
              "      border-bottom-color: var(--fill-color);\n",
              "    }\n",
              "  }\n",
              "</style>\n",
              "\n",
              "      <script>\n",
              "        async function quickchart(key) {\n",
              "          const quickchartButtonEl =\n",
              "            document.querySelector('#' + key + ' button');\n",
              "          quickchartButtonEl.disabled = true;  // To prevent multiple clicks.\n",
              "          quickchartButtonEl.classList.add('colab-df-spinner');\n",
              "          try {\n",
              "            const charts = await google.colab.kernel.invokeFunction(\n",
              "                'suggestCharts', [key], {});\n",
              "          } catch (error) {\n",
              "            console.error('Error during call to suggestCharts:', error);\n",
              "          }\n",
              "          quickchartButtonEl.classList.remove('colab-df-spinner');\n",
              "          quickchartButtonEl.classList.add('colab-df-quickchart-complete');\n",
              "        }\n",
              "        (() => {\n",
              "          let quickchartButtonEl =\n",
              "            document.querySelector('#df-9e938abe-5242-4151-bbc6-2c3378289623 button');\n",
              "          quickchartButtonEl.style.display =\n",
              "            google.colab.kernel.accessAllowed ? 'block' : 'none';\n",
              "        })();\n",
              "      </script>\n",
              "    </div>\n",
              "\n",
              "    </div>\n",
              "  </div>\n"
            ],
            "application/vnd.google.colaboratory.intrinsic+json": {
              "type": "dataframe",
              "summary": "{\n  \"name\": \"diabetes_dataset\",\n  \"rows\": 5,\n  \"fields\": [\n    {\n      \"column\": \"Pregnancies\",\n      \"properties\": {\n        \"dtype\": \"number\",\n        \"std\": 3,\n        \"min\": 1,\n        \"max\": 10,\n        \"num_unique_values\": 4,\n        \"samples\": [\n          2,\n          1,\n          10\n        ],\n        \"semantic_type\": \"\",\n        \"description\": \"\"\n      }\n    },\n    {\n      \"column\": \"Glucose\",\n      \"properties\": {\n        \"dtype\": \"number\",\n        \"std\": 14,\n        \"min\": 93,\n        \"max\": 126,\n        \"num_unique_values\": 5,\n        \"samples\": [\n          122,\n          93,\n          121\n        ],\n        \"semantic_type\": \"\",\n        \"description\": \"\"\n      }\n    },\n    {\n      \"column\": \"BloodPressure\",\n      \"properties\": {\n        \"dtype\": \"number\",\n        \"std\": 5,\n        \"min\": 60,\n        \"max\": 76,\n        \"num_unique_values\": 4,\n        \"samples\": [\n          70,\n          60,\n          76\n        ],\n        \"semantic_type\": \"\",\n        \"description\": \"\"\n      }\n    },\n    {\n      \"column\": \"SkinThickness\",\n      \"properties\": {\n        \"dtype\": \"number\",\n        \"std\": 17,\n        \"min\": 0,\n        \"max\": 48,\n        \"num_unique_values\": 5,\n        \"samples\": [\n          27,\n          31,\n          23\n        ],\n        \"semantic_type\": \"\",\n        \"description\": \"\"\n      }\n    },\n    {\n      \"column\": \"Insulin\",\n      \"properties\": {\n        \"dtype\": \"number\",\n        \"std\": 83,\n        \"min\": 0,\n        \"max\": 180,\n        \"num_unique_values\": 3,\n        \"samples\": [\n          180,\n          0,\n          112\n        ],\n        \"semantic_type\": \"\",\n        \"description\": \"\"\n      }\n    },\n    {\n      \"column\": \"BMI\",\n      \"properties\": {\n        \"dtype\": \"number\",\n        \"std\": 3.9073008586491,\n        \"min\": 26.2,\n        \"max\": 36.8,\n        \"num_unique_values\": 5,\n        \"samples\": [\n          36.8,\n          30.4,\n          26.2\n        ],\n        \"semantic_type\": \"\",\n        \"description\": \"\"\n      }\n    },\n    {\n      \"column\": \"DiabetesPedigreeFunction\",\n      \"properties\": {\n        \"dtype\": \"number\",\n        \"std\": 0.07518643494673756,\n        \"min\": 0.171,\n        \"max\": 0.349,\n        \"num_unique_values\": 5,\n        \"samples\": [\n          0.34,\n          0.315,\n          0.245\n        ],\n        \"semantic_type\": \"\",\n        \"description\": \"\"\n      }\n    },\n    {\n      \"column\": \"Age\",\n      \"properties\": {\n        \"dtype\": \"number\",\n        \"std\": 16,\n        \"min\": 23,\n        \"max\": 63,\n        \"num_unique_values\": 5,\n        \"samples\": [\n          27,\n          23,\n          30\n        ],\n        \"semantic_type\": \"\",\n        \"description\": \"\"\n      }\n    },\n    {\n      \"column\": \"Outcome\",\n      \"properties\": {\n        \"dtype\": \"number\",\n        \"std\": 0,\n        \"min\": 0,\n        \"max\": 1,\n        \"num_unique_values\": 2,\n        \"samples\": [\n          1,\n          0\n        ],\n        \"semantic_type\": \"\",\n        \"description\": \"\"\n      }\n    }\n  ]\n}"
            }
          },
          "metadata": {},
          "execution_count": 35
        }
      ]
    },
    {
      "cell_type": "code",
      "source": [
        "# number of rows and columns in this dataset\n",
        "diabetes_dataset.shape"
      ],
      "metadata": {
        "colab": {
          "base_uri": "https://localhost:8080/"
        },
        "id": "xGJJiHE--on3",
        "outputId": "adc47f00-1db3-4e00-af73-af2a23f0833b"
      },
      "execution_count": null,
      "outputs": [
        {
          "output_type": "execute_result",
          "data": {
            "text/plain": [
              "(768, 9)"
            ]
          },
          "metadata": {},
          "execution_count": 36
        }
      ]
    },
    {
      "cell_type": "code",
      "source": [
        "# separating the features and target\n",
        "X = diabetes_dataset.drop(columns='Outcome', axis=1)\n",
        "Y = diabetes_dataset['Outcome']"
      ],
      "metadata": {
        "id": "xgVBg6nQ-t7L"
      },
      "execution_count": null,
      "outputs": []
    },
    {
      "cell_type": "code",
      "source": [
        "# converting the data to numpy array\n",
        "X = X.to_numpy()\n",
        "Y = Y.to_numpy()"
      ],
      "metadata": {
        "id": "NfJsBM8w-4_B"
      },
      "execution_count": null,
      "outputs": []
    },
    {
      "cell_type": "code",
      "source": [
        "print(X)\n",
        "print(Y)"
      ],
      "metadata": {
        "colab": {
          "base_uri": "https://localhost:8080/"
        },
        "id": "mTo7d1rs_CHa",
        "outputId": "62716f6f-6cb9-4faf-8179-72f806441a9c"
      },
      "execution_count": null,
      "outputs": [
        {
          "output_type": "stream",
          "name": "stdout",
          "text": [
            "[[  6.    148.     72.    ...  33.6     0.627  50.   ]\n",
            " [  1.     85.     66.    ...  26.6     0.351  31.   ]\n",
            " [  8.    183.     64.    ...  23.3     0.672  32.   ]\n",
            " ...\n",
            " [  5.    121.     72.    ...  26.2     0.245  30.   ]\n",
            " [  1.    126.     60.    ...  30.1     0.349  47.   ]\n",
            " [  1.     93.     70.    ...  30.4     0.315  23.   ]]\n",
            "[1 0 1 0 1 0 1 0 1 1 0 1 0 1 1 1 1 1 0 1 0 0 1 1 1 1 1 0 0 0 0 1 0 0 0 0 0\n",
            " 1 1 1 0 0 0 1 0 1 0 0 1 0 0 0 0 1 0 0 1 0 0 0 0 1 0 0 1 0 1 0 0 0 1 0 1 0\n",
            " 0 0 0 0 1 0 0 0 0 0 1 0 0 0 1 0 0 0 0 1 0 0 0 0 0 1 1 0 0 0 0 0 0 0 0 1 1\n",
            " 1 0 0 1 1 1 0 0 0 1 0 0 0 1 1 0 0 1 1 1 1 1 0 0 0 0 0 0 0 0 0 0 1 0 0 0 0\n",
            " 0 0 0 0 1 0 1 1 0 0 0 1 0 0 0 0 1 1 0 0 0 0 1 1 0 0 0 1 0 1 0 1 0 0 0 0 0\n",
            " 1 1 1 1 1 0 0 1 1 0 1 0 1 1 1 0 0 0 0 0 0 1 1 0 1 0 0 0 1 1 1 1 0 1 1 1 1\n",
            " 0 0 0 0 0 1 0 0 1 1 0 0 0 1 1 1 1 0 0 0 1 1 0 1 0 0 0 0 0 0 0 0 1 1 0 0 0\n",
            " 1 0 1 0 0 1 0 1 0 0 1 1 0 0 0 0 0 1 0 0 0 1 0 0 1 1 0 0 1 0 0 0 1 1 1 0 0\n",
            " 1 0 1 0 1 1 0 1 0 0 1 0 1 1 0 0 1 0 1 0 0 1 0 1 0 1 1 1 0 0 1 0 1 0 0 0 1\n",
            " 0 0 0 0 1 1 1 0 0 0 0 0 0 0 0 0 1 0 0 0 0 0 1 1 1 0 1 1 0 0 1 0 0 1 0 0 1\n",
            " 1 0 0 0 0 1 0 0 1 0 0 0 0 0 0 0 1 1 1 0 0 1 0 0 1 0 0 1 0 1 1 0 1 0 1 0 1\n",
            " 0 1 1 0 0 0 0 1 1 0 1 0 1 0 0 0 0 1 1 0 1 0 1 0 0 0 0 0 1 0 0 0 0 1 0 0 1\n",
            " 1 1 0 0 1 0 0 1 0 0 0 1 0 0 1 0 0 0 0 0 0 0 0 0 1 0 0 0 0 0 0 0 1 0 0 0 1\n",
            " 0 0 0 1 1 0 0 0 0 0 0 0 1 0 0 0 0 1 0 0 0 1 0 0 0 1 0 0 0 1 0 0 0 0 1 1 0\n",
            " 0 0 0 0 0 1 0 0 0 0 0 0 0 0 0 0 0 1 0 0 0 1 1 1 1 0 0 1 1 0 0 0 0 0 0 0 0\n",
            " 0 0 0 0 0 1 1 0 0 0 0 0 0 0 1 0 0 0 0 0 0 0 1 0 1 1 0 0 0 1 0 1 0 1 0 1 0\n",
            " 1 0 0 1 0 0 1 0 0 0 0 1 1 0 1 0 0 0 0 1 1 0 1 0 0 0 1 1 0 0 0 0 0 0 0 0 0\n",
            " 0 1 0 0 0 0 1 0 0 1 0 0 0 1 0 0 0 1 1 1 0 0 0 0 0 0 1 0 0 0 1 0 1 1 1 1 0\n",
            " 1 1 0 0 0 0 0 0 0 1 1 0 1 0 0 1 0 1 0 0 0 0 0 1 0 1 0 1 0 1 1 0 0 0 0 1 1\n",
            " 0 0 0 1 0 1 1 0 0 1 0 0 1 1 0 0 1 0 0 1 0 0 0 0 0 0 0 1 1 1 0 0 0 0 0 0 1\n",
            " 1 0 0 1 0 0 1 0 1 1 1 0 0 1 1 1 0 1 0 1 0 1 0 0 0 0 1 0]\n"
          ]
        }
      ]
    },
    {
      "cell_type": "code",
      "source": [
        "# Train Test Split\n",
        "X_train, X_test, Y_train, Y_test = train_test_split(X,Y,test_size=0.2, stratify=Y, random_state=2)"
      ],
      "metadata": {
        "id": "P6vATRl__EB1"
      },
      "execution_count": null,
      "outputs": []
    },
    {
      "cell_type": "code",
      "source": [
        "print(X.shape, X_train.shape, X_test.shape)"
      ],
      "metadata": {
        "colab": {
          "base_uri": "https://localhost:8080/"
        },
        "id": "LB0HLHaA_UYa",
        "outputId": "446fcde6-7cb1-4109-901d-c9443ac18956"
      },
      "execution_count": null,
      "outputs": [
        {
          "output_type": "stream",
          "name": "stdout",
          "text": [
            "(768, 8) (614, 8) (154, 8)\n"
          ]
        }
      ]
    },
    {
      "cell_type": "code",
      "source": [
        "print(X_train)"
      ],
      "metadata": {
        "colab": {
          "base_uri": "https://localhost:8080/"
        },
        "id": "8omhEfkw_aN1",
        "outputId": "fbc762aa-6f88-4e18-dff1-d3ef548b5ec8"
      },
      "execution_count": null,
      "outputs": [
        {
          "output_type": "stream",
          "name": "stdout",
          "text": [
            "[[0.00e+00 1.19e+02 0.00e+00 ... 3.24e+01 1.41e-01 2.40e+01]\n",
            " [6.00e+00 1.05e+02 7.00e+01 ... 3.08e+01 1.22e-01 3.70e+01]\n",
            " [1.00e+00 1.89e+02 6.00e+01 ... 3.01e+01 3.98e-01 5.90e+01]\n",
            " ...\n",
            " [1.10e+01 8.50e+01 7.40e+01 ... 3.01e+01 3.00e-01 3.50e+01]\n",
            " [4.00e+00 1.12e+02 7.80e+01 ... 3.94e+01 2.36e-01 3.80e+01]\n",
            " [0.00e+00 8.60e+01 6.80e+01 ... 3.58e+01 2.38e-01 2.50e+01]]\n"
          ]
        }
      ]
    },
    {
      "cell_type": "code",
      "source": [
        "print(Y_train)"
      ],
      "metadata": {
        "colab": {
          "base_uri": "https://localhost:8080/"
        },
        "id": "PCP5YLnbAIUl",
        "outputId": "66ec15f0-ebc9-476e-ac7e-6c26d5217eb0"
      },
      "execution_count": null,
      "outputs": [
        {
          "output_type": "stream",
          "name": "stdout",
          "text": [
            "[1 0 1 1 1 1 0 1 0 0 1 1 0 0 0 0 0 0 0 1 0 0 0 0 0 0 1 1 0 1 0 0 0 0 1 1 0\n",
            " 0 0 0 0 1 0 0 0 0 0 0 1 0 1 0 0 0 0 0 1 0 1 0 0 0 0 0 0 0 0 1 1 1 0 0 0 1\n",
            " 1 0 1 0 1 0 0 1 1 0 0 0 0 1 1 0 0 0 1 0 0 1 0 0 1 1 0 1 0 0 1 0 0 0 0 0 0\n",
            " 0 1 0 0 0 0 0 1 1 0 0 1 0 0 1 0 1 0 1 1 1 1 0 0 0 0 1 0 0 0 1 0 0 0 1 1 0\n",
            " 1 1 0 1 1 1 1 0 0 0 1 0 0 1 0 1 0 0 1 0 0 0 0 1 0 1 1 0 1 1 0 0 0 1 0 0 0\n",
            " 0 1 0 1 0 1 0 0 1 0 1 0 0 1 0 1 0 0 1 1 0 1 0 0 0 0 0 0 0 1 0 1 0 0 0 1 0\n",
            " 0 1 1 0 0 1 0 0 1 0 0 0 1 1 1 0 0 0 0 0 0 1 0 0 0 0 0 0 1 1 0 1 0 1 1 1 1\n",
            " 0 0 1 0 0 1 1 0 0 0 0 1 0 0 0 1 1 1 1 1 0 1 1 0 0 0 0 0 0 0 0 0 0 0 0 1 1\n",
            " 0 0 0 0 1 1 0 0 0 0 0 0 0 0 0 0 1 0 1 0 0 0 1 1 1 0 0 0 0 1 0 0 0 0 0 0 0\n",
            " 0 1 0 0 0 0 0 0 1 1 0 0 0 0 1 1 0 1 0 0 0 1 0 0 0 0 1 0 1 0 1 1 0 0 0 0 0\n",
            " 0 1 1 1 1 0 1 1 1 0 1 0 0 0 1 0 1 0 0 0 1 0 0 1 1 0 0 0 0 0 1 0 0 0 0 1 0\n",
            " 1 0 0 0 0 0 0 1 0 0 0 0 1 0 0 0 0 0 1 0 0 0 1 0 0 0 0 1 0 1 0 0 1 0 0 0 0\n",
            " 1 1 1 0 0 0 1 0 0 0 1 1 0 0 1 1 0 0 0 1 0 1 1 0 1 0 0 1 1 0 0 0 0 0 1 0 1\n",
            " 0 0 0 0 0 0 1 0 0 0 1 0 0 0 0 1 0 0 1 0 0 1 1 0 1 0 0 1 1 0 1 0 0 1 1 0 0\n",
            " 0 1 0 1 0 1 1 0 0 0 0 0 0 1 0 0 1 0 1 1 1 1 1 1 0 1 1 0 1 0 1 1 0 1 0 1 0\n",
            " 0 0 0 0 0 0 1 0 0 0 0 0 1 1 0 1 1 0 0 1 0 1 1 1 0 0 0 0 0 0 0 0 1 0 1 0 0\n",
            " 0 0 0 0 1 0 0 0 1 1 0 1 0 0 1 0 0 1 1 0 0 0]\n"
          ]
        }
      ]
    },
    {
      "cell_type": "code",
      "source": [
        "#The training data should contain the features and target so we add the Y_train i.e. Target column to the X_train data\n",
        "X_train = np.insert(X_train, 8, Y_train, axis=1)"
      ],
      "metadata": {
        "id": "w9X6eEeX_dyM"
      },
      "execution_count": null,
      "outputs": []
    },
    {
      "cell_type": "code",
      "source": [
        "print(X_train)"
      ],
      "metadata": {
        "colab": {
          "base_uri": "https://localhost:8080/"
        },
        "id": "hY8_ad_y_fku",
        "outputId": "d0cd632c-af2c-41d5-edff-da1ac2ec9121"
      },
      "execution_count": null,
      "outputs": [
        {
          "output_type": "stream",
          "name": "stdout",
          "text": [
            "[[0.00e+00 1.19e+02 0.00e+00 ... 1.41e-01 2.40e+01 1.00e+00]\n",
            " [6.00e+00 1.05e+02 7.00e+01 ... 1.22e-01 3.70e+01 0.00e+00]\n",
            " [1.00e+00 1.89e+02 6.00e+01 ... 3.98e-01 5.90e+01 1.00e+00]\n",
            " ...\n",
            " [1.10e+01 8.50e+01 7.40e+01 ... 3.00e-01 3.50e+01 0.00e+00]\n",
            " [4.00e+00 1.12e+02 7.80e+01 ... 2.36e-01 3.80e+01 0.00e+00]\n",
            " [0.00e+00 8.60e+01 6.80e+01 ... 2.38e-01 2.50e+01 0.00e+00]]\n"
          ]
        }
      ]
    },
    {
      "cell_type": "code",
      "source": [
        "X_train.shape"
      ],
      "metadata": {
        "colab": {
          "base_uri": "https://localhost:8080/"
        },
        "id": "-lJ994SR_q0T",
        "outputId": "2ebe7bce-cd7b-4219-c3bc-1173d72dd9e4"
      },
      "execution_count": null,
      "outputs": [
        {
          "output_type": "execute_result",
          "data": {
            "text/plain": [
              "(614, 9)"
            ]
          },
          "metadata": {},
          "execution_count": 46
        }
      ]
    },
    {
      "cell_type": "code",
      "source": [
        "print(X_train[:,8])"
      ],
      "metadata": {
        "colab": {
          "base_uri": "https://localhost:8080/"
        },
        "id": "zoZwy81_AQev",
        "outputId": "e60fd060-3103-4775-8c83-fcc869d381d5"
      },
      "execution_count": null,
      "outputs": [
        {
          "output_type": "stream",
          "name": "stdout",
          "text": [
            "[1. 0. 1. 1. 1. 1. 0. 1. 0. 0. 1. 1. 0. 0. 0. 0. 0. 0. 0. 1. 0. 0. 0. 0.\n",
            " 0. 0. 1. 1. 0. 1. 0. 0. 0. 0. 1. 1. 0. 0. 0. 0. 0. 1. 0. 0. 0. 0. 0. 0.\n",
            " 1. 0. 1. 0. 0. 0. 0. 0. 1. 0. 1. 0. 0. 0. 0. 0. 0. 0. 0. 1. 1. 1. 0. 0.\n",
            " 0. 1. 1. 0. 1. 0. 1. 0. 0. 1. 1. 0. 0. 0. 0. 1. 1. 0. 0. 0. 1. 0. 0. 1.\n",
            " 0. 0. 1. 1. 0. 1. 0. 0. 1. 0. 0. 0. 0. 0. 0. 0. 1. 0. 0. 0. 0. 0. 1. 1.\n",
            " 0. 0. 1. 0. 0. 1. 0. 1. 0. 1. 1. 1. 1. 0. 0. 0. 0. 1. 0. 0. 0. 1. 0. 0.\n",
            " 0. 1. 1. 0. 1. 1. 0. 1. 1. 1. 1. 0. 0. 0. 1. 0. 0. 1. 0. 1. 0. 0. 1. 0.\n",
            " 0. 0. 0. 1. 0. 1. 1. 0. 1. 1. 0. 0. 0. 1. 0. 0. 0. 0. 1. 0. 1. 0. 1. 0.\n",
            " 0. 1. 0. 1. 0. 0. 1. 0. 1. 0. 0. 1. 1. 0. 1. 0. 0. 0. 0. 0. 0. 0. 1. 0.\n",
            " 1. 0. 0. 0. 1. 0. 0. 1. 1. 0. 0. 1. 0. 0. 1. 0. 0. 0. 1. 1. 1. 0. 0. 0.\n",
            " 0. 0. 0. 1. 0. 0. 0. 0. 0. 0. 1. 1. 0. 1. 0. 1. 1. 1. 1. 0. 0. 1. 0. 0.\n",
            " 1. 1. 0. 0. 0. 0. 1. 0. 0. 0. 1. 1. 1. 1. 1. 0. 1. 1. 0. 0. 0. 0. 0. 0.\n",
            " 0. 0. 0. 0. 0. 0. 1. 1. 0. 0. 0. 0. 1. 1. 0. 0. 0. 0. 0. 0. 0. 0. 0. 0.\n",
            " 1. 0. 1. 0. 0. 0. 1. 1. 1. 0. 0. 0. 0. 1. 0. 0. 0. 0. 0. 0. 0. 0. 1. 0.\n",
            " 0. 0. 0. 0. 0. 1. 1. 0. 0. 0. 0. 1. 1. 0. 1. 0. 0. 0. 1. 0. 0. 0. 0. 1.\n",
            " 0. 1. 0. 1. 1. 0. 0. 0. 0. 0. 0. 1. 1. 1. 1. 0. 1. 1. 1. 0. 1. 0. 0. 0.\n",
            " 1. 0. 1. 0. 0. 0. 1. 0. 0. 1. 1. 0. 0. 0. 0. 0. 1. 0. 0. 0. 0. 1. 0. 1.\n",
            " 0. 0. 0. 0. 0. 0. 1. 0. 0. 0. 0. 1. 0. 0. 0. 0. 0. 1. 0. 0. 0. 1. 0. 0.\n",
            " 0. 0. 1. 0. 1. 0. 0. 1. 0. 0. 0. 0. 1. 1. 1. 0. 0. 0. 1. 0. 0. 0. 1. 1.\n",
            " 0. 0. 1. 1. 0. 0. 0. 1. 0. 1. 1. 0. 1. 0. 0. 1. 1. 0. 0. 0. 0. 0. 1. 0.\n",
            " 1. 0. 0. 0. 0. 0. 0. 1. 0. 0. 0. 1. 0. 0. 0. 0. 1. 0. 0. 1. 0. 0. 1. 1.\n",
            " 0. 1. 0. 0. 1. 1. 0. 1. 0. 0. 1. 1. 0. 0. 0. 1. 0. 1. 0. 1. 1. 0. 0. 0.\n",
            " 0. 0. 0. 1. 0. 0. 1. 0. 1. 1. 1. 1. 1. 1. 0. 1. 1. 0. 1. 0. 1. 1. 0. 1.\n",
            " 0. 1. 0. 0. 0. 0. 0. 0. 0. 1. 0. 0. 0. 0. 0. 1. 1. 0. 1. 1. 0. 0. 1. 0.\n",
            " 1. 1. 1. 0. 0. 0. 0. 0. 0. 0. 0. 1. 0. 1. 0. 0. 0. 0. 0. 0. 1. 0. 0. 0.\n",
            " 1. 1. 0. 1. 0. 0. 1. 0. 0. 1. 1. 0. 0. 0.]\n"
          ]
        }
      ]
    },
    {
      "cell_type": "markdown",
      "source": [
        "X_train --->  training data with features and target\n",
        "\n",
        "X_test --->  test data without target"
      ],
      "metadata": {
        "id": "NjTh4xaOAof8"
      }
    },
    {
      "cell_type": "markdown",
      "source": [
        "**Model Training : KNN Classifier**"
      ],
      "metadata": {
        "id": "eszHSRKrAzXb"
      }
    },
    {
      "cell_type": "code",
      "source": [
        "classifier = KNN_Classifier(distance_metric='euclidean')"
      ],
      "metadata": {
        "id": "14FMMtEJBOH7"
      },
      "execution_count": null,
      "outputs": []
    },
    {
      "cell_type": "markdown",
      "source": [
        "**NOTE : ** The KNN Classifier can predict the label for only one data point at a time"
      ],
      "metadata": {
        "id": "9UqY6_L1A49o"
      }
    },
    {
      "cell_type": "code",
      "source": [
        "prediction = classifier.predict(X_train, X_test[0], k=5)"
      ],
      "metadata": {
        "id": "UxGY9FOaBIn2"
      },
      "execution_count": null,
      "outputs": []
    },
    {
      "cell_type": "code",
      "source": [
        "print(X_test[0])"
      ],
      "metadata": {
        "colab": {
          "base_uri": "https://localhost:8080/"
        },
        "id": "w3-N7f87Tf8t",
        "outputId": "28840fef-7094-4931-91f4-d4dba5e59a17"
      },
      "execution_count": null,
      "outputs": [
        {
          "output_type": "stream",
          "name": "stdout",
          "text": [
            "[  3.    106.     72.      0.      0.     25.8     0.207  27.   ]\n"
          ]
        }
      ]
    },
    {
      "cell_type": "code",
      "source": [
        "print(Y_test[0])"
      ],
      "metadata": {
        "colab": {
          "base_uri": "https://localhost:8080/"
        },
        "id": "V4lbQdtkBgcy",
        "outputId": "4bf3d74f-5187-411f-fb80-11bbc6844af0"
      },
      "execution_count": null,
      "outputs": [
        {
          "output_type": "stream",
          "name": "stdout",
          "text": [
            "0\n"
          ]
        }
      ]
    },
    {
      "cell_type": "code",
      "source": [
        "print(prediction)"
      ],
      "metadata": {
        "colab": {
          "base_uri": "https://localhost:8080/"
        },
        "id": "ePFd-NccTZeI",
        "outputId": "64f9b2a2-212d-477a-b390-0ab2561b5c2e"
      },
      "execution_count": null,
      "outputs": [
        {
          "output_type": "stream",
          "name": "stdout",
          "text": [
            "0.0\n"
          ]
        }
      ]
    },
    {
      "cell_type": "code",
      "source": [
        "X_test.shape"
      ],
      "metadata": {
        "colab": {
          "base_uri": "https://localhost:8080/"
        },
        "id": "zBY49VpETbJC",
        "outputId": "55b87245-e49a-46ca-cf62-ff3e4daf0721"
      },
      "execution_count": null,
      "outputs": [
        {
          "output_type": "execute_result",
          "data": {
            "text/plain": [
              "(154, 8)"
            ]
          },
          "metadata": {},
          "execution_count": 67
        }
      ]
    },
    {
      "cell_type": "code",
      "source": [
        "X_test_size = X_test.shape[0]\n",
        "print(X_test_size)"
      ],
      "metadata": {
        "colab": {
          "base_uri": "https://localhost:8080/"
        },
        "id": "P4iFMQKyTcw7",
        "outputId": "d979c050-6c3e-4a6c-c8b0-97b75c670405"
      },
      "execution_count": null,
      "outputs": [
        {
          "output_type": "stream",
          "name": "stdout",
          "text": [
            "154\n"
          ]
        }
      ]
    },
    {
      "cell_type": "code",
      "source": [
        "y_pred = []\n",
        "\n",
        "for i in range(X_test_size):\n",
        "  prediction =  classifier.predict(X_train, X_test[i], k=5)\n",
        "  y_pred.append(prediction)"
      ],
      "metadata": {
        "id": "DvL1Q5E-UBK5"
      },
      "execution_count": null,
      "outputs": []
    },
    {
      "cell_type": "code",
      "source": [
        "print(y_pred)"
      ],
      "metadata": {
        "colab": {
          "base_uri": "https://localhost:8080/"
        },
        "id": "uuFSfTjnUR4y",
        "outputId": "ab435be4-7a40-426f-930e-22d80863857f"
      },
      "execution_count": null,
      "outputs": [
        {
          "output_type": "stream",
          "name": "stdout",
          "text": [
            "[np.float64(0.0), np.float64(0.0), np.float64(0.0), np.float64(1.0), np.float64(0.0), np.float64(0.0), np.float64(0.0), np.float64(0.0), np.float64(0.0), np.float64(0.0), np.float64(1.0), np.float64(0.0), np.float64(1.0), np.float64(0.0), np.float64(0.0), np.float64(1.0), np.float64(0.0), np.float64(0.0), np.float64(0.0), np.float64(0.0), np.float64(0.0), np.float64(0.0), np.float64(1.0), np.float64(0.0), np.float64(0.0), np.float64(0.0), np.float64(0.0), np.float64(1.0), np.float64(1.0), np.float64(1.0), np.float64(1.0), np.float64(0.0), np.float64(0.0), np.float64(1.0), np.float64(0.0), np.float64(0.0), np.float64(0.0), np.float64(0.0), np.float64(0.0), np.float64(0.0), np.float64(1.0), np.float64(0.0), np.float64(0.0), np.float64(0.0), np.float64(0.0), np.float64(0.0), np.float64(1.0), np.float64(0.0), np.float64(0.0), np.float64(0.0), np.float64(0.0), np.float64(0.0), np.float64(1.0), np.float64(0.0), np.float64(1.0), np.float64(0.0), np.float64(0.0), np.float64(0.0), np.float64(0.0), np.float64(0.0), np.float64(0.0), np.float64(0.0), np.float64(0.0), np.float64(0.0), np.float64(1.0), np.float64(1.0), np.float64(0.0), np.float64(0.0), np.float64(1.0), np.float64(0.0), np.float64(1.0), np.float64(1.0), np.float64(0.0), np.float64(0.0), np.float64(0.0), np.float64(0.0), np.float64(0.0), np.float64(0.0), np.float64(0.0), np.float64(0.0), np.float64(0.0), np.float64(0.0), np.float64(0.0), np.float64(0.0), np.float64(0.0), np.float64(1.0), np.float64(0.0), np.float64(0.0), np.float64(1.0), np.float64(0.0), np.float64(1.0), np.float64(0.0), np.float64(1.0), np.float64(0.0), np.float64(0.0), np.float64(1.0), np.float64(0.0), np.float64(0.0), np.float64(1.0), np.float64(0.0), np.float64(0.0), np.float64(0.0), np.float64(0.0), np.float64(0.0), np.float64(0.0), np.float64(0.0), np.float64(0.0), np.float64(0.0), np.float64(0.0), np.float64(0.0), np.float64(1.0), np.float64(0.0), np.float64(0.0), np.float64(0.0), np.float64(0.0), np.float64(1.0), np.float64(0.0), np.float64(0.0), np.float64(1.0), np.float64(1.0), np.float64(0.0), np.float64(0.0), np.float64(0.0), np.float64(1.0), np.float64(0.0), np.float64(0.0), np.float64(0.0), np.float64(0.0), np.float64(0.0), np.float64(0.0), np.float64(0.0), np.float64(1.0), np.float64(1.0), np.float64(0.0), np.float64(0.0), np.float64(0.0), np.float64(0.0), np.float64(0.0), np.float64(0.0), np.float64(0.0), np.float64(1.0), np.float64(0.0), np.float64(0.0), np.float64(0.0), np.float64(0.0), np.float64(1.0), np.float64(0.0), np.float64(0.0), np.float64(0.0), np.float64(0.0), np.float64(1.0), np.float64(0.0), np.float64(0.0), np.float64(1.0)]\n"
          ]
        }
      ]
    },
    {
      "cell_type": "code",
      "source": [
        "y_true = Y_test"
      ],
      "metadata": {
        "id": "3TNhOpHTUTVw"
      },
      "execution_count": null,
      "outputs": []
    },
    {
      "cell_type": "markdown",
      "source": [
        "Model Evaluation"
      ],
      "metadata": {
        "id": "tdzK-Yi-Uc6x"
      }
    },
    {
      "cell_type": "code",
      "source": [
        "accuracy = accuracy_score(y_true, y_pred)"
      ],
      "metadata": {
        "id": "TizNWQhQUYWi"
      },
      "execution_count": null,
      "outputs": []
    },
    {
      "cell_type": "code",
      "source": [
        "print(accuracy*100)  # accuracy score in %"
      ],
      "metadata": {
        "colab": {
          "base_uri": "https://localhost:8080/"
        },
        "id": "3UCxpxIrUmfm",
        "outputId": "ac484136-0034-471f-fd08-5e31cab6803e"
      },
      "execution_count": null,
      "outputs": [
        {
          "output_type": "stream",
          "name": "stdout",
          "text": [
            "72.72727272727273\n"
          ]
        }
      ]
    }
  ]
}