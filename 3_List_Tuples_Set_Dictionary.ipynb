{
  "nbformat": 4,
  "nbformat_minor": 0,
  "metadata": {
    "colab": {
      "provenance": [],
      "authorship_tag": "ABX9TyNsBXJrBQhU7wl8C20y2IVF",
      "include_colab_link": true
    },
    "kernelspec": {
      "name": "python3",
      "display_name": "Python 3"
    },
    "language_info": {
      "name": "python"
    }
  },
  "cells": [
    {
      "cell_type": "markdown",
      "metadata": {
        "id": "view-in-github",
        "colab_type": "text"
      },
      "source": [
        "<a href=\"https://colab.research.google.com/github/Nikita1013/Machine-Learning-with-Python/blob/master/3_List_Tuples_Set_Dictionary.ipynb\" target=\"_parent\"><img src=\"https://colab.research.google.com/assets/colab-badge.svg\" alt=\"Open In Colab\"/></a>"
      ]
    },
    {
      "cell_type": "markdown",
      "source": [
        "Types of Objects in Python:\n",
        "1. Immutable Objects\n",
        "2. Mutable Objects\n",
        "\n",
        "\n",
        "\n",
        "Immutable Objects:\n",
        "1. int\n",
        "2. float\n",
        "3. string\n",
        "4. bool\n",
        "5. tuple (allows duplicate value)\n",
        "\n",
        "\n",
        "Mutable Objects\n",
        "1. List (allows duplicate value)\n",
        "2. Set (does not allow  duplicate value)\n",
        "3. Dictionary (does not allow duplicate value)"
      ],
      "metadata": {
        "id": "_BseZc50zJAQ"
      }
    },
    {
      "cell_type": "markdown",
      "source": [
        "List"
      ],
      "metadata": {
        "id": "1dtNTVWNzxCI"
      }
    },
    {
      "cell_type": "code",
      "execution_count": null,
      "metadata": {
        "colab": {
          "base_uri": "https://localhost:8080/"
        },
        "id": "4qbEsK2Vy5ms",
        "outputId": "eec74340-2cbc-4761-b4d5-1bb5ce6def1a"
      },
      "outputs": [
        {
          "output_type": "stream",
          "name": "stdout",
          "text": [
            "[1, 2, 3, 4, 5]\n"
          ]
        },
        {
          "output_type": "execute_result",
          "data": {
            "text/plain": [
              "list"
            ]
          },
          "metadata": {},
          "execution_count": 2
        }
      ],
      "source": [
        "# list should be  enclosed in the square brackets (Arrays in C programming)\n",
        "myList = [1,2,3,4,5]\n",
        "print(myList)\n",
        "type(myList)"
      ]
    },
    {
      "cell_type": "code",
      "source": [
        "# List can store multiple data types\n",
        "# set does not  allow multiple data types\n",
        "my_list = [2,3,1.8, 'English', True]\n",
        "print(my_list)"
      ],
      "metadata": {
        "colab": {
          "base_uri": "https://localhost:8080/"
        },
        "id": "xWotABje0IAN",
        "outputId": "ba8d73bd-f0ea-4b2e-8ae3-d816e327ac1e"
      },
      "execution_count": null,
      "outputs": [
        {
          "output_type": "stream",
          "name": "stdout",
          "text": [
            "[2, 3, 1.8, 'English', True]\n"
          ]
        }
      ]
    },
    {
      "cell_type": "markdown",
      "source": [
        "List are mutable (they can be changed once they are created ) --> Changeable"
      ],
      "metadata": {
        "id": "sMK6biIu012T"
      }
    },
    {
      "cell_type": "code",
      "source": [
        "# add elements to a list\n",
        "my_list = [2,3, 1.8, 'English', True]\n",
        "my_list.append(6)\n",
        "print(my_list)"
      ],
      "metadata": {
        "colab": {
          "base_uri": "https://localhost:8080/"
        },
        "id": "Op3j9FbX0lUt",
        "outputId": "4cc0ddac-43d9-40ef-fca8-4bf2d2824973"
      },
      "execution_count": null,
      "outputs": [
        {
          "output_type": "stream",
          "name": "stdout",
          "text": [
            "[2, 3, 1.8, 'English', True, 6]\n"
          ]
        }
      ]
    },
    {
      "cell_type": "code",
      "source": [
        "# print elements of a list using their index\n",
        "print(my_list[0])\n",
        "print(my_list[2])"
      ],
      "metadata": {
        "colab": {
          "base_uri": "https://localhost:8080/"
        },
        "id": "s37iqDo71Gpr",
        "outputId": "e775379f-cea6-4119-8544-0b9413e5ba67"
      },
      "execution_count": null,
      "outputs": [
        {
          "output_type": "stream",
          "name": "stdout",
          "text": [
            "2\n",
            "1.8\n"
          ]
        }
      ]
    },
    {
      "cell_type": "code",
      "source": [
        "# list allows duplicate values\n",
        "list1 = [1,2,3,4,5,1,2,3]\n",
        "print(list1)"
      ],
      "metadata": {
        "colab": {
          "base_uri": "https://localhost:8080/"
        },
        "id": "NSAPEQNq1TCH",
        "outputId": "9ce7cb73-6eb2-491e-e756-eddc85210dd1"
      },
      "execution_count": 2,
      "outputs": [
        {
          "output_type": "stream",
          "name": "stdout",
          "text": [
            "[1, 2, 3, 4, 5, 1, 2, 3]\n"
          ]
        }
      ]
    },
    {
      "cell_type": "code",
      "source": [
        "print(len(list1))"
      ],
      "metadata": {
        "id": "BMcFcqZL1jf4",
        "colab": {
          "base_uri": "https://localhost:8080/"
        },
        "outputId": "df9d1311-2a9a-48b3-87bb-5812031ef9b0"
      },
      "execution_count": 3,
      "outputs": [
        {
          "output_type": "stream",
          "name": "stdout",
          "text": [
            "8\n"
          ]
        }
      ]
    },
    {
      "cell_type": "code",
      "source": [
        "# initiating an empty list\n",
        "list2 = []\n",
        "print(list2)"
      ],
      "metadata": {
        "colab": {
          "base_uri": "https://localhost:8080/"
        },
        "id": "tN5cWjJ0c5cl",
        "outputId": "8da9bff5-70b2-4954-cdc9-ebb69873d7b5"
      },
      "execution_count": 4,
      "outputs": [
        {
          "output_type": "stream",
          "name": "stdout",
          "text": [
            "[]\n"
          ]
        }
      ]
    },
    {
      "cell_type": "code",
      "source": [
        "list2.append(5)\n",
        "print(list2)"
      ],
      "metadata": {
        "colab": {
          "base_uri": "https://localhost:8080/"
        },
        "id": "nFx6RnQ7dGlm",
        "outputId": "115be497-42a4-4e70-cd3c-44b983b8898f"
      },
      "execution_count": 5,
      "outputs": [
        {
          "output_type": "stream",
          "name": "stdout",
          "text": [
            "[5]\n"
          ]
        }
      ]
    },
    {
      "cell_type": "code",
      "source": [
        "# delete an item in a list\n",
        "list2 = [2, 3, 1.8, 'English', True, 6]\n",
        "print(list2)\n",
        "\n",
        "del list2[2]\n",
        "print(list2)"
      ],
      "metadata": {
        "colab": {
          "base_uri": "https://localhost:8080/"
        },
        "id": "NnDiZvu9dKuD",
        "outputId": "4baf63f7-62a1-4b24-d5e9-c0732c844f28"
      },
      "execution_count": 7,
      "outputs": [
        {
          "output_type": "stream",
          "name": "stdout",
          "text": [
            "[2, 3, 1.8, 'English', True, 6]\n",
            "[2, 3, 'English', True, 6]\n"
          ]
        }
      ]
    },
    {
      "cell_type": "code",
      "source": [
        "# join two lists\n",
        "list3 = [1,2,3,4,5]\n",
        "list4 = [6,7,8,9,10]\n",
        "\n",
        "list5 = list3 + list4\n",
        "print(list5)"
      ],
      "metadata": {
        "colab": {
          "base_uri": "https://localhost:8080/"
        },
        "id": "q0SbD76QdjiC",
        "outputId": "13d289fa-472b-4f01-9b17-ca128d284ba4"
      },
      "execution_count": 9,
      "outputs": [
        {
          "output_type": "stream",
          "name": "stdout",
          "text": [
            "[1, 2, 3, 4, 5, 6, 7, 8, 9, 10]\n"
          ]
        }
      ]
    },
    {
      "cell_type": "markdown",
      "source": [
        "Tuple\n"
      ],
      "metadata": {
        "id": "_WmBKiksd_PM"
      }
    },
    {
      "cell_type": "code",
      "source": [
        "# Tuple are immutable once created cannot be changed\n",
        "tuple1 = (2,3,4,5)\n",
        "print(tuple1)\n",
        "type(tuple1)"
      ],
      "metadata": {
        "colab": {
          "base_uri": "https://localhost:8080/"
        },
        "id": "6qkMlN5vd6Be",
        "outputId": "098125a0-fc97-49f1-b10e-c61f73a5276d"
      },
      "execution_count": 10,
      "outputs": [
        {
          "output_type": "stream",
          "name": "stdout",
          "text": [
            "(2, 3, 4, 5)\n"
          ]
        },
        {
          "output_type": "execute_result",
          "data": {
            "text/plain": [
              "tuple"
            ]
          },
          "metadata": {},
          "execution_count": 10
        }
      ]
    },
    {
      "cell_type": "code",
      "source": [
        "# tuple allows multiple data types\n",
        "tuple2 = (1,2,3.5,\"Machine Learning\", True)\n",
        "print(tuple2)"
      ],
      "metadata": {
        "colab": {
          "base_uri": "https://localhost:8080/"
        },
        "id": "H57JZ1OHeO4a",
        "outputId": "a6f7a944-9cd6-48c7-efbc-9a675a273e84"
      },
      "execution_count": 11,
      "outputs": [
        {
          "output_type": "stream",
          "name": "stdout",
          "text": [
            "(1, 2, 3.5, 'Machine Learning', True)\n"
          ]
        }
      ]
    },
    {
      "cell_type": "code",
      "source": [
        "# Converting a list to a tuple\n",
        "my_list = [3,4,5,6]\n",
        "print(my_list)\n",
        "\n",
        "my_tuple = tuple(my_list)\n",
        "print(my_tuple)"
      ],
      "metadata": {
        "colab": {
          "base_uri": "https://localhost:8080/"
        },
        "id": "pwJK4dyHecgV",
        "outputId": "e29790e7-3e35-4025-9803-a5fba64d9b4a"
      },
      "execution_count": 12,
      "outputs": [
        {
          "output_type": "stream",
          "name": "stdout",
          "text": [
            "[3, 4, 5, 6]\n",
            "(3, 4, 5, 6)\n"
          ]
        }
      ]
    },
    {
      "cell_type": "code",
      "source": [
        "# converting tuple to list\n",
        "my_tuple = (1,2,3,4,5)\n",
        "print(my_tuple)\n",
        "\n",
        "my_list = list(my_tuple)\n",
        "print(my_list)"
      ],
      "metadata": {
        "colab": {
          "base_uri": "https://localhost:8080/"
        },
        "id": "9SYwzSfceysY",
        "outputId": "6d75684e-05d4-4f71-8960-f1bcecc51d46"
      },
      "execution_count": 13,
      "outputs": [
        {
          "output_type": "stream",
          "name": "stdout",
          "text": [
            "(1, 2, 3, 4, 5)\n",
            "[1, 2, 3, 4, 5]\n"
          ]
        }
      ]
    },
    {
      "cell_type": "code",
      "source": [
        "print(my_tuple[0])\n",
        "print(my_tuple[1])"
      ],
      "metadata": {
        "colab": {
          "base_uri": "https://localhost:8080/"
        },
        "id": "48XFHg-rhGLo",
        "outputId": "a3410bc6-2f9b-4e74-ae72-608e6db9b099"
      },
      "execution_count": 14,
      "outputs": [
        {
          "output_type": "stream",
          "name": "stdout",
          "text": [
            "1\n",
            "2\n"
          ]
        }
      ]
    },
    {
      "cell_type": "markdown",
      "source": [
        "Tuples are immutable --> Unchangeable"
      ],
      "metadata": {
        "id": "iv6lsy4nhYL8"
      }
    },
    {
      "cell_type": "code",
      "source": [
        "my_tuple.append(2)\n"
      ],
      "metadata": {
        "colab": {
          "base_uri": "https://localhost:8080/",
          "height": 141
        },
        "id": "81cHKoeJhOpw",
        "outputId": "e1a2efec-e5c8-4e03-d217-3ae88fa51505"
      },
      "execution_count": 15,
      "outputs": [
        {
          "output_type": "error",
          "ename": "AttributeError",
          "evalue": "'tuple' object has no attribute 'append'",
          "traceback": [
            "\u001b[0;31m---------------------------------------------------------------------------\u001b[0m",
            "\u001b[0;31mAttributeError\u001b[0m                            Traceback (most recent call last)",
            "\u001b[0;32m/tmp/ipython-input-15-3192106400.py\u001b[0m in \u001b[0;36m<cell line: 0>\u001b[0;34m()\u001b[0m\n\u001b[0;32m----> 1\u001b[0;31m \u001b[0mmy_tuple\u001b[0m\u001b[0;34m.\u001b[0m\u001b[0mappend\u001b[0m\u001b[0;34m(\u001b[0m\u001b[0;36m2\u001b[0m\u001b[0;34m)\u001b[0m\u001b[0;34m\u001b[0m\u001b[0;34m\u001b[0m\u001b[0m\n\u001b[0m",
            "\u001b[0;31mAttributeError\u001b[0m: 'tuple' object has no attribute 'append'"
          ]
        }
      ]
    },
    {
      "cell_type": "code",
      "source": [
        "print(len(my_tuple))"
      ],
      "metadata": {
        "colab": {
          "base_uri": "https://localhost:8080/"
        },
        "id": "whns5tJkhi5l",
        "outputId": "d3642ccd-830d-4fc5-e66d-d0d0faa346c7"
      },
      "execution_count": 16,
      "outputs": [
        {
          "output_type": "stream",
          "name": "stdout",
          "text": [
            "5\n"
          ]
        }
      ]
    },
    {
      "cell_type": "markdown",
      "source": [
        "Set\n"
      ],
      "metadata": {
        "id": "NpnGN4_bhsIW"
      }
    },
    {
      "cell_type": "code",
      "source": [
        "# set --> curly Brackets\n",
        "# Set does not support indexing\n",
        "my_set = {1,2,3,4}\n",
        "print(my_set)\n",
        "type(my_set)\n",
        "print(len(my_set))"
      ],
      "metadata": {
        "colab": {
          "base_uri": "https://localhost:8080/"
        },
        "id": "CdNfCTFShopm",
        "outputId": "93365004-ed0a-4737-9fd6-00869d4eab92"
      },
      "execution_count": 20,
      "outputs": [
        {
          "output_type": "stream",
          "name": "stdout",
          "text": [
            "{1, 2, 3, 4}\n",
            "4\n"
          ]
        }
      ]
    },
    {
      "cell_type": "code",
      "source": [
        "# Convert a list to set\n",
        "list5 = [4,5,6,7,8]\n",
        "print(list5)\n",
        "\n",
        "x = set(list5)\n",
        "print(x)"
      ],
      "metadata": {
        "colab": {
          "base_uri": "https://localhost:8080/"
        },
        "id": "yVrCUgW3h3FX",
        "outputId": "12b90323-81a1-4655-dab4-e6d316e851d1"
      },
      "execution_count": 21,
      "outputs": [
        {
          "output_type": "stream",
          "name": "stdout",
          "text": [
            "[4, 5, 6, 7, 8]\n",
            "{4, 5, 6, 7, 8}\n"
          ]
        }
      ]
    },
    {
      "cell_type": "code",
      "source": [
        "# Convert a set to list\n",
        "set1 = {2,4,6,8}\n",
        "print(set1)\n",
        "\n",
        "x = list(set1)\n",
        "print(x)"
      ],
      "metadata": {
        "colab": {
          "base_uri": "https://localhost:8080/"
        },
        "id": "3idwscYfiUON",
        "outputId": "30f57ec4-feba-4e03-9f11-7a6c1763156a"
      },
      "execution_count": 22,
      "outputs": [
        {
          "output_type": "stream",
          "name": "stdout",
          "text": [
            "{8, 2, 4, 6}\n",
            "[8, 2, 4, 6]\n"
          ]
        }
      ]
    },
    {
      "cell_type": "code",
      "source": [
        "#Convert a tuple to set\n",
        "tuple1 = (1,2,3,4,5)\n",
        "print(tuple1)\n",
        "\n",
        "x = set(tuple1)\n",
        "print(x)"
      ],
      "metadata": {
        "colab": {
          "base_uri": "https://localhost:8080/"
        },
        "id": "MjECsLMCig56",
        "outputId": "2e41b7e3-11ba-44bf-d9d4-4eff106283b9"
      },
      "execution_count": 23,
      "outputs": [
        {
          "output_type": "stream",
          "name": "stdout",
          "text": [
            "(1, 2, 3, 4, 5)\n",
            "{1, 2, 3, 4, 5}\n"
          ]
        }
      ]
    },
    {
      "cell_type": "code",
      "source": [
        "# Convert a set to tuple\n",
        "set1 = {6,7,8,9,10}\n",
        "print(set1)\n",
        "\n",
        "x = tuple(set1)\n",
        "print(x)"
      ],
      "metadata": {
        "colab": {
          "base_uri": "https://localhost:8080/"
        },
        "id": "SFlHh_7GjDYZ",
        "outputId": "2ded69fb-409c-45db-dd43-ed1489a6b704"
      },
      "execution_count": 25,
      "outputs": [
        {
          "output_type": "stream",
          "name": "stdout",
          "text": [
            "{6, 7, 8, 9, 10}\n",
            "(6, 7, 8, 9, 10)\n"
          ]
        }
      ]
    },
    {
      "cell_type": "code",
      "source": [
        "# Set does not allow duplicate values\n",
        "set3 = {1,2,3,4,5,2,2,3,4,1}\n",
        "print(set3)"
      ],
      "metadata": {
        "colab": {
          "base_uri": "https://localhost:8080/"
        },
        "id": "Qc-Hqyc-jQQF",
        "outputId": "41717fde-dc85-4c16-e949-51232f15b0a2"
      },
      "execution_count": 26,
      "outputs": [
        {
          "output_type": "stream",
          "name": "stdout",
          "text": [
            "{1, 2, 3, 4, 5}\n"
          ]
        }
      ]
    },
    {
      "cell_type": "markdown",
      "source": [
        "Dictionary\n",
        "\n",
        "Key-Value Pair"
      ],
      "metadata": {
        "id": "EQUuk7Q3jqus"
      }
    },
    {
      "cell_type": "code",
      "source": [
        "my_dict = {'name': 'David', 'age': 30, 'country':'India'}\n",
        "print(my_dict)\n",
        "type(my_dict)"
      ],
      "metadata": {
        "colab": {
          "base_uri": "https://localhost:8080/"
        },
        "id": "WgZSgp2JjnHq",
        "outputId": "1818a591-fc00-4dbb-f54d-7a834aee14e5"
      },
      "execution_count": 29,
      "outputs": [
        {
          "output_type": "stream",
          "name": "stdout",
          "text": [
            "{'name': 'David', 'age': 30, 'country': 'India'}\n"
          ]
        },
        {
          "output_type": "execute_result",
          "data": {
            "text/plain": [
              "dict"
            ]
          },
          "metadata": {},
          "execution_count": 29
        }
      ]
    },
    {
      "cell_type": "code",
      "source": [
        "print(my_dict['name'])\n",
        "print(my_dict['age'])\n",
        "print(my_dict['country'])"
      ],
      "metadata": {
        "colab": {
          "base_uri": "https://localhost:8080/"
        },
        "id": "323fNTAMj9mS",
        "outputId": "675e6272-ba72-41e4-f4ae-1054363a7d56"
      },
      "execution_count": 30,
      "outputs": [
        {
          "output_type": "stream",
          "name": "stdout",
          "text": [
            "David\n",
            "30\n",
            "India\n"
          ]
        }
      ]
    },
    {
      "cell_type": "code",
      "source": [
        "# Dictinary does not allor Duplicate Values"
      ],
      "metadata": {
        "id": "xBEV_2k1kVPM"
      },
      "execution_count": null,
      "outputs": []
    }
  ]
}