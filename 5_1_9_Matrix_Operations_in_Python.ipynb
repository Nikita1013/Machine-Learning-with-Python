{
  "nbformat": 4,
  "nbformat_minor": 0,
  "metadata": {
    "colab": {
      "provenance": [],
      "authorship_tag": "ABX9TyOAu0KIEAsrvsBs7gGAdfWB",
      "include_colab_link": true
    },
    "kernelspec": {
      "name": "python3",
      "display_name": "Python 3"
    },
    "language_info": {
      "name": "python"
    }
  },
  "cells": [
    {
      "cell_type": "markdown",
      "metadata": {
        "id": "view-in-github",
        "colab_type": "text"
      },
      "source": [
        "<a href=\"https://colab.research.google.com/github/Nikita1013/Machine-Learning-with-Python/blob/master/5_1_9_Matrix_Operations_in_Python.ipynb\" target=\"_parent\"><img src=\"https://colab.research.google.com/assets/colab-badge.svg\" alt=\"Open In Colab\"/></a>"
      ]
    },
    {
      "cell_type": "markdown",
      "source": [
        "Importing Numpy Library"
      ],
      "metadata": {
        "id": "hDRaQWexrb5i"
      }
    },
    {
      "cell_type": "code",
      "execution_count": 1,
      "metadata": {
        "id": "kBiDxs-mrPfS"
      },
      "outputs": [],
      "source": [
        "import numpy as np"
      ]
    },
    {
      "cell_type": "markdown",
      "source": [
        "**Matrix Addition**"
      ],
      "metadata": {
        "id": "eJGJUClRriCv"
      }
    },
    {
      "cell_type": "markdown",
      "source": [
        "Two Matrices can be added only if they have the same shape"
      ],
      "metadata": {
        "id": "O6UedOqyrsxr"
      }
    },
    {
      "cell_type": "code",
      "source": [
        "# creating two matrices\n",
        "A = np.array([[2,3],[4,5]])\n",
        "\n",
        "B = np.array([[6,7],[8,9]])"
      ],
      "metadata": {
        "id": "b7d-nRYirdCw"
      },
      "execution_count": 5,
      "outputs": []
    },
    {
      "cell_type": "code",
      "source": [
        "print(A)"
      ],
      "metadata": {
        "colab": {
          "base_uri": "https://localhost:8080/"
        },
        "id": "sPmsSQpkr575",
        "outputId": "a53afd21-139f-4b9d-f7dd-0855380b867d"
      },
      "execution_count": 6,
      "outputs": [
        {
          "output_type": "stream",
          "name": "stdout",
          "text": [
            "[[2 3]\n",
            " [4 5]]\n"
          ]
        }
      ]
    },
    {
      "cell_type": "code",
      "source": [
        "print(B)"
      ],
      "metadata": {
        "colab": {
          "base_uri": "https://localhost:8080/"
        },
        "id": "4gZkA2zWsAJL",
        "outputId": "8e86da09-c05a-4a46-c7a2-96104bed160c"
      },
      "execution_count": 7,
      "outputs": [
        {
          "output_type": "stream",
          "name": "stdout",
          "text": [
            "[[6 7]\n",
            " [8 9]]\n"
          ]
        }
      ]
    },
    {
      "cell_type": "code",
      "source": [
        "A.shape"
      ],
      "metadata": {
        "colab": {
          "base_uri": "https://localhost:8080/"
        },
        "id": "mFUq2vD0sFqd",
        "outputId": "e3e7ea33-929c-46a9-f94a-6de1af620636"
      },
      "execution_count": 8,
      "outputs": [
        {
          "output_type": "execute_result",
          "data": {
            "text/plain": [
              "(2, 2)"
            ]
          },
          "metadata": {},
          "execution_count": 8
        }
      ]
    },
    {
      "cell_type": "code",
      "source": [
        "B.shape"
      ],
      "metadata": {
        "colab": {
          "base_uri": "https://localhost:8080/"
        },
        "id": "mu-cCzs7sJQs",
        "outputId": "762d8b15-200f-4e84-a4df-537e7d0ec5c7"
      },
      "execution_count": 9,
      "outputs": [
        {
          "output_type": "execute_result",
          "data": {
            "text/plain": [
              "(2, 2)"
            ]
          },
          "metadata": {},
          "execution_count": 9
        }
      ]
    },
    {
      "cell_type": "markdown",
      "source": [
        "Adding two Matrices"
      ],
      "metadata": {
        "id": "JTNoTihosMHE"
      }
    },
    {
      "cell_type": "code",
      "source": [
        "sum = A + B"
      ],
      "metadata": {
        "id": "HOavdgYpsKYJ"
      },
      "execution_count": 10,
      "outputs": []
    },
    {
      "cell_type": "code",
      "source": [
        "print(sum)"
      ],
      "metadata": {
        "colab": {
          "base_uri": "https://localhost:8080/"
        },
        "id": "ZdSlVA4IsPuI",
        "outputId": "8cbb0241-ea9d-41d9-9d7e-b9cd3d1595aa"
      },
      "execution_count": 11,
      "outputs": [
        {
          "output_type": "stream",
          "name": "stdout",
          "text": [
            "[[ 8 10]\n",
            " [12 14]]\n"
          ]
        }
      ]
    },
    {
      "cell_type": "code",
      "source": [
        "sum.shape"
      ],
      "metadata": {
        "colab": {
          "base_uri": "https://localhost:8080/"
        },
        "id": "6R66PkwVsRxf",
        "outputId": "0bce95de-c25d-4b96-9068-d6a2c4285f2c"
      },
      "execution_count": 12,
      "outputs": [
        {
          "output_type": "execute_result",
          "data": {
            "text/plain": [
              "(2, 2)"
            ]
          },
          "metadata": {},
          "execution_count": 12
        }
      ]
    },
    {
      "cell_type": "code",
      "source": [
        "# create two matrices with random values\n",
        "matrix_1 = np.random.randint(10, size=(3,3))\n",
        "\n",
        "matrix_2 = np.random.randint(10,size=(3,3))"
      ],
      "metadata": {
        "id": "Ubn7NFU2sT5H"
      },
      "execution_count": 13,
      "outputs": []
    },
    {
      "cell_type": "code",
      "source": [
        "print(matrix_1)"
      ],
      "metadata": {
        "colab": {
          "base_uri": "https://localhost:8080/"
        },
        "id": "rZ6yzAuqsjrG",
        "outputId": "86038e4a-aa30-4f06-ac09-60f32260eb1b"
      },
      "execution_count": 14,
      "outputs": [
        {
          "output_type": "stream",
          "name": "stdout",
          "text": [
            "[[8 5 0]\n",
            " [3 8 4]\n",
            " [0 1 6]]\n"
          ]
        }
      ]
    },
    {
      "cell_type": "code",
      "source": [
        "print(matrix_2)"
      ],
      "metadata": {
        "colab": {
          "base_uri": "https://localhost:8080/"
        },
        "id": "yJBnrDz9smkY",
        "outputId": "c235bc6c-a2de-49b7-ee06-77a1cf211484"
      },
      "execution_count": 15,
      "outputs": [
        {
          "output_type": "stream",
          "name": "stdout",
          "text": [
            "[[1 5 1]\n",
            " [4 1 7]\n",
            " [6 9 4]]\n"
          ]
        }
      ]
    },
    {
      "cell_type": "code",
      "source": [
        "sum = matrix_1 + matrix_2"
      ],
      "metadata": {
        "id": "0aqqYRgfsnog"
      },
      "execution_count": 16,
      "outputs": []
    },
    {
      "cell_type": "code",
      "source": [
        "print(sum)"
      ],
      "metadata": {
        "colab": {
          "base_uri": "https://localhost:8080/"
        },
        "id": "GylsdkQEsrdH",
        "outputId": "86263588-ee24-448e-b0a5-35f6ec42f02e"
      },
      "execution_count": 17,
      "outputs": [
        {
          "output_type": "stream",
          "name": "stdout",
          "text": [
            "[[ 9 10  1]\n",
            " [ 7  9 11]\n",
            " [ 6 10 10]]\n"
          ]
        }
      ]
    },
    {
      "cell_type": "code",
      "source": [
        "matrix_3 = np.random.randint(10, size=(3,3))\n",
        "\n",
        "matrix_4 = np.random.randint(10, size=(3,4))"
      ],
      "metadata": {
        "id": "LImn9dcsssuh"
      },
      "execution_count": 18,
      "outputs": []
    },
    {
      "cell_type": "code",
      "source": [
        "print(matrix_3)"
      ],
      "metadata": {
        "colab": {
          "base_uri": "https://localhost:8080/"
        },
        "id": "quYoGa9fs6ge",
        "outputId": "61c556da-ee7f-4e91-86f2-57047aac6f9a"
      },
      "execution_count": 19,
      "outputs": [
        {
          "output_type": "stream",
          "name": "stdout",
          "text": [
            "[[5 3 6]\n",
            " [3 1 3]\n",
            " [0 0 4]]\n"
          ]
        }
      ]
    },
    {
      "cell_type": "code",
      "source": [
        "print(matrix_4)"
      ],
      "metadata": {
        "colab": {
          "base_uri": "https://localhost:8080/"
        },
        "id": "wielKqT1s8BT",
        "outputId": "7ac03d89-4479-48fc-b5eb-9bb27731a337"
      },
      "execution_count": 20,
      "outputs": [
        {
          "output_type": "stream",
          "name": "stdout",
          "text": [
            "[[8 1 3 7]\n",
            " [2 1 7 1]\n",
            " [4 6 7 4]]\n"
          ]
        }
      ]
    },
    {
      "cell_type": "code",
      "source": [
        "sum = matrix_3 + matrix_4\n",
        "# we get this error if the matrices are not in equal size"
      ],
      "metadata": {
        "colab": {
          "base_uri": "https://localhost:8080/",
          "height": 158
        },
        "id": "z9clyhVqs9e9",
        "outputId": "354ce693-7a1d-452f-b030-84476350aea0"
      },
      "execution_count": 23,
      "outputs": [
        {
          "output_type": "error",
          "ename": "ValueError",
          "evalue": "operands could not be broadcast together with shapes (3,3) (3,4) ",
          "traceback": [
            "\u001b[0;31m---------------------------------------------------------------------------\u001b[0m",
            "\u001b[0;31mValueError\u001b[0m                                Traceback (most recent call last)",
            "\u001b[0;32m/tmp/ipython-input-627535585.py\u001b[0m in \u001b[0;36m<cell line: 0>\u001b[0;34m()\u001b[0m\n\u001b[0;32m----> 1\u001b[0;31m \u001b[0msum\u001b[0m \u001b[0;34m=\u001b[0m \u001b[0mmatrix_3\u001b[0m \u001b[0;34m+\u001b[0m \u001b[0mmatrix_4\u001b[0m\u001b[0;34m\u001b[0m\u001b[0;34m\u001b[0m\u001b[0m\n\u001b[0m\u001b[1;32m      2\u001b[0m \u001b[0;31m# we get this error if the matrices are not in equal size\u001b[0m\u001b[0;34m\u001b[0m\u001b[0;34m\u001b[0m\u001b[0m\n",
            "\u001b[0;31mValueError\u001b[0m: operands could not be broadcast together with shapes (3,3) (3,4) "
          ]
        }
      ]
    },
    {
      "cell_type": "markdown",
      "source": [
        "Two Matrices can be added only if they have the same shape"
      ],
      "metadata": {
        "id": "ZRXvcL8ruapO"
      }
    },
    {
      "cell_type": "markdown",
      "source": [
        "Matrix Subtraction"
      ],
      "metadata": {
        "id": "KoFntkNjufjq"
      }
    },
    {
      "cell_type": "code",
      "source": [
        "# creating two matrices\n",
        "A = np.array([[2,3],[4,5]])\n",
        "\n",
        "B = np.array([[6,7],[8,9]])"
      ],
      "metadata": {
        "id": "UR5AXGaQtBJC"
      },
      "execution_count": 24,
      "outputs": []
    },
    {
      "cell_type": "code",
      "source": [
        "print(A)"
      ],
      "metadata": {
        "colab": {
          "base_uri": "https://localhost:8080/"
        },
        "id": "bXE38-IdtCHp",
        "outputId": "0de952aa-dac1-4742-9309-52a2e953070b"
      },
      "execution_count": 25,
      "outputs": [
        {
          "output_type": "stream",
          "name": "stdout",
          "text": [
            "[[2 3]\n",
            " [4 5]]\n"
          ]
        }
      ]
    },
    {
      "cell_type": "code",
      "source": [
        "print(B)"
      ],
      "metadata": {
        "colab": {
          "base_uri": "https://localhost:8080/"
        },
        "id": "1g2WNAx1vDL3",
        "outputId": "4e6561c1-2f88-4b1f-b235-ba33b37dd5e3"
      },
      "execution_count": 26,
      "outputs": [
        {
          "output_type": "stream",
          "name": "stdout",
          "text": [
            "[[6 7]\n",
            " [8 9]]\n"
          ]
        }
      ]
    },
    {
      "cell_type": "code",
      "source": [
        "subtract = A - B\n",
        "print(subtract)"
      ],
      "metadata": {
        "colab": {
          "base_uri": "https://localhost:8080/"
        },
        "id": "BMc67jj6vENA",
        "outputId": "deda4ab8-a8e5-4899-c633-d37150bd7283"
      },
      "execution_count": 27,
      "outputs": [
        {
          "output_type": "stream",
          "name": "stdout",
          "text": [
            "[[-4 -4]\n",
            " [-4 -4]]\n"
          ]
        }
      ]
    },
    {
      "cell_type": "code",
      "source": [
        "# creating two random  matrices with random values\n",
        "matrix_5 = np.random.randint(10, size=(3,3))\n",
        "matrix_6 = np.random.randint(20, size=(3,3))"
      ],
      "metadata": {
        "id": "P-J5hJnsvQ7K"
      },
      "execution_count": 28,
      "outputs": []
    },
    {
      "cell_type": "code",
      "source": [
        "print(matrix_5)"
      ],
      "metadata": {
        "colab": {
          "base_uri": "https://localhost:8080/"
        },
        "id": "y7kxMLWjvVYi",
        "outputId": "d56e110f-6724-4be8-8380-7f25b0ace411"
      },
      "execution_count": 29,
      "outputs": [
        {
          "output_type": "stream",
          "name": "stdout",
          "text": [
            "[[7 1 0]\n",
            " [5 0 5]\n",
            " [5 9 4]]\n"
          ]
        }
      ]
    },
    {
      "cell_type": "code",
      "source": [
        "print(matrix_6)"
      ],
      "metadata": {
        "colab": {
          "base_uri": "https://localhost:8080/"
        },
        "id": "OsG34KGjvYGi",
        "outputId": "2b2e5715-b2bd-4ca4-9c08-d95903b69a38"
      },
      "execution_count": 31,
      "outputs": [
        {
          "output_type": "stream",
          "name": "stdout",
          "text": [
            "[[ 6  9  5]\n",
            " [13 14  7]\n",
            " [ 7  2  5]]\n"
          ]
        }
      ]
    },
    {
      "cell_type": "code",
      "source": [
        "diff = np.subtract(matrix_5, matrix_6)"
      ],
      "metadata": {
        "id": "i1UGR8RSvZiy"
      },
      "execution_count": 32,
      "outputs": []
    },
    {
      "cell_type": "code",
      "source": [
        "print(diff)"
      ],
      "metadata": {
        "colab": {
          "base_uri": "https://localhost:8080/"
        },
        "id": "i3ZBjX8vvelv",
        "outputId": "2b3dc97f-d108-4927-f032-e48961c25332"
      },
      "execution_count": 33,
      "outputs": [
        {
          "output_type": "stream",
          "name": "stdout",
          "text": [
            "[[  1  -8  -5]\n",
            " [ -8 -14  -2]\n",
            " [ -2   7  -1]]\n"
          ]
        }
      ]
    },
    {
      "cell_type": "markdown",
      "source": [
        "Multiplying a matrix by a Scalar"
      ],
      "metadata": {
        "id": "wYZTQJEevmde"
      }
    },
    {
      "cell_type": "code",
      "source": [
        "x =5\n",
        "y = np.random.randint(10, size=(4,4))\n",
        "\n",
        "print(y)"
      ],
      "metadata": {
        "colab": {
          "base_uri": "https://localhost:8080/"
        },
        "id": "hLQk319pvgru",
        "outputId": "7e72664b-e69f-4e7f-9312-6845afe55811"
      },
      "execution_count": 34,
      "outputs": [
        {
          "output_type": "stream",
          "name": "stdout",
          "text": [
            "[[7 3 2 9]\n",
            " [8 0 6 9]\n",
            " [8 7 6 8]\n",
            " [2 4 2 1]]\n"
          ]
        }
      ]
    },
    {
      "cell_type": "code",
      "source": [
        "product = np.multiply(x,y)\n",
        "\n",
        "print(product)"
      ],
      "metadata": {
        "colab": {
          "base_uri": "https://localhost:8080/"
        },
        "id": "0kDjVb-8vrXh",
        "outputId": "17afdec5-b494-46c5-b922-6989b8ed15ba"
      },
      "execution_count": 35,
      "outputs": [
        {
          "output_type": "stream",
          "name": "stdout",
          "text": [
            "[[35 15 10 45]\n",
            " [40  0 30 45]\n",
            " [40 35 30 40]\n",
            " [10 20 10  5]]\n"
          ]
        }
      ]
    },
    {
      "cell_type": "markdown",
      "source": [
        "Multiplying 2 matrices"
      ],
      "metadata": {
        "id": "a6mtVjl4yCfH"
      }
    },
    {
      "cell_type": "code",
      "source": [
        "# create two matrices with random values\n",
        "matrix_7 = np.random.randint(5, size=(3,3))\n",
        "matrix_8 = np.random.randint(5, size=(3,4))"
      ],
      "metadata": {
        "id": "EbA5ctEXx9Yx"
      },
      "execution_count": 37,
      "outputs": []
    },
    {
      "cell_type": "code",
      "source": [
        "print(matrix_7)"
      ],
      "metadata": {
        "colab": {
          "base_uri": "https://localhost:8080/"
        },
        "id": "fSI2VU3Dvxm5",
        "outputId": "95615850-12e8-48b7-b946-feca211ce3da"
      },
      "execution_count": 38,
      "outputs": [
        {
          "output_type": "stream",
          "name": "stdout",
          "text": [
            "[[1 4 0]\n",
            " [3 0 4]\n",
            " [4 0 3]]\n"
          ]
        }
      ]
    },
    {
      "cell_type": "code",
      "source": [
        "print(matrix_8)"
      ],
      "metadata": {
        "colab": {
          "base_uri": "https://localhost:8080/"
        },
        "id": "wvKXRsXHyxwg",
        "outputId": "c57d4097-59ea-4e5d-e04a-fc8f7f689baf"
      },
      "execution_count": 39,
      "outputs": [
        {
          "output_type": "stream",
          "name": "stdout",
          "text": [
            "[[2 2 3 0]\n",
            " [0 1 4 1]\n",
            " [0 1 2 3]]\n"
          ]
        }
      ]
    },
    {
      "cell_type": "code",
      "source": [
        "product = np.dot(matrix_7, matrix_8)"
      ],
      "metadata": {
        "id": "g_JDwJ-MyzOC"
      },
      "execution_count": 40,
      "outputs": []
    },
    {
      "cell_type": "code",
      "source": [
        "print(product)"
      ],
      "metadata": {
        "colab": {
          "base_uri": "https://localhost:8080/"
        },
        "id": "DW5paLl_y3g4",
        "outputId": "e3c1cf50-5269-4143-f667-b57727fae648"
      },
      "execution_count": 41,
      "outputs": [
        {
          "output_type": "stream",
          "name": "stdout",
          "text": [
            "[[ 2  6 19  4]\n",
            " [ 6 10 17 12]\n",
            " [ 8 11 18  9]]\n"
          ]
        }
      ]
    },
    {
      "cell_type": "code",
      "source": [
        "product.shape"
      ],
      "metadata": {
        "colab": {
          "base_uri": "https://localhost:8080/"
        },
        "id": "t5PzsWA5y4--",
        "outputId": "7a3eee6e-bf6d-4a32-f301-72156a7b596f"
      },
      "execution_count": 42,
      "outputs": [
        {
          "output_type": "execute_result",
          "data": {
            "text/plain": [
              "(3, 4)"
            ]
          },
          "metadata": {},
          "execution_count": 42
        }
      ]
    },
    {
      "cell_type": "code",
      "source": [
        "# create two matrices with random values\n",
        "matrix_9 = np.random.randint(5, size=(3,3))\n",
        "matrix_10 = np.random.randint(5, size=(4,4))"
      ],
      "metadata": {
        "id": "8dCXftQ5y9hp"
      },
      "execution_count": 44,
      "outputs": []
    },
    {
      "cell_type": "code",
      "source": [
        "product = np.dot(matrix_9, matrix_10)\n",
        "# we get error here as the column in matrix_9 and matrix_10 doesn't match"
      ],
      "metadata": {
        "colab": {
          "base_uri": "https://localhost:8080/",
          "height": 176
        },
        "id": "_xvxyaivzZ1A",
        "outputId": "49410838-cb05-48fe-f43c-07546a23ac35"
      },
      "execution_count": 46,
      "outputs": [
        {
          "output_type": "error",
          "ename": "ValueError",
          "evalue": "shapes (3,3) and (4,4) not aligned: 3 (dim 1) != 4 (dim 0)",
          "traceback": [
            "\u001b[0;31m---------------------------------------------------------------------------\u001b[0m",
            "\u001b[0;31mValueError\u001b[0m                                Traceback (most recent call last)",
            "\u001b[0;32m/tmp/ipython-input-2181416472.py\u001b[0m in \u001b[0;36m<cell line: 0>\u001b[0;34m()\u001b[0m\n\u001b[0;32m----> 1\u001b[0;31m \u001b[0mproduct\u001b[0m \u001b[0;34m=\u001b[0m \u001b[0mnp\u001b[0m\u001b[0;34m.\u001b[0m\u001b[0mdot\u001b[0m\u001b[0;34m(\u001b[0m\u001b[0mmatrix_9\u001b[0m\u001b[0;34m,\u001b[0m \u001b[0mmatrix_10\u001b[0m\u001b[0;34m)\u001b[0m\u001b[0;34m\u001b[0m\u001b[0;34m\u001b[0m\u001b[0m\n\u001b[0m\u001b[1;32m      2\u001b[0m \u001b[0;31m# we get error here as the column in matrix_9 and matrix_10 doesn't match\u001b[0m\u001b[0;34m\u001b[0m\u001b[0;34m\u001b[0m\u001b[0m\n",
            "\u001b[0;31mValueError\u001b[0m: shapes (3,3) and (4,4) not aligned: 3 (dim 1) != 4 (dim 0)"
          ]
        }
      ]
    },
    {
      "cell_type": "markdown",
      "source": [
        "Element wise Matrix Maultiplication"
      ],
      "metadata": {
        "id": "QULMpjGjz2I9"
      }
    },
    {
      "cell_type": "code",
      "source": [
        "# create two matrices with random values\n",
        "matrix_11 = np.random.randint(5, size=(3,3))\n",
        "matrix_12 = np.random.randint(5, size=(3,3))"
      ],
      "metadata": {
        "id": "fYVw35Xezo2f"
      },
      "execution_count": 51,
      "outputs": []
    },
    {
      "cell_type": "code",
      "source": [
        "print(matrix_11)"
      ],
      "metadata": {
        "colab": {
          "base_uri": "https://localhost:8080/"
        },
        "id": "v-e92KVkz_F6",
        "outputId": "9540ac27-adcd-4be2-8163-9f8b7f6a52a6"
      },
      "execution_count": 52,
      "outputs": [
        {
          "output_type": "stream",
          "name": "stdout",
          "text": [
            "[[2 0 0]\n",
            " [3 3 3]\n",
            " [4 3 3]]\n"
          ]
        }
      ]
    },
    {
      "cell_type": "code",
      "source": [
        "print(matrix_12)"
      ],
      "metadata": {
        "colab": {
          "base_uri": "https://localhost:8080/"
        },
        "id": "-yHmQ2JL0EX9",
        "outputId": "f4970021-22cd-4fe4-c3d1-9a5841f8982c"
      },
      "execution_count": 53,
      "outputs": [
        {
          "output_type": "stream",
          "name": "stdout",
          "text": [
            "[[0 1 4]\n",
            " [1 3 4]\n",
            " [1 2 0]]\n"
          ]
        }
      ]
    },
    {
      "cell_type": "code",
      "source": [
        "product = np.multiply(matrix_11, matrix_12)"
      ],
      "metadata": {
        "id": "Qxi4KD_r0F_-"
      },
      "execution_count": 54,
      "outputs": []
    },
    {
      "cell_type": "code",
      "source": [
        "print(product)"
      ],
      "metadata": {
        "colab": {
          "base_uri": "https://localhost:8080/"
        },
        "id": "ZvjBQwyJ0KJH",
        "outputId": "be9bcec8-7fa6-46c6-da2e-8bc4ab26de04"
      },
      "execution_count": 55,
      "outputs": [
        {
          "output_type": "stream",
          "name": "stdout",
          "text": [
            "[[ 0  0  0]\n",
            " [ 3  9 12]\n",
            " [ 4  6  0]]\n"
          ]
        }
      ]
    },
    {
      "cell_type": "code",
      "source": [],
      "metadata": {
        "id": "3jbV0eSI0c1H"
      },
      "execution_count": null,
      "outputs": []
    }
  ]
}